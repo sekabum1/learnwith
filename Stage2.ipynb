{
 "cells": [
  {
   "cell_type": "markdown",
   "metadata": {
    "id": "9ySSxTeBMAGP"
   },
   "source": [
    "# **ステージ2**\n",
    "## **データの可視化と回帰分析**"
   ]
  },
  {
   "cell_type": "markdown",
   "metadata": {
    "id": "IIfYA46qKiHl"
   },
   "source": [
    "*Stage1で行った土地データの下処理に少し手を加えたものがデータセットdata_sample3に格納されている。このデータセットを使って、データの可視化（グラフ化）と教師あり学習に分類される回帰分析を実践せよ。*"
   ]
  },
  {
   "cell_type": "markdown",
   "metadata": {
    "id": "ixAlACD1RCJI"
   },
   "source": [
    "---"
   ]
  },
  {
   "cell_type": "markdown",
   "metadata": {
    "id": "lipTLR4lRHea"
   },
   "source": [
    "## **インストラクション**"
   ]
  },
  {
   "cell_type": "markdown",
   "metadata": {
    "id": "hbAlOHiuRKYM"
   },
   "source": [
    "*   解答用紙をダウンロードし、決められた提出方法で提出して下さい。\n",
    "*   全ての演習は、難易度の高い順に、最も簡単なものから最も難しいものへと慎重に配置\n",
    "されています。\n",
    "*   解答は不完全な形でも、何度でも提出可能です。\n",
    "*   運営はQuestに関する一切の質問にお答えできません。質問があれば、Discord内で他の学習者に尋ねて下さい。\n",
    "* DiscordでのコミュニケーションでQuestの解決が困難な場合は、ピアレビューを活用し\n",
    "てください。"
   ]
  },
  {
   "cell_type": "markdown",
   "metadata": {
    "id": "ExM00WSZRGLi"
   },
   "source": [
    "___"
   ]
  },
  {
   "cell_type": "markdown",
   "metadata": {
    "id": "Df5wx9ih_gXx"
   },
   "source": [
    "# Quest 01: データ型を確認せよ"
   ]
  },
  {
   "cell_type": "markdown",
   "metadata": {
    "id": "CWIzozprwmzE"
   },
   "source": [
    "データセット：　https://drive.google.com/drive/folders/1x3GB8by_JWogLe-CaHjatxIdgSDE-tHu?usp=sharing"
   ]
  },
  {
   "cell_type": "markdown",
   "metadata": {
    "id": "HhBqoJ1UR4vl"
   },
   "source": [
    " 1. pandas, numpy, matplotlibからpyplotをインポートし、data_sample3.csvを読み込み、変数sample3に代入せよ。"
   ]
  },
  {
   "cell_type": "code",
   "execution_count": 318,
   "metadata": {
    "id": "mJQ2wlqJxHDv"
   },
   "outputs": [],
   "source": [
    "import pandas as pd\n",
    "import numpy as np\n",
    "from matplotlib import pyplot as plt\n",
    "sample3=pd.read_csv(\"data_sample3.csv\")"
   ]
  },
  {
   "cell_type": "markdown",
   "metadata": {
    "id": "HB_1VgvKTR4q"
   },
   "source": [
    "2. 変数sample3の要約統計量を取得せよ。"
   ]
  },
  {
   "cell_type": "code",
   "execution_count": 319,
   "metadata": {
    "id": "QCcvS5_6xIdw"
   },
   "outputs": [
    {
     "data": {
      "text/html": [
       "<div>\n",
       "<style scoped>\n",
       "    .dataframe tbody tr th:only-of-type {\n",
       "        vertical-align: middle;\n",
       "    }\n",
       "\n",
       "    .dataframe tbody tr th {\n",
       "        vertical-align: top;\n",
       "    }\n",
       "\n",
       "    .dataframe thead th {\n",
       "        text-align: right;\n",
       "    }\n",
       "</style>\n",
       "<table border=\"1\" class=\"dataframe\">\n",
       "  <thead>\n",
       "    <tr style=\"text-align: right;\">\n",
       "      <th></th>\n",
       "      <th>最寄駅：距離（分）</th>\n",
       "      <th>面積（㎡）</th>\n",
       "      <th>築年数</th>\n",
       "      <th>建ぺい率（％）</th>\n",
       "      <th>容積率（％）</th>\n",
       "      <th>取引価格（総額）</th>\n",
       "      <th>間取り_スタジオ</th>\n",
       "      <th>間取り_１ＤＫ</th>\n",
       "      <th>間取り_１ＤＫ＋Ｓ</th>\n",
       "      <th>間取り_１Ｋ</th>\n",
       "      <th>...</th>\n",
       "      <th>市区町村名_練馬区</th>\n",
       "      <th>市区町村名_羽村市</th>\n",
       "      <th>市区町村名_荒川区</th>\n",
       "      <th>市区町村名_葛飾区</th>\n",
       "      <th>市区町村名_西多摩郡瑞穂町</th>\n",
       "      <th>市区町村名_西東京市</th>\n",
       "      <th>市区町村名_調布市</th>\n",
       "      <th>市区町村名_豊島区</th>\n",
       "      <th>市区町村名_足立区</th>\n",
       "      <th>市区町村名_青梅市</th>\n",
       "    </tr>\n",
       "  </thead>\n",
       "  <tbody>\n",
       "    <tr>\n",
       "      <th>count</th>\n",
       "      <td>26610.000000</td>\n",
       "      <td>26610.000000</td>\n",
       "      <td>26610.000000</td>\n",
       "      <td>26610.000000</td>\n",
       "      <td>26610.000000</td>\n",
       "      <td>2.661000e+04</td>\n",
       "      <td>26610.000000</td>\n",
       "      <td>26610.000000</td>\n",
       "      <td>26610.000000</td>\n",
       "      <td>26610.000000</td>\n",
       "      <td>...</td>\n",
       "      <td>26610.000000</td>\n",
       "      <td>26610.000000</td>\n",
       "      <td>26610.000000</td>\n",
       "      <td>26610.000000</td>\n",
       "      <td>26610.000000</td>\n",
       "      <td>26610.000000</td>\n",
       "      <td>26610.000000</td>\n",
       "      <td>26610.000000</td>\n",
       "      <td>26610.000000</td>\n",
       "      <td>26610.000000</td>\n",
       "    </tr>\n",
       "    <tr>\n",
       "      <th>mean</th>\n",
       "      <td>7.332657</td>\n",
       "      <td>46.781661</td>\n",
       "      <td>19.181323</td>\n",
       "      <td>69.123638</td>\n",
       "      <td>355.892522</td>\n",
       "      <td>3.483831e+07</td>\n",
       "      <td>0.000113</td>\n",
       "      <td>0.049117</td>\n",
       "      <td>0.000113</td>\n",
       "      <td>0.312176</td>\n",
       "      <td>...</td>\n",
       "      <td>0.041338</td>\n",
       "      <td>0.001165</td>\n",
       "      <td>0.016460</td>\n",
       "      <td>0.022698</td>\n",
       "      <td>0.000075</td>\n",
       "      <td>0.006426</td>\n",
       "      <td>0.009996</td>\n",
       "      <td>0.031530</td>\n",
       "      <td>0.033897</td>\n",
       "      <td>0.004961</td>\n",
       "    </tr>\n",
       "    <tr>\n",
       "      <th>std</th>\n",
       "      <td>4.619065</td>\n",
       "      <td>25.633344</td>\n",
       "      <td>12.332937</td>\n",
       "      <td>10.513451</td>\n",
       "      <td>152.308683</td>\n",
       "      <td>3.335287e+07</td>\n",
       "      <td>0.010617</td>\n",
       "      <td>0.216116</td>\n",
       "      <td>0.010617</td>\n",
       "      <td>0.463390</td>\n",
       "      <td>...</td>\n",
       "      <td>0.199074</td>\n",
       "      <td>0.034112</td>\n",
       "      <td>0.127239</td>\n",
       "      <td>0.148942</td>\n",
       "      <td>0.008669</td>\n",
       "      <td>0.079907</td>\n",
       "      <td>0.099482</td>\n",
       "      <td>0.174747</td>\n",
       "      <td>0.180968</td>\n",
       "      <td>0.070258</td>\n",
       "    </tr>\n",
       "    <tr>\n",
       "      <th>min</th>\n",
       "      <td>0.000000</td>\n",
       "      <td>10.000000</td>\n",
       "      <td>0.000000</td>\n",
       "      <td>30.000000</td>\n",
       "      <td>60.000000</td>\n",
       "      <td>5.000000e+05</td>\n",
       "      <td>0.000000</td>\n",
       "      <td>0.000000</td>\n",
       "      <td>0.000000</td>\n",
       "      <td>0.000000</td>\n",
       "      <td>...</td>\n",
       "      <td>0.000000</td>\n",
       "      <td>0.000000</td>\n",
       "      <td>0.000000</td>\n",
       "      <td>0.000000</td>\n",
       "      <td>0.000000</td>\n",
       "      <td>0.000000</td>\n",
       "      <td>0.000000</td>\n",
       "      <td>0.000000</td>\n",
       "      <td>0.000000</td>\n",
       "      <td>0.000000</td>\n",
       "    </tr>\n",
       "    <tr>\n",
       "      <th>25%</th>\n",
       "      <td>4.000000</td>\n",
       "      <td>20.000000</td>\n",
       "      <td>10.000000</td>\n",
       "      <td>60.000000</td>\n",
       "      <td>200.000000</td>\n",
       "      <td>2.000000e+07</td>\n",
       "      <td>0.000000</td>\n",
       "      <td>0.000000</td>\n",
       "      <td>0.000000</td>\n",
       "      <td>0.000000</td>\n",
       "      <td>...</td>\n",
       "      <td>0.000000</td>\n",
       "      <td>0.000000</td>\n",
       "      <td>0.000000</td>\n",
       "      <td>0.000000</td>\n",
       "      <td>0.000000</td>\n",
       "      <td>0.000000</td>\n",
       "      <td>0.000000</td>\n",
       "      <td>0.000000</td>\n",
       "      <td>0.000000</td>\n",
       "      <td>0.000000</td>\n",
       "    </tr>\n",
       "    <tr>\n",
       "      <th>50%</th>\n",
       "      <td>6.000000</td>\n",
       "      <td>50.000000</td>\n",
       "      <td>16.000000</td>\n",
       "      <td>60.000000</td>\n",
       "      <td>300.000000</td>\n",
       "      <td>2.800000e+07</td>\n",
       "      <td>0.000000</td>\n",
       "      <td>0.000000</td>\n",
       "      <td>0.000000</td>\n",
       "      <td>0.000000</td>\n",
       "      <td>...</td>\n",
       "      <td>0.000000</td>\n",
       "      <td>0.000000</td>\n",
       "      <td>0.000000</td>\n",
       "      <td>0.000000</td>\n",
       "      <td>0.000000</td>\n",
       "      <td>0.000000</td>\n",
       "      <td>0.000000</td>\n",
       "      <td>0.000000</td>\n",
       "      <td>0.000000</td>\n",
       "      <td>0.000000</td>\n",
       "    </tr>\n",
       "    <tr>\n",
       "      <th>75%</th>\n",
       "      <td>10.000000</td>\n",
       "      <td>65.000000</td>\n",
       "      <td>28.000000</td>\n",
       "      <td>80.000000</td>\n",
       "      <td>500.000000</td>\n",
       "      <td>4.200000e+07</td>\n",
       "      <td>0.000000</td>\n",
       "      <td>0.000000</td>\n",
       "      <td>0.000000</td>\n",
       "      <td>1.000000</td>\n",
       "      <td>...</td>\n",
       "      <td>0.000000</td>\n",
       "      <td>0.000000</td>\n",
       "      <td>0.000000</td>\n",
       "      <td>0.000000</td>\n",
       "      <td>0.000000</td>\n",
       "      <td>0.000000</td>\n",
       "      <td>0.000000</td>\n",
       "      <td>0.000000</td>\n",
       "      <td>0.000000</td>\n",
       "      <td>0.000000</td>\n",
       "    </tr>\n",
       "    <tr>\n",
       "      <th>max</th>\n",
       "      <td>29.000000</td>\n",
       "      <td>710.000000</td>\n",
       "      <td>69.000000</td>\n",
       "      <td>80.000000</td>\n",
       "      <td>1200.000000</td>\n",
       "      <td>1.400000e+09</td>\n",
       "      <td>1.000000</td>\n",
       "      <td>1.000000</td>\n",
       "      <td>1.000000</td>\n",
       "      <td>1.000000</td>\n",
       "      <td>...</td>\n",
       "      <td>1.000000</td>\n",
       "      <td>1.000000</td>\n",
       "      <td>1.000000</td>\n",
       "      <td>1.000000</td>\n",
       "      <td>1.000000</td>\n",
       "      <td>1.000000</td>\n",
       "      <td>1.000000</td>\n",
       "      <td>1.000000</td>\n",
       "      <td>1.000000</td>\n",
       "      <td>1.000000</td>\n",
       "    </tr>\n",
       "  </tbody>\n",
       "</table>\n",
       "<p>8 rows × 87 columns</p>\n",
       "</div>"
      ],
      "text/plain": [
       "          最寄駅：距離（分）         面積（㎡）           築年数       建ぺい率（％）        容積率（％）  \\\n",
       "count  26610.000000  26610.000000  26610.000000  26610.000000  26610.000000   \n",
       "mean       7.332657     46.781661     19.181323     69.123638    355.892522   \n",
       "std        4.619065     25.633344     12.332937     10.513451    152.308683   \n",
       "min        0.000000     10.000000      0.000000     30.000000     60.000000   \n",
       "25%        4.000000     20.000000     10.000000     60.000000    200.000000   \n",
       "50%        6.000000     50.000000     16.000000     60.000000    300.000000   \n",
       "75%       10.000000     65.000000     28.000000     80.000000    500.000000   \n",
       "max       29.000000    710.000000     69.000000     80.000000   1200.000000   \n",
       "\n",
       "           取引価格（総額）      間取り_スタジオ       間取り_１ＤＫ     間取り_１ＤＫ＋Ｓ        間取り_１Ｋ  \\\n",
       "count  2.661000e+04  26610.000000  26610.000000  26610.000000  26610.000000   \n",
       "mean   3.483831e+07      0.000113      0.049117      0.000113      0.312176   \n",
       "std    3.335287e+07      0.010617      0.216116      0.010617      0.463390   \n",
       "min    5.000000e+05      0.000000      0.000000      0.000000      0.000000   \n",
       "25%    2.000000e+07      0.000000      0.000000      0.000000      0.000000   \n",
       "50%    2.800000e+07      0.000000      0.000000      0.000000      0.000000   \n",
       "75%    4.200000e+07      0.000000      0.000000      0.000000      1.000000   \n",
       "max    1.400000e+09      1.000000      1.000000      1.000000      1.000000   \n",
       "\n",
       "       ...     市区町村名_練馬区     市区町村名_羽村市     市区町村名_荒川区     市区町村名_葛飾区  \\\n",
       "count  ...  26610.000000  26610.000000  26610.000000  26610.000000   \n",
       "mean   ...      0.041338      0.001165      0.016460      0.022698   \n",
       "std    ...      0.199074      0.034112      0.127239      0.148942   \n",
       "min    ...      0.000000      0.000000      0.000000      0.000000   \n",
       "25%    ...      0.000000      0.000000      0.000000      0.000000   \n",
       "50%    ...      0.000000      0.000000      0.000000      0.000000   \n",
       "75%    ...      0.000000      0.000000      0.000000      0.000000   \n",
       "max    ...      1.000000      1.000000      1.000000      1.000000   \n",
       "\n",
       "       市区町村名_西多摩郡瑞穂町    市区町村名_西東京市     市区町村名_調布市     市区町村名_豊島区     市区町村名_足立区  \\\n",
       "count   26610.000000  26610.000000  26610.000000  26610.000000  26610.000000   \n",
       "mean        0.000075      0.006426      0.009996      0.031530      0.033897   \n",
       "std         0.008669      0.079907      0.099482      0.174747      0.180968   \n",
       "min         0.000000      0.000000      0.000000      0.000000      0.000000   \n",
       "25%         0.000000      0.000000      0.000000      0.000000      0.000000   \n",
       "50%         0.000000      0.000000      0.000000      0.000000      0.000000   \n",
       "75%         0.000000      0.000000      0.000000      0.000000      0.000000   \n",
       "max         1.000000      1.000000      1.000000      1.000000      1.000000   \n",
       "\n",
       "          市区町村名_青梅市  \n",
       "count  26610.000000  \n",
       "mean       0.004961  \n",
       "std        0.070258  \n",
       "min        0.000000  \n",
       "25%        0.000000  \n",
       "50%        0.000000  \n",
       "75%        0.000000  \n",
       "max        1.000000  \n",
       "\n",
       "[8 rows x 87 columns]"
      ]
     },
     "execution_count": 319,
     "metadata": {},
     "output_type": "execute_result"
    }
   ],
   "source": [
    "sample3.describe()"
   ]
  },
  {
   "cell_type": "markdown",
   "metadata": {
    "id": "mGuCZReqTVqm"
   },
   "source": [
    "3. 変数sample3のデータ型がDataFrameであることを確認せよ。"
   ]
  },
  {
   "cell_type": "code",
   "execution_count": 320,
   "metadata": {
    "id": "I3ULVR09xKPm"
   },
   "outputs": [
    {
     "data": {
      "text/plain": [
       "pandas.core.frame.DataFrame"
      ]
     },
     "execution_count": 320,
     "metadata": {},
     "output_type": "execute_result"
    }
   ],
   "source": [
    "type(sample3)"
   ]
  },
  {
   "cell_type": "markdown",
   "metadata": {
    "id": "cEpPy6TeTbZ1"
   },
   "source": [
    "4. 変数sample3から”築年数”列のみを抜き出し、変数established_varに代入した後、そのデータ型を確認せよ。"
   ]
  },
  {
   "cell_type": "code",
   "execution_count": 321,
   "metadata": {
    "id": "pHVNUycTxOl6"
   },
   "outputs": [
    {
     "data": {
      "text/plain": [
       "pandas.core.series.Series"
      ]
     },
     "execution_count": 321,
     "metadata": {},
     "output_type": "execute_result"
    }
   ],
   "source": [
    "established_var=sample3[\"築年数\"]\n",
    "type(established_var)"
   ]
  },
  {
   "cell_type": "markdown",
   "metadata": {
    "id": "posluVJk_suf"
   },
   "source": [
    "# Quest 02: 可視化せよ（ヒストグラム）\n",
    "\n",
    "\n"
   ]
  },
  {
   "cell_type": "markdown",
   "metadata": {
    "id": "BWXNb4rNTg7c"
   },
   "source": [
    "1. 変数established_varをヒストグラムで描き、表示させよ。その際、タイトルを’established’、x軸を'year'、y軸を'freq'と設定せよ。"
   ]
  },
  {
   "cell_type": "code",
   "execution_count": 322,
   "metadata": {
    "id": "_QbN3W1axRUR"
   },
   "outputs": [
    {
     "data": {
      "image/png": "[encoded data removed]",
      "text/plain": [
       "<Figure size 432x288 with 1 Axes>"
      ]
     },
     "metadata": {
      "needs_background": "light"
     },
     "output_type": "display_data"
    }
   ],
   "source": [
    "plt.hist(established_var)\n",
    "plt.title(\"established\")\n",
    "plt.xlabel(\"year\")\n",
    "plt.ylabel(\"freq\")\n",
    "plt.show()"
   ]
  },
  {
   "cell_type": "markdown",
   "metadata": {
    "id": "Brk7trBoTnMT"
   },
   "source": [
    " 2. カラム\"取引価格（総額）\"を6000万円未満の不動産に絞り、ヒストグラムを生成し、表示せよ。その際、タイトルを\"total_price\"、x軸を\"price_range\"、y軸を\"freq\"と設定せよ。"
   ]
  },
  {
   "cell_type": "code",
   "execution_count": 323,
   "metadata": {
    "id": "QsMeJ9HKxS-K"
   },
   "outputs": [
    {
     "data": {
      "image/png": "[encoded data removed]",
      "text/plain": [
       "<Figure size 432x288 with 1 Axes>"
      ]
     },
     "metadata": {
      "needs_background": "light"
     },
     "output_type": "display_data"
    }
   ],
   "source": [
    "b=sample3[\"取引価格（総額）\"]\n",
    "n=len(b)\n",
    "a=[]\n",
    "i=0\n",
    "for i in range(n):\n",
    "    if  b[i]<60000000:\n",
    "        a.append(b[i])\n",
    "    i=+1\n",
    "plt.hist(a)\n",
    "plt.title(\"total_price\")\n",
    "plt.xlabel(\"price_range\")\n",
    "plt.ylabel(\"freq\")\n",
    "plt.show(a)\n"
   ]
  },
  {
   "cell_type": "markdown",
   "metadata": {
    "id": "FyJrfafmTqjJ"
   },
   "source": [
    "3. \"取引価格（総額）\"6000万円未満の不動産の価格の最頻値を確認せよ。"
   ]
  },
  {
   "cell_type": "code",
   "execution_count": 324,
   "metadata": {
    "id": "JR-R20YfxV95"
   },
   "outputs": [
    {
     "data": {
      "text/plain": [
       "22000000"
      ]
     },
     "execution_count": 324,
     "metadata": {},
     "output_type": "execute_result"
    }
   ],
   "source": [
    "import statistics\n",
    "statistics.mode(a)"
   ]
  },
  {
   "cell_type": "markdown",
   "metadata": {
    "id": "Gz19CvX2oaVE"
   },
   "source": [
    "# Quest 03: 可視化せよ（棒グラフとヒートマップ）"
   ]
  },
  {
   "cell_type": "markdown",
   "metadata": {
    "id": "hYvxWfllT3rA"
   },
   "source": [
    "1. '最寄駅：距離（分）'の頻度値を算出し、変数countsに代入しましょう。"
   ]
  },
  {
   "cell_type": "code",
   "execution_count": 355,
   "metadata": {
    "id": "f_mAaL8wxYkp"
   },
   "outputs": [
    {
     "data": {
      "text/plain": [
       "4.0     2813\n",
       "6.0     2655\n",
       "5.0     2554\n",
       "3.0     2374\n",
       "8.0     2365\n",
       "7.0     1987\n",
       "9.0     1965\n",
       "2.0     1727\n",
       "10.0    1438\n",
       "11.0    1302\n",
       "1.0     1104\n",
       "12.0     796\n",
       "13.0     742\n",
       "14.0     627\n",
       "15.0     473\n",
       "16.0     385\n",
       "18.0     290\n",
       "0.0      188\n",
       "19.0     185\n",
       "20.0     182\n",
       "21.0      89\n",
       "23.0      85\n",
       "17.0      62\n",
       "25.0      54\n",
       "24.0      49\n",
       "28.0      46\n",
       "29.0      34\n",
       "26.0      28\n",
       "22.0       7\n",
       "27.0       4\n",
       "Name: 最寄駅：距離（分）, dtype: int64"
      ]
     },
     "execution_count": 355,
     "metadata": {},
     "output_type": "execute_result"
    }
   ],
   "source": [
    "counts=pd.value_counts(sample3['最寄駅：距離（分）'])"
   ]
  },
  {
   "cell_type": "markdown",
   "metadata": {
    "id": "wZMl2tElT9iA"
   },
   "source": [
    "2. 変数countsを利用し、棒グラフを描け。その際、タイトルは「minutes_station」とし、x軸とy軸にはそれぞれ「Minutes」「Count」という名前をつけよ。"
   ]
  },
  {
   "cell_type": "code",
   "execution_count": 381,
   "metadata": {
    "id": "erKYwJABxZo6"
   },
   "outputs": [
    {
     "data": {
      "image/png": "[encoded data removed]",
      "text/plain": [
       "<Figure size 432x288 with 1 Axes>"
      ]
     },
     "metadata": {
      "needs_background": "light"
     },
     "output_type": "display_data"
    }
   ],
   "source": [
    "minutes=[0,1,2,3,4,5,6,7,8,9,10,11,12,13,14,15,16,17,18,19,20,21,22,23,24,25,26,27,28,29]\n",
    "i=0\n",
    "a=[]\n",
    "for i in range(30):\n",
    "    a.append(counts[i])\n",
    "    i=+1\n",
    "\n",
    "plt.bar(minutes,a)\n",
    "plt.title(\"minutes_station\")\n",
    "plt.xlabel(\"Minutes\")\n",
    "plt.ylabel(\"Count\")\n",
    "plt.show()"
   ]
  },
  {
   "cell_type": "markdown",
   "metadata": {
    "id": "Veo-O4l7UAin"
   },
   "source": [
    "3. seabornをsnsとしてインポートし、sample3の相関係数を求めよ。"
   ]
  },
  {
   "cell_type": "code",
   "execution_count": null,
   "metadata": {
    "id": "Dl-u74N0xa5Q"
   },
   "outputs": [],
   "source": [
    "import seaborn as sns\n",
    "sample3.corr()"
   ]
  },
  {
   "cell_type": "markdown",
   "metadata": {
    "id": "gff3LfL7UE47"
   },
   "source": [
    "4. seabornをsnsとしてインポートした後、sample3の相関係数を変数corr_matrixに代入し、heatmapで可視化せよ。"
   ]
  },
  {
   "cell_type": "code",
   "execution_count": null,
   "metadata": {
    "id": "pH1oBtk5xcFP"
   },
   "outputs": [],
   "source": [
    "corr_matrix=sample3.corr()\n",
    "sns.heatmap(corr_matrix)"
   ]
  },
  {
   "cell_type": "markdown",
   "metadata": {
    "id": "AFY0RLgfxyne"
   },
   "source": [
    "# Quest 04:　散布図と箱ひげ図"
   ]
  },
  {
   "cell_type": "markdown",
   "metadata": {
    "id": "DWbeKIS9UMWX"
   },
   "source": [
    "1. seabornを用いて、x軸に’面積（㎡）’、y軸に’取引価格（総額）’を割り当て散布図を描画せよ。 "
   ]
  },
  {
   "cell_type": "code",
   "execution_count": null,
   "metadata": {
    "id": "91A8PMI6xd5T"
   },
   "outputs": [],
   "source": [
    "sns.jointplot(\"面積（㎡）\",\"取引価格（総額）\",data=sample3)"
   ]
  },
  {
   "cell_type": "markdown",
   "metadata": {
    "id": "bers4DTpYgPp"
   },
   "source": [
    "2. 同じくseabornを用いて\"最寄駅：距離（分）\"と”取引価格（総額）”の関係を箱ひげ図で可視化せよ。"
   ]
  },
  {
   "cell_type": "code",
   "execution_count": null,
   "metadata": {
    "id": "yMyaQLsexfJD"
   },
   "outputs": [],
   "source": [
    "sns.boxplot(\"最寄駅：距離（分）\",\"取引価格（総額）\",data=sample3)"
   ]
  },
  {
   "cell_type": "markdown",
   "metadata": {
    "id": "1_xPaq1NYD-U"
   },
   "source": [
    "# Quest 05: 線形回帰を実践せよ\n",
    "\n",
    "\n",
    "---\n",
    "\n",
    "\n"
   ]
  },
  {
   "cell_type": "markdown",
   "metadata": {
    "id": "F0fbx6Ypyey_"
   },
   "source": [
    "回帰分析とは、ある変数xが与えられたとき、それと相関関係があり連続値であるyの値を説明・予測することです。例として以下のような分析結果を求めることができます。\n",
    "\n",
    "\n",
    "*   部屋面積が１平方メートル広くなると、不動産価格にどれほど影響を与えるのか\n",
    "*   ある部屋面積の時、不動産価格は大体いくらか\n",
    "\n",
    "\n"
   ]
  },
  {
   "cell_type": "markdown",
   "metadata": {
    "id": "_ZIqmhSfct5U"
   },
   "source": [
    "※ここからはscikit-learnライブラリを使用します。\n",
    "\n",
    "*   データの前処理や、モデル作成まで色々揃っている素晴らしいライブラリ\n",
    "*   今回用いる線形回帰はもちろん、様々なモデルを作ることができる\n",
    "*   なるべくなら、scikit-learnの中だけで完結してソースコードがかけるとよい\n",
    "\n",
    "  今回は、そのライブラリから、以下のものを使用する\n",
    "\n",
    "    1.   LinearRegression: 線形回帰をするためのモジュール\n",
    "    2.   train_test_split: 学習データとテストデータを分割する\n",
    "\n",
    "\n",
    "---\n",
    "\n",
    "\n",
    "\n",
    "---\n",
    "\n"
   ]
  },
  {
   "cell_type": "markdown",
   "metadata": {
    "id": "hzqe1PoA831S"
   },
   "source": [
    "1. sklearn.linear_modelからLinearRegressionモジュールを、scikit-learnライブラリからtrain_test_split関数をインポートせよ。"
   ]
  },
  {
   "cell_type": "code",
   "execution_count": null,
   "metadata": {
    "id": "rQa5CXGpxnXu"
   },
   "outputs": [],
   "source": [
    "from sklearn.linear_model import LinearRegression\n",
    "from sklearn.model_selection import train_test_split as split"
   ]
  },
  {
   "cell_type": "markdown",
   "metadata": {
    "id": "54ZZ1QSq6VD_"
   },
   "source": [
    "2. train_test_split関数でデフォルトで設定されている学習用データの分割(%の値)を変数percentに代入し、出力せよ。"
   ]
  },
  {
   "cell_type": "code",
   "execution_count": null,
   "metadata": {
    "id": "0XBgEE2zxsi6"
   },
   "outputs": [],
   "source": [
    "sample3_train,sample3_test=split(sample3)\n",
    "persent=len(sample3_train)/len(sample3)\n",
    "persent"
   ]
  },
  {
   "cell_type": "markdown",
   "metadata": {
    "id": "wdb_aU5W-xvc"
   },
   "source": [
    "3. scikit-learnで線形回帰用のインスタンスをlrとして生成せよ。"
   ]
  },
  {
   "cell_type": "code",
   "execution_count": null,
   "metadata": {
    "id": "C71NeDPTxxQr"
   },
   "outputs": [],
   "source": [
    "lr=LinearRegression()"
   ]
  },
  {
   "cell_type": "markdown",
   "metadata": {
    "id": "Ih8jLW9h-3vp"
   },
   "source": [
    "4. 「面積（㎡）」を説明変数として変数xに、「取引価格（総額）」を目的変数(教師データ)として変数yに代入せよ。"
   ]
  },
  {
   "cell_type": "code",
   "execution_count": null,
   "metadata": {
    "id": "lhBJZ-yOxygN"
   },
   "outputs": [],
   "source": [
    "x=sample3[[\"面積（㎡）\"]].values\n",
    "y=sample3[\"取引価格（総額）\"].values"
   ]
  },
  {
   "cell_type": "markdown",
   "metadata": {
    "id": "3xxzCxRpqSFP"
   },
   "source": [
    "5.　fitメソッドを用いて線形モデルの重みを学習させよ。"
   ]
  },
  {
   "cell_type": "code",
   "execution_count": null,
   "metadata": {
    "id": "C7KyToA8xzeC"
   },
   "outputs": [],
   "source": [
    "lr.fit(x,y)"
   ]
  },
  {
   "cell_type": "markdown",
   "metadata": {
    "id": "BtXEVhrFwZdN"
   },
   "source": [
    "6. 学習されたパラメータの値である、偏回帰係数と切片を求め、表示させよ。"
   ]
  },
  {
   "cell_type": "code",
   "execution_count": null,
   "metadata": {
    "id": "yz0BhSxCx0tR"
   },
   "outputs": [],
   "source": [
    "print('coefficient = ', lr.coef_[0])\n",
    "print('intercept = ', lr.intercept_) "
   ]
  },
  {
   "cell_type": "markdown",
   "metadata": {
    "id": "eD4FoLF4xIMs"
   },
   "source": [
    "7. 6の結果を参照し、以下の文中にある変数priceに入る値を表示させよ。（小数点以下は切り捨て）\n",
    "「部屋面積が1𝑚2 増加するごとに、price円程度取引価格が増加する」"
   ]
  },
  {
   "cell_type": "code",
   "execution_count": null,
   "metadata": {
    "id": "-Linac0Px2VM"
   },
   "outputs": [],
   "source": [
    "import math\n",
    "price=math.floor(lr.coef_[0])\n",
    "price"
   ]
  },
  {
   "cell_type": "markdown",
   "metadata": {
    "id": "Q5Y6Otebyu4E"
   },
   "source": [
    "# Quest 06: 重回帰分析を実践せよ"
   ]
  },
  {
   "cell_type": "markdown",
   "metadata": {
    "id": "9vhigfEZzViK"
   },
   "source": [
    "1. ｘに「最寄駅：距離（分）」「面積（㎡）」「築年数」「建ぺい率（％）」の4つのデータ、yに「取引価格（総額）」を代入し、それぞれの先頭５行を表示させよ。"
   ]
  },
  {
   "cell_type": "code",
   "execution_count": null,
   "metadata": {
    "id": "PWxbQMWqx4Ew"
   },
   "outputs": [],
   "source": [
    "x=sample3_train[[\"最寄駅：距離（分）\",\"面積（㎡）\",\"築年数\",\"建ぺい率（％）\"]]\n",
    "y=sample3_train[\"取引価格（総額）\"]\n",
    "print(x.head())\n",
    "print(y.head())"
   ]
  },
  {
   "cell_type": "markdown",
   "metadata": {
    "id": "mcEpVHYl0PJj"
   },
   "source": [
    "2. x, yについて、scikit-learnで重回帰分析用のインスタンスをmodel_lrとして生成せよ。"
   ]
  },
  {
   "cell_type": "code",
   "execution_count": 327,
   "metadata": {
    "id": "CN8fR7QMx6nw"
   },
   "outputs": [],
   "source": [
    "model_lr=LinearRegression()"
   ]
  },
  {
   "cell_type": "markdown",
   "metadata": {
    "id": "R0CdYPbc4med"
   },
   "source": [
    "3. model_lrの偏回帰係数と切片を求め、表示させよ。"
   ]
  },
  {
   "cell_type": "code",
   "execution_count": 328,
   "metadata": {
    "id": "BrGpqJcLx8R1"
   },
   "outputs": [
    {
     "name": "stdout",
     "output_type": "stream",
     "text": [
      "[-1239697.89312232   831772.61896393  -600331.82710096   134086.98244441]\n",
      "7263466.953007214\n"
     ]
    }
   ],
   "source": [
    "model_lr.fit(x,y)\n",
    "print(model_lr.coef_)\n",
    "print( model_lr.intercept_)"
   ]
  },
  {
   "cell_type": "markdown",
   "metadata": {
    "id": "fP6LCUkBo7Ac"
   },
   "source": [
    "# **Quest 07: 予測**"
   ]
  },
  {
   "cell_type": "markdown",
   "metadata": {
    "id": "Buhl2rxUw_3X"
   },
   "source": [
    "1. xに説明変数として「最寄駅：距離（分）」「面積（㎡）」「築年数」「建ぺい率（％）」を、yに目的変数として「取引価格（総額）」を入れよ。そして、model_selectionのtrain_test_splitを利用して、データを学習用と検証用に7:3の割合で分割し、X_train, X_test, y_train, y_testそれぞれの配列の形状を表示させよ。"
   ]
  },
  {
   "cell_type": "code",
   "execution_count": 329,
   "metadata": {
    "id": "0Re3BjJPx_i3"
   },
   "outputs": [
    {
     "name": "stdout",
     "output_type": "stream",
     "text": [
      "(18627, 4)\n",
      "(7983, 4)\n",
      "(18627,)\n",
      "(7983,)\n"
     ]
    }
   ],
   "source": [
    "x=sample3[[\"最寄駅：距離（分）\",\"面積（㎡）\",\"築年数\",\"建ぺい率（％）\"]]\n",
    "y=sample3[\"取引価格（総額）\"]\n",
    "X_train, X_test, y_train, y_test=split(x,y,train_size=0.7,test_size=0.3)\n",
    "print(np.shape(X_train))\n",
    "print(np.shape(X_test))\n",
    "print(np.shape(y_train))\n",
    "print(np.shape(y_test))"
   ]
  },
  {
   "cell_type": "markdown",
   "metadata": {
    "id": "cF03wHWVzMJ8"
   },
   "source": [
    "2. データを学習させパラメーター（偏回帰係数と切片）を求め、表示せよ。"
   ]
  },
  {
   "cell_type": "code",
   "execution_count": 330,
   "metadata": {
    "id": "BiVAyIjSyBUC"
   },
   "outputs": [
    {
     "name": "stdout",
     "output_type": "stream",
     "text": [
      "[-1239697.89312232   831772.61896393  -600331.82710096   134086.98244441]\n",
      "7263466.953007214\n"
     ]
    }
   ],
   "source": [
    "yosoku_lr=LinearRegression()\n",
    "yosoku_lr.fit(x,y)\n",
    "print(yosoku_lr.coef_)\n",
    "print( yosoku_lr.intercept_)"
   ]
  },
  {
   "cell_type": "markdown",
   "metadata": {
    "id": "Vq_DIcZ-2Bje"
   },
   "source": [
    "3. predictメソッドを用いて、線形モデルから目的変数y_predを予測し、出力せよ。"
   ]
  },
  {
   "cell_type": "code",
   "execution_count": 331,
   "metadata": {
    "id": "bV3oM-e-yCY6"
   },
   "outputs": [
    {
     "data": {
      "text/plain": [
       "array([12901254.89140921, 65479295.42951971,  7984717.67712718, ...,\n",
       "       20342662.36942995, 60415135.63277443, 31783575.86730192])"
      ]
     },
     "execution_count": 331,
     "metadata": {},
     "output_type": "execute_result"
    }
   ],
   "source": [
    "y_pred=yosoku_lr.predict(X_test)\n",
    "y_pred"
   ]
  },
  {
   "cell_type": "markdown",
   "metadata": {
    "id": "bXsjS4LyALfn"
   },
   "source": [
    "4. 予測用データy_predと実際のデータy_testを比べ、それを出力せよ。"
   ]
  },
  {
   "cell_type": "code",
   "execution_count": 336,
   "metadata": {
    "id": "VM__eS_IyDey"
   },
   "outputs": [
    {
     "data": {
      "text/plain": [
       "0.3133772032354889"
      ]
     },
     "execution_count": 336,
     "metadata": {},
     "output_type": "execute_result"
    }
   ],
   "source": [
    "from sklearn.metrics import r2_score\n",
    "\n",
    "r2 = r2_score(y_test, y_pred)\n",
    "r2"
   ]
  },
  {
   "cell_type": "code",
   "execution_count": null,
   "metadata": {},
   "outputs": [],
   "source": []
  },
  {
   "cell_type": "code",
   "execution_count": null,
   "metadata": {},
   "outputs": [],
   "source": []
  }
 ],
 "metadata": {
  "colab": {
   "name": "Stage2.ipynb",
   "provenance": [],
   "toc_visible": true
  },
  "kernelspec": {
   "display_name": "Python 3",
   "language": "python",
   "name": "python3"
  },
  "language_info": {
   "codemirror_mode": {
    "name": "ipython",
    "version": 3
   },
   "file_extension": ".py",
   "mimetype": "text/x-python",
   "name": "python",
   "nbconvert_exporter": "python",
   "pygments_lexer": "ipython3",
   "version": "3.8.3"
  }
 },
 "nbformat": 4,
 "nbformat_minor": 1
}

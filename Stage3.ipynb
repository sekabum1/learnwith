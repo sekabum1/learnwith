{
 "cells": [
  {
   "cell_type": "markdown",
   "metadata": {
    "id": "QXjCvI3okrhq"
   },
   "source": [
    "# **ステージ3**\n",
    "### **分類（決定木）と教師なし学習**"
   ]
  },
  {
   "cell_type": "markdown",
   "metadata": {
    "id": "JnQ_dtn6miP-"
   },
   "source": [
    "\n",
    "\n",
    ">**3つの異なる分析法をマスターせよ。**\n",
    "\n",
    "\n",
    "\n",
    "1.   **分類(教師あり学習)**： 教師データがあるが予測したい変数がいくつかの離散カテゴリである場合の分析法。\n",
    "2.   **主成分分析(教師なし学習)**: データについて詳しく調べたいけれども、その結果何が分 かるのか具体的な目標が定まっていない場合や、データに含まれている情報がはっきりしない場合の分析法。\n",
    "3.   **K平均法(教師なし学習)**: データを適当なクラスタに分け、そのクラスタの平均を用いてデータがわかれるように調整させていく分析法。\n",
    "\n"
   ]
  },
  {
   "cell_type": "markdown",
   "metadata": {
    "id": "A5pbiVkHljRd"
   },
   "source": [
    "---"
   ]
  },
  {
   "cell_type": "markdown",
   "metadata": {
    "id": "UF3TiNuzlxY6"
   },
   "source": [
    "## **インストラクション**"
   ]
  },
  {
   "cell_type": "markdown",
   "metadata": {
    "id": "YyqT-y-zlym2"
   },
   "source": [
    "*   解答用紙をダウンロードし、決められた提出方法で提出して下さい。\n",
    "*   全ての演習は、難易度の高い順に、最も簡単なものから最も難しいものへと慎重に配置\n",
    "されています。\n",
    "*   解答は不完全な形でも、何度でも提出可能です。\n",
    "*   運営はQuestに関する一切の質問にお答えできません。質問があれば、Discord内で他の学習者に尋ねて下さい。\n",
    "* DiscordでのコミュニケーションでQuestの解決が困難な場合は、ピアレビューをご活用ください。"
   ]
  },
  {
   "cell_type": "markdown",
   "metadata": {
    "id": "zHdS3ACWmUNm"
   },
   "source": [
    "---"
   ]
  },
  {
   "cell_type": "markdown",
   "metadata": {
    "id": "Bo3LuwY5BKEs"
   },
   "source": [
    "# **Quest 1: 分類のための決定木モデルをつくる**"
   ]
  },
  {
   "cell_type": "markdown",
   "metadata": {
    "id": "XbSHV0EbVtUm"
   },
   "source": [
    "分類とは、予測したい変数がいくつかの離散カテゴリの場合にしようする分析法です。例として以下のような場合が挙げられます。\n",
    "\n",
    "\n",
    "\n",
    "*   受験生が大学に合格するかどうかを、勉強時間や塾に通っているかどうかから予測する\n",
    "*   ECサイトにてユーザーが会員登録してくれるかどうかを、サイト閲覧履歴から予測する\n",
    "---\n"
   ]
  },
  {
   "cell_type": "markdown",
   "metadata": {
    "id": "7aftP4B2CXrV"
   },
   "source": [
    "1. 分類のための以下のライブラリを読み込め。\n",
    "*    numpy \n",
    "*  pandas \n",
    "*  DecisionTreeClassifier \n",
    "*   train_test_split \n",
    "*   accuracy_score "
   ]
  },
  {
   "cell_type": "code",
   "execution_count": 1,
   "metadata": {
    "id": "lBicg89Ed9mr"
   },
   "outputs": [],
   "source": [
    "import numpy as np\n",
    "import pandas as pd\n",
    "from sklearn.tree import DecisionTreeClassifier\n",
    "from sklearn.model_selection import train_test_split as split\n",
    "from sklearn.metrics import accuracy_score as ac"
   ]
  },
  {
   "cell_type": "markdown",
   "metadata": {
    "id": "QJFGkqkjDCpM"
   },
   "source": [
    "2. スパムメールについてのデータセット「data_sample4.csv」をsample4として読み込み、先頭5行を表示せよ。"
   ]
  },
  {
   "cell_type": "markdown",
   "metadata": {
    "id": "eRSQe-6NsTaq"
   },
   "source": [
    "データセット: https://drive.google.com/drive/folders/1Xx6ZHX9RhYn4qe295jS83KbdisDhPCo6?usp=sharing"
   ]
  },
  {
   "cell_type": "code",
   "execution_count": 2,
   "metadata": {
    "id": "8mozEcIDeDo5"
   },
   "outputs": [
    {
     "data": {
      "text/html": [
       "<div>\n",
       "<style scoped>\n",
       "    .dataframe tbody tr th:only-of-type {\n",
       "        vertical-align: middle;\n",
       "    }\n",
       "\n",
       "    .dataframe tbody tr th {\n",
       "        vertical-align: top;\n",
       "    }\n",
       "\n",
       "    .dataframe thead th {\n",
       "        text-align: right;\n",
       "    }\n",
       "</style>\n",
       "<table border=\"1\" class=\"dataframe\">\n",
       "  <thead>\n",
       "    <tr style=\"text-align: right;\">\n",
       "      <th></th>\n",
       "      <th>Unnamed: 0</th>\n",
       "      <th>make</th>\n",
       "      <th>address</th>\n",
       "      <th>all</th>\n",
       "      <th>num3d</th>\n",
       "      <th>our</th>\n",
       "      <th>over</th>\n",
       "      <th>remove</th>\n",
       "      <th>internet</th>\n",
       "      <th>order</th>\n",
       "      <th>...</th>\n",
       "      <th>charSemicolon</th>\n",
       "      <th>charRoundbracket</th>\n",
       "      <th>charSquarebracket</th>\n",
       "      <th>charExclamation</th>\n",
       "      <th>charDollar</th>\n",
       "      <th>charHash</th>\n",
       "      <th>capitalAve</th>\n",
       "      <th>capitalLong</th>\n",
       "      <th>capitalTotal</th>\n",
       "      <th>type</th>\n",
       "    </tr>\n",
       "  </thead>\n",
       "  <tbody>\n",
       "    <tr>\n",
       "      <th>0</th>\n",
       "      <td>1</td>\n",
       "      <td>0.00</td>\n",
       "      <td>0.64</td>\n",
       "      <td>0.64</td>\n",
       "      <td>0.0</td>\n",
       "      <td>0.32</td>\n",
       "      <td>0.00</td>\n",
       "      <td>0.00</td>\n",
       "      <td>0.00</td>\n",
       "      <td>0.00</td>\n",
       "      <td>...</td>\n",
       "      <td>0.00</td>\n",
       "      <td>0.000</td>\n",
       "      <td>0.0</td>\n",
       "      <td>0.778</td>\n",
       "      <td>0.000</td>\n",
       "      <td>0.000</td>\n",
       "      <td>3.756</td>\n",
       "      <td>61</td>\n",
       "      <td>278</td>\n",
       "      <td>spam</td>\n",
       "    </tr>\n",
       "    <tr>\n",
       "      <th>1</th>\n",
       "      <td>2</td>\n",
       "      <td>0.21</td>\n",
       "      <td>0.28</td>\n",
       "      <td>0.50</td>\n",
       "      <td>0.0</td>\n",
       "      <td>0.14</td>\n",
       "      <td>0.28</td>\n",
       "      <td>0.21</td>\n",
       "      <td>0.07</td>\n",
       "      <td>0.00</td>\n",
       "      <td>...</td>\n",
       "      <td>0.00</td>\n",
       "      <td>0.132</td>\n",
       "      <td>0.0</td>\n",
       "      <td>0.372</td>\n",
       "      <td>0.180</td>\n",
       "      <td>0.048</td>\n",
       "      <td>5.114</td>\n",
       "      <td>101</td>\n",
       "      <td>1028</td>\n",
       "      <td>spam</td>\n",
       "    </tr>\n",
       "    <tr>\n",
       "      <th>2</th>\n",
       "      <td>3</td>\n",
       "      <td>0.06</td>\n",
       "      <td>0.00</td>\n",
       "      <td>0.71</td>\n",
       "      <td>0.0</td>\n",
       "      <td>1.23</td>\n",
       "      <td>0.19</td>\n",
       "      <td>0.19</td>\n",
       "      <td>0.12</td>\n",
       "      <td>0.64</td>\n",
       "      <td>...</td>\n",
       "      <td>0.01</td>\n",
       "      <td>0.143</td>\n",
       "      <td>0.0</td>\n",
       "      <td>0.276</td>\n",
       "      <td>0.184</td>\n",
       "      <td>0.010</td>\n",
       "      <td>9.821</td>\n",
       "      <td>485</td>\n",
       "      <td>2259</td>\n",
       "      <td>spam</td>\n",
       "    </tr>\n",
       "    <tr>\n",
       "      <th>3</th>\n",
       "      <td>4</td>\n",
       "      <td>0.00</td>\n",
       "      <td>0.00</td>\n",
       "      <td>0.00</td>\n",
       "      <td>0.0</td>\n",
       "      <td>0.63</td>\n",
       "      <td>0.00</td>\n",
       "      <td>0.31</td>\n",
       "      <td>0.63</td>\n",
       "      <td>0.31</td>\n",
       "      <td>...</td>\n",
       "      <td>0.00</td>\n",
       "      <td>0.137</td>\n",
       "      <td>0.0</td>\n",
       "      <td>0.137</td>\n",
       "      <td>0.000</td>\n",
       "      <td>0.000</td>\n",
       "      <td>3.537</td>\n",
       "      <td>40</td>\n",
       "      <td>191</td>\n",
       "      <td>spam</td>\n",
       "    </tr>\n",
       "    <tr>\n",
       "      <th>4</th>\n",
       "      <td>5</td>\n",
       "      <td>0.00</td>\n",
       "      <td>0.00</td>\n",
       "      <td>0.00</td>\n",
       "      <td>0.0</td>\n",
       "      <td>0.63</td>\n",
       "      <td>0.00</td>\n",
       "      <td>0.31</td>\n",
       "      <td>0.63</td>\n",
       "      <td>0.31</td>\n",
       "      <td>...</td>\n",
       "      <td>0.00</td>\n",
       "      <td>0.135</td>\n",
       "      <td>0.0</td>\n",
       "      <td>0.135</td>\n",
       "      <td>0.000</td>\n",
       "      <td>0.000</td>\n",
       "      <td>3.537</td>\n",
       "      <td>40</td>\n",
       "      <td>191</td>\n",
       "      <td>spam</td>\n",
       "    </tr>\n",
       "  </tbody>\n",
       "</table>\n",
       "<p>5 rows × 59 columns</p>\n",
       "</div>"
      ],
      "text/plain": [
       "   Unnamed: 0  make  address   all  num3d   our  over  remove  internet  \\\n",
       "0           1  0.00     0.64  0.64    0.0  0.32  0.00    0.00      0.00   \n",
       "1           2  0.21     0.28  0.50    0.0  0.14  0.28    0.21      0.07   \n",
       "2           3  0.06     0.00  0.71    0.0  1.23  0.19    0.19      0.12   \n",
       "3           4  0.00     0.00  0.00    0.0  0.63  0.00    0.31      0.63   \n",
       "4           5  0.00     0.00  0.00    0.0  0.63  0.00    0.31      0.63   \n",
       "\n",
       "   order  ...  charSemicolon  charRoundbracket  charSquarebracket  \\\n",
       "0   0.00  ...           0.00             0.000                0.0   \n",
       "1   0.00  ...           0.00             0.132                0.0   \n",
       "2   0.64  ...           0.01             0.143                0.0   \n",
       "3   0.31  ...           0.00             0.137                0.0   \n",
       "4   0.31  ...           0.00             0.135                0.0   \n",
       "\n",
       "   charExclamation  charDollar  charHash  capitalAve  capitalLong  \\\n",
       "0            0.778       0.000     0.000       3.756           61   \n",
       "1            0.372       0.180     0.048       5.114          101   \n",
       "2            0.276       0.184     0.010       9.821          485   \n",
       "3            0.137       0.000     0.000       3.537           40   \n",
       "4            0.135       0.000     0.000       3.537           40   \n",
       "\n",
       "   capitalTotal  type  \n",
       "0           278  spam  \n",
       "1          1028  spam  \n",
       "2          2259  spam  \n",
       "3           191  spam  \n",
       "4           191  spam  \n",
       "\n",
       "[5 rows x 59 columns]"
      ]
     },
     "execution_count": 2,
     "metadata": {},
     "output_type": "execute_result"
    }
   ],
   "source": [
    "sample4=pd.read_csv(\"data_sample4.csv\")\n",
    "sample4.head()"
   ]
  },
  {
   "cell_type": "markdown",
   "metadata": {
    "id": "ZhYhe47dD_LQ"
   },
   "source": [
    "3. メールがspamであれば1、そうでなければ0と処理する目的変数typeの列をデータセットに加え、先頭5行を表示し、列が加えられたことを確認せよ。"
   ]
  },
  {
   "cell_type": "code",
   "execution_count": 3,
   "metadata": {
    "id": "vrvZIOZteFCF"
   },
   "outputs": [
    {
     "data": {
      "text/html": [
       "<div>\n",
       "<style scoped>\n",
       "    .dataframe tbody tr th:only-of-type {\n",
       "        vertical-align: middle;\n",
       "    }\n",
       "\n",
       "    .dataframe tbody tr th {\n",
       "        vertical-align: top;\n",
       "    }\n",
       "\n",
       "    .dataframe thead th {\n",
       "        text-align: right;\n",
       "    }\n",
       "</style>\n",
       "<table border=\"1\" class=\"dataframe\">\n",
       "  <thead>\n",
       "    <tr style=\"text-align: right;\">\n",
       "      <th></th>\n",
       "      <th>Unnamed: 0</th>\n",
       "      <th>make</th>\n",
       "      <th>address</th>\n",
       "      <th>all</th>\n",
       "      <th>num3d</th>\n",
       "      <th>our</th>\n",
       "      <th>over</th>\n",
       "      <th>remove</th>\n",
       "      <th>internet</th>\n",
       "      <th>order</th>\n",
       "      <th>...</th>\n",
       "      <th>charSemicolon</th>\n",
       "      <th>charRoundbracket</th>\n",
       "      <th>charSquarebracket</th>\n",
       "      <th>charExclamation</th>\n",
       "      <th>charDollar</th>\n",
       "      <th>charHash</th>\n",
       "      <th>capitalAve</th>\n",
       "      <th>capitalLong</th>\n",
       "      <th>capitalTotal</th>\n",
       "      <th>type</th>\n",
       "    </tr>\n",
       "  </thead>\n",
       "  <tbody>\n",
       "    <tr>\n",
       "      <th>0</th>\n",
       "      <td>1</td>\n",
       "      <td>0.00</td>\n",
       "      <td>0.64</td>\n",
       "      <td>0.64</td>\n",
       "      <td>0.0</td>\n",
       "      <td>0.32</td>\n",
       "      <td>0.00</td>\n",
       "      <td>0.00</td>\n",
       "      <td>0.00</td>\n",
       "      <td>0.00</td>\n",
       "      <td>...</td>\n",
       "      <td>0.00</td>\n",
       "      <td>0.000</td>\n",
       "      <td>0.0</td>\n",
       "      <td>0.778</td>\n",
       "      <td>0.000</td>\n",
       "      <td>0.000</td>\n",
       "      <td>3.756</td>\n",
       "      <td>61</td>\n",
       "      <td>278</td>\n",
       "      <td>1</td>\n",
       "    </tr>\n",
       "    <tr>\n",
       "      <th>1</th>\n",
       "      <td>2</td>\n",
       "      <td>0.21</td>\n",
       "      <td>0.28</td>\n",
       "      <td>0.50</td>\n",
       "      <td>0.0</td>\n",
       "      <td>0.14</td>\n",
       "      <td>0.28</td>\n",
       "      <td>0.21</td>\n",
       "      <td>0.07</td>\n",
       "      <td>0.00</td>\n",
       "      <td>...</td>\n",
       "      <td>0.00</td>\n",
       "      <td>0.132</td>\n",
       "      <td>0.0</td>\n",
       "      <td>0.372</td>\n",
       "      <td>0.180</td>\n",
       "      <td>0.048</td>\n",
       "      <td>5.114</td>\n",
       "      <td>101</td>\n",
       "      <td>1028</td>\n",
       "      <td>1</td>\n",
       "    </tr>\n",
       "    <tr>\n",
       "      <th>2</th>\n",
       "      <td>3</td>\n",
       "      <td>0.06</td>\n",
       "      <td>0.00</td>\n",
       "      <td>0.71</td>\n",
       "      <td>0.0</td>\n",
       "      <td>1.23</td>\n",
       "      <td>0.19</td>\n",
       "      <td>0.19</td>\n",
       "      <td>0.12</td>\n",
       "      <td>0.64</td>\n",
       "      <td>...</td>\n",
       "      <td>0.01</td>\n",
       "      <td>0.143</td>\n",
       "      <td>0.0</td>\n",
       "      <td>0.276</td>\n",
       "      <td>0.184</td>\n",
       "      <td>0.010</td>\n",
       "      <td>9.821</td>\n",
       "      <td>485</td>\n",
       "      <td>2259</td>\n",
       "      <td>1</td>\n",
       "    </tr>\n",
       "    <tr>\n",
       "      <th>3</th>\n",
       "      <td>4</td>\n",
       "      <td>0.00</td>\n",
       "      <td>0.00</td>\n",
       "      <td>0.00</td>\n",
       "      <td>0.0</td>\n",
       "      <td>0.63</td>\n",
       "      <td>0.00</td>\n",
       "      <td>0.31</td>\n",
       "      <td>0.63</td>\n",
       "      <td>0.31</td>\n",
       "      <td>...</td>\n",
       "      <td>0.00</td>\n",
       "      <td>0.137</td>\n",
       "      <td>0.0</td>\n",
       "      <td>0.137</td>\n",
       "      <td>0.000</td>\n",
       "      <td>0.000</td>\n",
       "      <td>3.537</td>\n",
       "      <td>40</td>\n",
       "      <td>191</td>\n",
       "      <td>1</td>\n",
       "    </tr>\n",
       "    <tr>\n",
       "      <th>4</th>\n",
       "      <td>5</td>\n",
       "      <td>0.00</td>\n",
       "      <td>0.00</td>\n",
       "      <td>0.00</td>\n",
       "      <td>0.0</td>\n",
       "      <td>0.63</td>\n",
       "      <td>0.00</td>\n",
       "      <td>0.31</td>\n",
       "      <td>0.63</td>\n",
       "      <td>0.31</td>\n",
       "      <td>...</td>\n",
       "      <td>0.00</td>\n",
       "      <td>0.135</td>\n",
       "      <td>0.0</td>\n",
       "      <td>0.135</td>\n",
       "      <td>0.000</td>\n",
       "      <td>0.000</td>\n",
       "      <td>3.537</td>\n",
       "      <td>40</td>\n",
       "      <td>191</td>\n",
       "      <td>1</td>\n",
       "    </tr>\n",
       "  </tbody>\n",
       "</table>\n",
       "<p>5 rows × 59 columns</p>\n",
       "</div>"
      ],
      "text/plain": [
       "   Unnamed: 0  make  address   all  num3d   our  over  remove  internet  \\\n",
       "0           1  0.00     0.64  0.64    0.0  0.32  0.00    0.00      0.00   \n",
       "1           2  0.21     0.28  0.50    0.0  0.14  0.28    0.21      0.07   \n",
       "2           3  0.06     0.00  0.71    0.0  1.23  0.19    0.19      0.12   \n",
       "3           4  0.00     0.00  0.00    0.0  0.63  0.00    0.31      0.63   \n",
       "4           5  0.00     0.00  0.00    0.0  0.63  0.00    0.31      0.63   \n",
       "\n",
       "   order  ...  charSemicolon  charRoundbracket  charSquarebracket  \\\n",
       "0   0.00  ...           0.00             0.000                0.0   \n",
       "1   0.00  ...           0.00             0.132                0.0   \n",
       "2   0.64  ...           0.01             0.143                0.0   \n",
       "3   0.31  ...           0.00             0.137                0.0   \n",
       "4   0.31  ...           0.00             0.135                0.0   \n",
       "\n",
       "   charExclamation  charDollar  charHash  capitalAve  capitalLong  \\\n",
       "0            0.778       0.000     0.000       3.756           61   \n",
       "1            0.372       0.180     0.048       5.114          101   \n",
       "2            0.276       0.184     0.010       9.821          485   \n",
       "3            0.137       0.000     0.000       3.537           40   \n",
       "4            0.135       0.000     0.000       3.537           40   \n",
       "\n",
       "   capitalTotal  type  \n",
       "0           278     1  \n",
       "1          1028     1  \n",
       "2          2259     1  \n",
       "3           191     1  \n",
       "4           191     1  \n",
       "\n",
       "[5 rows x 59 columns]"
      ]
     },
     "execution_count": 3,
     "metadata": {},
     "output_type": "execute_result"
    }
   ],
   "source": [
    "n=len(sample4)\n",
    "i=0\n",
    "a=[]\n",
    "for i in range(n):\n",
    "    if sample4[\"type\"][i]==\"spam\":\n",
    "        a.append(1)\n",
    "    else:\n",
    "        a.append(0)\n",
    "sample4_2=sample4\n",
    "sample4.assign(type=a).head()\n"
   ]
  },
  {
   "cell_type": "code",
   "execution_count": 4,
   "metadata": {},
   "outputs": [
    {
     "data": {
      "text/plain": [
       "0       1\n",
       "1       1\n",
       "2       1\n",
       "3       1\n",
       "4       1\n",
       "       ..\n",
       "4596    0\n",
       "4597    0\n",
       "4598    0\n",
       "4599    0\n",
       "4600    0\n",
       "Name: type, Length: 4601, dtype: int64"
      ]
     },
     "execution_count": 4,
     "metadata": {},
     "output_type": "execute_result"
    }
   ],
   "source": [
    "#これの方が綺麗だけど、spam とnonspam以外あるかもと思い・・・\n",
    "sample4['type'].map({'spam': 1, 'nonspam': 0})"
   ]
  },
  {
   "cell_type": "markdown",
   "metadata": {
    "id": "edKalc1QG6hN"
   },
   "source": [
    "4. 目的変数yに先ほど追加したtypeの列を、説明変数Xにそれ以外の全ての列を代入せよ。確認のため、Xの先頭５行を表示させよ。"
   ]
  },
  {
   "cell_type": "code",
   "execution_count": 5,
   "metadata": {
    "id": "q9CpJU1WeGW0"
   },
   "outputs": [
    {
     "data": {
      "text/html": [
       "<div>\n",
       "<style scoped>\n",
       "    .dataframe tbody tr th:only-of-type {\n",
       "        vertical-align: middle;\n",
       "    }\n",
       "\n",
       "    .dataframe tbody tr th {\n",
       "        vertical-align: top;\n",
       "    }\n",
       "\n",
       "    .dataframe thead th {\n",
       "        text-align: right;\n",
       "    }\n",
       "</style>\n",
       "<table border=\"1\" class=\"dataframe\">\n",
       "  <thead>\n",
       "    <tr style=\"text-align: right;\">\n",
       "      <th></th>\n",
       "      <th>Unnamed: 0</th>\n",
       "      <th>make</th>\n",
       "      <th>address</th>\n",
       "      <th>all</th>\n",
       "      <th>num3d</th>\n",
       "      <th>our</th>\n",
       "      <th>over</th>\n",
       "      <th>remove</th>\n",
       "      <th>internet</th>\n",
       "      <th>order</th>\n",
       "      <th>...</th>\n",
       "      <th>conference</th>\n",
       "      <th>charSemicolon</th>\n",
       "      <th>charRoundbracket</th>\n",
       "      <th>charSquarebracket</th>\n",
       "      <th>charExclamation</th>\n",
       "      <th>charDollar</th>\n",
       "      <th>charHash</th>\n",
       "      <th>capitalAve</th>\n",
       "      <th>capitalLong</th>\n",
       "      <th>capitalTotal</th>\n",
       "    </tr>\n",
       "  </thead>\n",
       "  <tbody>\n",
       "    <tr>\n",
       "      <th>0</th>\n",
       "      <td>1</td>\n",
       "      <td>0.00</td>\n",
       "      <td>0.64</td>\n",
       "      <td>0.64</td>\n",
       "      <td>0.0</td>\n",
       "      <td>0.32</td>\n",
       "      <td>0.00</td>\n",
       "      <td>0.00</td>\n",
       "      <td>0.00</td>\n",
       "      <td>0.00</td>\n",
       "      <td>...</td>\n",
       "      <td>0.0</td>\n",
       "      <td>0.00</td>\n",
       "      <td>0.000</td>\n",
       "      <td>0.0</td>\n",
       "      <td>0.778</td>\n",
       "      <td>0.000</td>\n",
       "      <td>0.000</td>\n",
       "      <td>3.756</td>\n",
       "      <td>61</td>\n",
       "      <td>278</td>\n",
       "    </tr>\n",
       "    <tr>\n",
       "      <th>1</th>\n",
       "      <td>2</td>\n",
       "      <td>0.21</td>\n",
       "      <td>0.28</td>\n",
       "      <td>0.50</td>\n",
       "      <td>0.0</td>\n",
       "      <td>0.14</td>\n",
       "      <td>0.28</td>\n",
       "      <td>0.21</td>\n",
       "      <td>0.07</td>\n",
       "      <td>0.00</td>\n",
       "      <td>...</td>\n",
       "      <td>0.0</td>\n",
       "      <td>0.00</td>\n",
       "      <td>0.132</td>\n",
       "      <td>0.0</td>\n",
       "      <td>0.372</td>\n",
       "      <td>0.180</td>\n",
       "      <td>0.048</td>\n",
       "      <td>5.114</td>\n",
       "      <td>101</td>\n",
       "      <td>1028</td>\n",
       "    </tr>\n",
       "    <tr>\n",
       "      <th>2</th>\n",
       "      <td>3</td>\n",
       "      <td>0.06</td>\n",
       "      <td>0.00</td>\n",
       "      <td>0.71</td>\n",
       "      <td>0.0</td>\n",
       "      <td>1.23</td>\n",
       "      <td>0.19</td>\n",
       "      <td>0.19</td>\n",
       "      <td>0.12</td>\n",
       "      <td>0.64</td>\n",
       "      <td>...</td>\n",
       "      <td>0.0</td>\n",
       "      <td>0.01</td>\n",
       "      <td>0.143</td>\n",
       "      <td>0.0</td>\n",
       "      <td>0.276</td>\n",
       "      <td>0.184</td>\n",
       "      <td>0.010</td>\n",
       "      <td>9.821</td>\n",
       "      <td>485</td>\n",
       "      <td>2259</td>\n",
       "    </tr>\n",
       "    <tr>\n",
       "      <th>3</th>\n",
       "      <td>4</td>\n",
       "      <td>0.00</td>\n",
       "      <td>0.00</td>\n",
       "      <td>0.00</td>\n",
       "      <td>0.0</td>\n",
       "      <td>0.63</td>\n",
       "      <td>0.00</td>\n",
       "      <td>0.31</td>\n",
       "      <td>0.63</td>\n",
       "      <td>0.31</td>\n",
       "      <td>...</td>\n",
       "      <td>0.0</td>\n",
       "      <td>0.00</td>\n",
       "      <td>0.137</td>\n",
       "      <td>0.0</td>\n",
       "      <td>0.137</td>\n",
       "      <td>0.000</td>\n",
       "      <td>0.000</td>\n",
       "      <td>3.537</td>\n",
       "      <td>40</td>\n",
       "      <td>191</td>\n",
       "    </tr>\n",
       "    <tr>\n",
       "      <th>4</th>\n",
       "      <td>5</td>\n",
       "      <td>0.00</td>\n",
       "      <td>0.00</td>\n",
       "      <td>0.00</td>\n",
       "      <td>0.0</td>\n",
       "      <td>0.63</td>\n",
       "      <td>0.00</td>\n",
       "      <td>0.31</td>\n",
       "      <td>0.63</td>\n",
       "      <td>0.31</td>\n",
       "      <td>...</td>\n",
       "      <td>0.0</td>\n",
       "      <td>0.00</td>\n",
       "      <td>0.135</td>\n",
       "      <td>0.0</td>\n",
       "      <td>0.135</td>\n",
       "      <td>0.000</td>\n",
       "      <td>0.000</td>\n",
       "      <td>3.537</td>\n",
       "      <td>40</td>\n",
       "      <td>191</td>\n",
       "    </tr>\n",
       "  </tbody>\n",
       "</table>\n",
       "<p>5 rows × 58 columns</p>\n",
       "</div>"
      ],
      "text/plain": [
       "   Unnamed: 0  make  address   all  num3d   our  over  remove  internet  \\\n",
       "0           1  0.00     0.64  0.64    0.0  0.32  0.00    0.00      0.00   \n",
       "1           2  0.21     0.28  0.50    0.0  0.14  0.28    0.21      0.07   \n",
       "2           3  0.06     0.00  0.71    0.0  1.23  0.19    0.19      0.12   \n",
       "3           4  0.00     0.00  0.00    0.0  0.63  0.00    0.31      0.63   \n",
       "4           5  0.00     0.00  0.00    0.0  0.63  0.00    0.31      0.63   \n",
       "\n",
       "   order  ...  conference  charSemicolon  charRoundbracket  charSquarebracket  \\\n",
       "0   0.00  ...         0.0           0.00             0.000                0.0   \n",
       "1   0.00  ...         0.0           0.00             0.132                0.0   \n",
       "2   0.64  ...         0.0           0.01             0.143                0.0   \n",
       "3   0.31  ...         0.0           0.00             0.137                0.0   \n",
       "4   0.31  ...         0.0           0.00             0.135                0.0   \n",
       "\n",
       "   charExclamation  charDollar  charHash  capitalAve  capitalLong  \\\n",
       "0            0.778       0.000     0.000       3.756           61   \n",
       "1            0.372       0.180     0.048       5.114          101   \n",
       "2            0.276       0.184     0.010       9.821          485   \n",
       "3            0.137       0.000     0.000       3.537           40   \n",
       "4            0.135       0.000     0.000       3.537           40   \n",
       "\n",
       "   capitalTotal  \n",
       "0           278  \n",
       "1          1028  \n",
       "2          2259  \n",
       "3           191  \n",
       "4           191  \n",
       "\n",
       "[5 rows x 58 columns]"
      ]
     },
     "execution_count": 5,
     "metadata": {},
     "output_type": "execute_result"
    }
   ],
   "source": [
    "y=sample4[\"type\"]\n",
    "X=sample4_2.drop(\"type\",axis=1)\n",
    "X.head()"
   ]
  },
  {
   "cell_type": "markdown",
   "metadata": {
    "id": "D37BA9YlILSY"
   },
   "source": [
    "5. Xとyをそれぞれ7:3の学習データと検証データに分割し、全てのデータの形状を表示させよ。"
   ]
  },
  {
   "cell_type": "code",
   "execution_count": 6,
   "metadata": {
    "id": "P9BdmkFQeHLx"
   },
   "outputs": [
    {
     "name": "stdout",
     "output_type": "stream",
     "text": [
      "(3220, 58)\n",
      "(1381, 58)\n",
      "(3220,)\n",
      "(1381,)\n"
     ]
    }
   ],
   "source": [
    "X_train,X_test=split(X,train_size=0.7,test_size=0.3)\n",
    "y_train,y_test=split(y,train_size=0.7,test_size=0.3)\n",
    "print(X_train.shape)\n",
    "print(X_test.shape)\n",
    "print(y_train.shape)\n",
    "print(y_test.shape)"
   ]
  },
  {
   "cell_type": "markdown",
   "metadata": {
    "id": "Dq_VX41rIqDS"
   },
   "source": [
    "# **Quest 2: 決定木で分析**"
   ]
  },
  {
   "cell_type": "markdown",
   "metadata": {
    "id": "E-kdQwrer6_0"
   },
   "source": [
    "1. 分割（木）の最大の深さを3として、DecisionTreeClassifierで分類のためのインスタンスclfを作成せよ。"
   ]
  },
  {
   "cell_type": "code",
   "execution_count": 7,
   "metadata": {
    "id": "6JkfKCOLeIpL"
   },
   "outputs": [],
   "source": [
    "clf=DecisionTreeClassifier(max_depth = 3)"
   ]
  },
  {
   "cell_type": "markdown",
   "metadata": {
    "id": "HB4srkPOu6fg"
   },
   "source": [
    "2. fit()メソッドを用いて、X_train, y＿trainのロジスティック回帰におけるパラメータ学習をせよ。"
   ]
  },
  {
   "cell_type": "code",
   "execution_count": 8,
   "metadata": {
    "id": "4anuQ4NeeJ9_"
   },
   "outputs": [
    {
     "data": {
      "text/plain": [
       "DecisionTreeClassifier(max_depth=3)"
      ]
     },
     "execution_count": 8,
     "metadata": {},
     "output_type": "execute_result"
    }
   ],
   "source": [
    "clf.fit(X_train, y_train)"
   ]
  },
  {
   "cell_type": "markdown",
   "metadata": {
    "id": "48klM-Q9xUHU"
   },
   "source": [
    "3. 学習させたパラメータを使い、predict()関数で予測結果を出力して確認せよ。"
   ]
  },
  {
   "cell_type": "code",
   "execution_count": 9,
   "metadata": {
    "id": "Rf1qV5dleWan"
   },
   "outputs": [
    {
     "data": {
      "text/plain": [
       "array(['nonspam', 'nonspam', 'nonspam', ..., 'nonspam', 'nonspam',\n",
       "       'nonspam'], dtype=object)"
      ]
     },
     "execution_count": 9,
     "metadata": {},
     "output_type": "execute_result"
    }
   ],
   "source": [
    "y_pred=clf.predict(X_test)\n",
    "y_pred"
   ]
  },
  {
   "cell_type": "markdown",
   "metadata": {
    "id": "GhI61fd-u_cm"
   },
   "source": [
    "4. accuracy_score関数を用いて、予測の正確性を出力し、確認せよ。"
   ]
  },
  {
   "cell_type": "code",
   "execution_count": 10,
   "metadata": {
    "id": "jXZ6-E1QeZLc"
   },
   "outputs": [
    {
     "data": {
      "text/plain": [
       "0.6002896451846488"
      ]
     },
     "execution_count": 10,
     "metadata": {},
     "output_type": "execute_result"
    }
   ],
   "source": [
    "ac(y_test, y_pred)"
   ]
  },
  {
   "cell_type": "markdown",
   "metadata": {
    "id": "y5WJZbmj58mr"
   },
   "source": [
    "#**Quest 3: 決定木モデルを可視化**"
   ]
  },
  {
   "cell_type": "markdown",
   "metadata": {
    "id": "1_uuDDJU7LTd"
   },
   "source": [
    "1. Google Colab上での可視化のために以下のコードを実行せよ。\n",
    "\n",
    "\n",
    "```\n",
    "!sudo apt install graphviz\n",
    "!pip install dtreeviz\n",
    "```\n",
    "\n"
   ]
  },
  {
   "cell_type": "code",
   "execution_count": null,
   "metadata": {
    "id": "B9IQ4lwOegcw"
   },
   "outputs": [
    {
     "name": "stdout",
     "output_type": "stream",
     "text": [
      "Password:"
     ]
    }
   ],
   "source": [
    "!sudo apt install graphviz\n",
    "!pip install dtreeviz"
   ]
  },
  {
   "cell_type": "markdown",
   "metadata": {
    "id": "yXKZWJwN-M3m"
   },
   "source": [
    "2. 決定木モデルの可視化のためのdtreevizライブラリをインポートせよ。"
   ]
  },
  {
   "cell_type": "code",
   "execution_count": null,
   "metadata": {
    "id": "V3GoeZUqeg_d"
   },
   "outputs": [],
   "source": [
    "from dtreeviz.trees import dtreeviz"
   ]
  },
  {
   "cell_type": "markdown",
   "metadata": {
    "id": "mKJQMVze9-lH"
   },
   "source": [
    "3.  dtreevizを用いて決定木を可視化せよ。その際、目的変数の属名をbreed、説明変数(特徴量)の名前をX.columns、目的変数(カテゴリー)の名前をspamとno-spamに指定せよ。"
   ]
  },
  {
   "cell_type": "code",
   "execution_count": null,
   "metadata": {
    "id": "J1mE04SoeiIy"
   },
   "outputs": [],
   "source": [
    "# 省略"
   ]
  },
  {
   "cell_type": "markdown",
   "metadata": {
    "id": "-9w5iiXzh4vH"
   },
   "source": [
    "# **Quest 4: ランダムフォレスト**"
   ]
  },
  {
   "cell_type": "markdown",
   "metadata": {
    "id": "n7IK1RiljKD3"
   },
   "source": [
    "ランダムフォレスト（Random Forest）とは、\n",
    "*   分類や回帰に使える機械学習の手法\n",
    "*   決定木をたくさん作って多数決する（または平均を取る）ような手法 "
   ]
  },
  {
   "cell_type": "markdown",
   "metadata": {
    "id": "bdjF46lYjiE9"
   },
   "source": [
    "1. RandomForestClassifierをインポート。matplotlib.pyplotをpltとしてインポートし、その際、以下の記述を加えよ。\n",
    "\n",
    "`%matplotlib inline`"
   ]
  },
  {
   "cell_type": "code",
   "execution_count": 11,
   "metadata": {
    "id": "Uh-7MlX5elSb"
   },
   "outputs": [],
   "source": [
    "from sklearn.ensemble import RandomForestClassifier\n",
    "import matplotlib.pyplot as plt\n",
    "%matplotlib inline"
   ]
  },
  {
   "cell_type": "markdown",
   "metadata": {
    "id": "6cefsKlJmM8p"
   },
   "source": [
    "2. 分類（木）の深さを3、木の数を10として、RandomForestClassifierでインスタンスclfを作成せよ。"
   ]
  },
  {
   "cell_type": "code",
   "execution_count": 12,
   "metadata": {
    "id": "TcGwo1R0emRT"
   },
   "outputs": [],
   "source": [
    "clf=RandomForestClassifier(max_depth=3,n_estimators=10)"
   ]
  },
  {
   "cell_type": "markdown",
   "metadata": {
    "id": "HTFrndthnvbO"
   },
   "source": [
    "3. fit()メソッドを用いて、X_train, y＿trainをパラメータ学習をせよ。\n",
    "   そして、学習させたパラメータを使い、predict()関数で予測し、accuracy_score()の結果を出力せよ。"
   ]
  },
  {
   "cell_type": "code",
   "execution_count": 13,
   "metadata": {
    "id": "sA6DwL_oenTs"
   },
   "outputs": [
    {
     "data": {
      "text/plain": [
       "0.6031860970311369"
      ]
     },
     "execution_count": 13,
     "metadata": {},
     "output_type": "execute_result"
    }
   ],
   "source": [
    "clf.fit(X_train,y_train)\n",
    "predy=clf.predict(X_test)\n",
    "ac(predy,y_test)"
   ]
  },
  {
   "cell_type": "markdown",
   "metadata": {
    "id": "eNwGDmpVvlZQ"
   },
   "source": [
    "4. 分類（木）の深さを10、木の数を100として、RandomForestClassifierでインスタンスclfを再作成した後、accuracy_score()を出力し、正確率がどの程度変化したか確認せよ。"
   ]
  },
  {
   "cell_type": "code",
   "execution_count": 14,
   "metadata": {
    "id": "Hz0Vfn3JeoVm"
   },
   "outputs": [
    {
     "data": {
      "text/plain": [
       "0.5930485155684286"
      ]
     },
     "execution_count": 14,
     "metadata": {},
     "output_type": "execute_result"
    }
   ],
   "source": [
    "clf=RandomForestClassifier(max_depth=10,n_estimators=100)\n",
    "clf.fit(X_train,y_train)\n",
    "predX=clf.predict(X_test)\n",
    "ac(predX,y_test)"
   ]
  },
  {
   "cell_type": "markdown",
   "metadata": {
    "id": "pwZqIDgm10Nl"
   },
   "source": [
    "5.  下記のコードを実行して、分析結果の特徴量の重要度を可視化せよ。\n",
    "\n",
    "\n",
    "```\n",
    "features = np.array(X.columns)\n",
    "indices = np.argsort(importances)\n",
    "\n",
    "importances = clf.feature_importances_\n",
    "\n",
    "plt.figure(figsize=(12,12))\n",
    "plt.barh(range(len(indices)), importances[indices], color='b', align='center')\n",
    "plt.yticks(range(len(indices)), features[indices])\n",
    "plt.show()\n",
    "```\n",
    "\n"
   ]
  },
  {
   "cell_type": "code",
   "execution_count": 15,
   "metadata": {
    "id": "onm5WK4deyVA"
   },
   "outputs": [
    {
     "data": {
      "image/png": "[encoded data removed]",
      "text/plain": [
       "<Figure size 864x864 with 1 Axes>"
      ]
     },
     "metadata": {
      "needs_background": "light"
     },
     "output_type": "display_data"
    }
   ],
   "source": [
    "importances = clf.feature_importances_\n",
    "features = np.array(X.columns)\n",
    "indices = np.argsort(importances)\n",
    "plt.figure(figsize=(12,12))\n",
    "plt.barh(range(len(indices)), importances[indices], color='b', align='center')\n",
    "plt.yticks(range(len(indices)), features[indices])\n",
    "plt.show()"
   ]
  },
  {
   "cell_type": "markdown",
   "metadata": {
    "id": "rfB218zjRnBR"
   },
   "source": [
    "# **Quest 5: 主成分分析の実践**"
   ]
  },
  {
   "cell_type": "markdown",
   "metadata": {
    "id": "aIkLMFzYU0_j"
   },
   "source": [
    "\n",
    "\n",
    "> **教師なし学習：　正解情報を与えずにデータの特徴を学習する方法**\n",
    "\n",
    "\n",
    "1.   **主成分分析**：　高次元のデータを低次元に圧縮する\n",
    "2.   **K平均法**：　与えられたデータの中から、似ているもの同士をグループ化\n",
    "\n",
    "\n",
    "\n"
   ]
  },
  {
   "cell_type": "markdown",
   "metadata": {
    "id": "fbR8zcdBcHlc"
   },
   "source": [
    "---\n",
    "主成分分析とは、データについて詳しく調べたいけれども、その結果何が分かるのか具体的な目標が定まっていない場合や、データに含まれている情報がはっきりしない場合の分析法です。例として以下のような場合が挙げられます。\n",
    "\n",
    "\n",
    "\n",
    "*   顧客満足度調査やブランドイメージ調査、利用者調査などのアンケート結果の分析\n",
    "*   企業ランキング、環境経営度調査、品質経営度調査など\n",
    "\n",
    "\n",
    "\n",
    "---\n"
   ]
  },
  {
   "cell_type": "markdown",
   "metadata": {
    "id": "dD-BgddkQO5b"
   },
   "source": [
    "1. 主成分分析用のライブラリであるPCAとStandardScalerをインポートせよ。"
   ]
  },
  {
   "cell_type": "code",
   "execution_count": 16,
   "metadata": {
    "id": "z4ZE0bXze6-F"
   },
   "outputs": [],
   "source": [
    "from sklearn.preprocessing import StandardScaler\n",
    "from sklearn.decomposition import PCA"
   ]
  },
  {
   "cell_type": "markdown",
   "metadata": {
    "id": "uCMT8Q8zMC4t"
   },
   "source": [
    "2. 企業の財務情報データである\"data_sample5.csv\"を読み込み、以下のカラムだけに絞り変数sample5に代入したのち、先頭５行を表示させよ。\n",
    "\n",
    "\n",
    "```\n",
    "\"発行済み株式数\", \"BPS\", \"EPS\", \"純利益\", \"従業員数\", \"売上高\"\n",
    "```\n",
    "\n"
   ]
  },
  {
   "cell_type": "code",
   "execution_count": 17,
   "metadata": {
    "id": "E-s2GYkse9HS"
   },
   "outputs": [
    {
     "data": {
      "text/html": [
       "<div>\n",
       "<style scoped>\n",
       "    .dataframe tbody tr th:only-of-type {\n",
       "        vertical-align: middle;\n",
       "    }\n",
       "\n",
       "    .dataframe tbody tr th {\n",
       "        vertical-align: top;\n",
       "    }\n",
       "\n",
       "    .dataframe thead th {\n",
       "        text-align: right;\n",
       "    }\n",
       "</style>\n",
       "<table border=\"1\" class=\"dataframe\">\n",
       "  <thead>\n",
       "    <tr style=\"text-align: right;\">\n",
       "      <th></th>\n",
       "      <th>発行済み株式数</th>\n",
       "      <th>BPS</th>\n",
       "      <th>EPS</th>\n",
       "      <th>純利益</th>\n",
       "      <th>従業員数</th>\n",
       "      <th>売上高</th>\n",
       "    </tr>\n",
       "  </thead>\n",
       "  <tbody>\n",
       "    <tr>\n",
       "      <th>0</th>\n",
       "      <td>584000.0</td>\n",
       "      <td>593.71</td>\n",
       "      <td>234.64</td>\n",
       "      <td>63791000.0</td>\n",
       "      <td>48.0</td>\n",
       "      <td>7.345960e+08</td>\n",
       "    </tr>\n",
       "    <tr>\n",
       "      <th>1</th>\n",
       "      <td>2465700.0</td>\n",
       "      <td>239.15</td>\n",
       "      <td>63.07</td>\n",
       "      <td>150833000.0</td>\n",
       "      <td>100.0</td>\n",
       "      <td>2.488994e+09</td>\n",
       "    </tr>\n",
       "    <tr>\n",
       "      <th>2</th>\n",
       "      <td>1236700.0</td>\n",
       "      <td>567.16</td>\n",
       "      <td>71.14</td>\n",
       "      <td>78156000.0</td>\n",
       "      <td>27.0</td>\n",
       "      <td>7.316630e+08</td>\n",
       "    </tr>\n",
       "    <tr>\n",
       "      <th>3</th>\n",
       "      <td>800000.0</td>\n",
       "      <td>1150.47</td>\n",
       "      <td>391.48</td>\n",
       "      <td>274035000.0</td>\n",
       "      <td>40.0</td>\n",
       "      <td>6.376023e+09</td>\n",
       "    </tr>\n",
       "    <tr>\n",
       "      <th>4</th>\n",
       "      <td>4980000.0</td>\n",
       "      <td>669.67</td>\n",
       "      <td>175.52</td>\n",
       "      <td>708896000.0</td>\n",
       "      <td>117.0</td>\n",
       "      <td>1.394581e+10</td>\n",
       "    </tr>\n",
       "  </tbody>\n",
       "</table>\n",
       "</div>"
      ],
      "text/plain": [
       "     発行済み株式数      BPS     EPS          純利益   従業員数           売上高\n",
       "0   584000.0   593.71  234.64   63791000.0   48.0  7.345960e+08\n",
       "1  2465700.0   239.15   63.07  150833000.0  100.0  2.488994e+09\n",
       "2  1236700.0   567.16   71.14   78156000.0   27.0  7.316630e+08\n",
       "3   800000.0  1150.47  391.48  274035000.0   40.0  6.376023e+09\n",
       "4  4980000.0   669.67  175.52  708896000.0  117.0  1.394581e+10"
      ]
     },
     "execution_count": 17,
     "metadata": {},
     "output_type": "execute_result"
    }
   ],
   "source": [
    "sample5=pd.read_csv(\"data_sample5.csv\",usecols=[\"発行済み株式数\", \"BPS\", \"EPS\", \"純利益\", \"従業員数\", \"売上高\"])\n",
    "sample5.head()"
   ]
  },
  {
   "cell_type": "markdown",
   "metadata": {
    "id": "ko-C0oFHO0S5"
   },
   "source": [
    "3. StandardScaler()を用いて、sample5の全ての変数のスケールを合わせよ。"
   ]
  },
  {
   "cell_type": "code",
   "execution_count": 18,
   "metadata": {
    "id": "jqf07g-oe_EV"
   },
   "outputs": [
    {
     "data": {
      "text/plain": [
       "array([[-3.54616388e-01, -3.95506261e-02,  1.62160395e+00,\n",
       "        -1.03807598e-01, -5.97571082e-01, -6.02758505e-01],\n",
       "       [-2.53865955e-01, -5.96789570e-01, -4.59485584e-01,\n",
       "        -4.22445722e-02, -4.31965143e-01, -4.61055402e-01],\n",
       "       [-3.19669368e-01, -8.12775382e-02, -3.61599051e-01,\n",
       "        -9.36475270e-02, -6.64450404e-01, -6.02995404e-01],\n",
       "       [-3.43051264e-01,  8.35472937e-01,  3.52402326e+00,\n",
       "         4.48936812e-02, -6.23048919e-01, -1.47099236e-01],\n",
       "       [-1.19244701e-01,  7.98307767e-02,  9.04497150e-01,\n",
       "         3.52461968e-01, -3.77824740e-01,  4.64314245e-01],\n",
       "       [-3.03483549e-01, -4.07093212e-01, -3.98715878e-01,\n",
       "        -7.48225749e-02, -6.58080945e-01, -5.32426145e-01],\n",
       "       [-6.37765957e-03,  1.19204237e-02,  6.36675978e-02,\n",
       "         3.62520190e-01, -6.86743511e-01, -3.05051287e-01],\n",
       "       [-2.97861614e-01, -2.71901160e-01,  1.27591022e-01,\n",
       "        -2.22908019e-02,  3.16446315e-01, -3.54830374e-01],\n",
       "       [-2.72161339e-01, -7.81598142e-01, -8.04575036e-01,\n",
       "        -9.69109148e-02, -6.26233649e-01, -5.54410989e-01],\n",
       "       [-2.36930545e-01, -5.84059326e-01, -4.44323482e-01,\n",
       "        -7.00017576e-02, -4.31965143e-01, -5.04740134e-01],\n",
       "       [ 4.63905251e-01,  4.63199729e-01, -5.77264796e-01,\n",
       "         3.52993135e-01,  6.54027653e-01,  2.11118200e-01],\n",
       "       [-3.31835236e-01, -6.02384591e-01, -7.22942276e-01,\n",
       "        -1.20302771e-01, -6.19864190e-01, -6.16767937e-01],\n",
       "       [-2.71475463e-01, -4.32396538e-01, -7.10448704e-01,\n",
       "        -1.76793187e-01,  9.35152421e-02, -4.99584572e-01],\n",
       "       [-2.42284769e-01, -3.93168525e-01,  1.00056644e-01,\n",
       "         5.82209495e-02, -5.11583383e-01, -5.32320336e-01],\n",
       "       [-1.09607098e-01, -4.53519314e-01, -4.87990337e-01,\n",
       "        -1.09599510e-01, -5.08398654e-01, -3.23765988e-01],\n",
       "       [-2.24535516e-01,  8.10546804e-01,  4.15428374e-01,\n",
       "         3.67514792e-02, -2.21772989e-01,  4.10947426e-01],\n",
       "       [-3.32342816e-01, -5.07442114e-01,  4.71734358e-03,\n",
       "        -5.56788454e-03,  1.00434791e+00, -3.42375688e-01],\n",
       "       [ 5.80443635e-02,  7.93557428e-01,  6.14112565e-01,\n",
       "         5.58734386e-01,  4.26232630e+00,  4.12018828e+00],\n",
       "       [-1.33112142e-01, -7.38896816e-01, -9.24537590e-01,\n",
       "        -7.15386760e-02, -6.61265675e-01, -6.14352585e-01],\n",
       "       [ 2.74717445e-02,  8.05894764e-01,  5.74933692e-01,\n",
       "         4.88265297e-01,  2.98206500e-02, -1.52215302e-01],\n",
       "       [-3.85770476e-01,  1.67386569e-01, -4.34374937e-02,\n",
       "        -4.57597515e-02, -5.84832164e-01, -5.61945558e-01],\n",
       "       [-3.75783028e-01, -5.04848916e-01, -8.97609696e-01,\n",
       "        -1.40463067e-01, -6.07125271e-01, -5.85813480e-01],\n",
       "       [ 3.52376765e-01,  3.91596033e-01,  5.96648028e-02,\n",
       "         4.11930738e-01, -2.79098122e-01,  5.95181863e-01],\n",
       "       [-7.66786206e-02, -3.99690811e-01, -8.27136244e-01,\n",
       "        -2.54947782e-02, -6.38972567e-01, -5.80523030e-01],\n",
       "       [ 6.86050681e+00, -3.40660196e-01, -1.95968465e+00,\n",
       "        -6.10987760e+00,  2.88015365e+00,  2.22665474e+00],\n",
       "       [-3.00940293e-01, -6.53572746e-01, -3.60992567e-01,\n",
       "        -8.85918929e-02, -5.65723786e-01, -5.58136839e-01],\n",
       "       [-2.16825434e-01, -1.75119871e-01, -1.00568516e+00,\n",
       "        -1.33301154e-01,  4.78867524e-01, -2.51449669e-01],\n",
       "       [-2.09106517e-01,  5.20895625e+00,  1.62645582e+00,\n",
       "        -6.76260056e-02,  2.30458615e-01,  5.35333153e-01],\n",
       "       [-2.00857531e-01, -7.93605435e-01, -6.19354793e-01,\n",
       "        -2.69970399e-02, -1.74002045e-01, -3.91793166e-01],\n",
       "       [-1.30922264e-01, -7.44884746e-01, -7.29492305e-01,\n",
       "         4.50094693e-03, -3.01391229e-01, -3.40829665e-01],\n",
       "       [-2.85225645e-01, -5.05587585e-01,  1.86419979e-01,\n",
       "        -4.70328546e-02,  2.01709192e+00,  1.43211611e-01],\n",
       "       [-3.84039991e-01, -1.75151303e-01, -5.11158030e-01,\n",
       "        -3.75623816e-02,  2.98206500e-02, -4.12229161e-01],\n",
       "       [-2.43382385e-01, -7.06741162e-01, -7.75585096e-01,\n",
       "        -7.57738659e-02, -5.24322302e-01, -5.53265022e-01],\n",
       "       [-2.07383849e-01, -2.63241451e-01, -2.28900331e-01,\n",
       "         2.58233031e-02, -6.26233649e-01, -5.68800526e-01],\n",
       "       [-3.08088182e-01, -7.03075252e-02, -1.23614691e-01,\n",
       "        -7.11744270e-02, -5.11583383e-01, -5.13052763e-01],\n",
       "       [-3.22705213e-01, -4.94931899e-01,  2.06312658e-01,\n",
       "        -5.99456571e-02,  5.48931576e-01, -3.91037561e-01],\n",
       "       [-2.24294576e-01, -8.12182162e-01, -8.38659442e-01,\n",
       "        -8.17687672e-02, -7.12221348e-01, -5.50992552e-01],\n",
       "       [-3.36636904e-01,  5.35259198e-01,  3.22757604e-01,\n",
       "        -1.05262472e-01, -2.09034071e-01, -2.90661750e-01],\n",
       "       [-6.08563533e-02,  5.28092542e-01,  1.37355195e+00,\n",
       "         6.47547477e-01,  5.90333061e-01,  1.88453400e+00],\n",
       "       [-3.00099679e-01,  2.48177643e+00,  1.23478839e+00,\n",
       "         2.89572587e-02, -6.89928241e-01, -4.41077294e-01],\n",
       "       [ 9.36375897e-03, -7.94674146e-01, -1.06560579e+00,\n",
       "        -8.42364655e-02, -5.46615409e-01, -5.62550527e-01],\n",
       "       [-1.77284489e-01, -5.23692821e-01, -1.17790239e-02,\n",
       "         1.07987967e-01, -3.01391229e-01, -2.54018646e-01],\n",
       "       [-1.05591430e-01, -1.99935989e-01, -3.58445334e-01,\n",
       "         6.56219226e-02,  7.75915940e-02,  6.60226674e-02],\n",
       "       [ 5.31349733e-01, -3.79149540e-01, -4.71976952e-02,\n",
       "         9.59026312e-01,  4.82052254e-01,  1.82100208e-01],\n",
       "       [-1.16663965e-01, -8.44836739e-02, -7.96205555e-01,\n",
       "        -3.52417975e-02,  1.21772479e+00,  3.26501198e-01],\n",
       "       [-3.53277832e-01,  7.13419754e-01,  4.53030388e-01,\n",
       "        -9.36291377e-02, -6.80374052e-01, -5.33867651e-01],\n",
       "       [-1.34236529e-01, -5.67887200e-01, -3.56989772e-01,\n",
       "        -9.79492011e-02,  5.80778872e-01,  1.00409844e+00],\n",
       "       [-2.61335098e-01, -8.32047629e-01, -7.76676767e-01,\n",
       "        -1.04250355e-01, -6.96297700e-01, -6.21081390e-01],\n",
       "       [-3.16103455e-01,  2.22170225e+00,  2.73486616e+00,\n",
       "         6.90416192e-02, -2.02664611e-01, -2.31707893e-01],\n",
       "       [ 1.73867102e+00,  1.38585955e+00,  7.28738059e-01,\n",
       "         3.85639835e+00,  3.08716107e+00,  4.22167904e+00],\n",
       "       [-2.78800576e-01,  4.55750178e-01,  2.31772639e+00,\n",
       "         2.64170849e-01, -3.30053796e-01,  8.93822381e-01],\n",
       "       [-3.21066821e-01, -1.36269051e-01,  1.05951449e+00,\n",
       "         1.23057766e-02, -6.74004593e-01, -3.35694133e-01],\n",
       "       [-1.60444384e-01, -8.03538168e-01, -4.73919906e-01,\n",
       "         3.53652113e-02, -5.43430679e-01, -5.07325750e-01],\n",
       "       [ 1.08912869e+00, -5.91854636e-01, -1.21577125e+00,\n",
       "        -1.37991832e-01, -1.77186774e-01,  2.40454507e-01],\n",
       "       [-1.83961207e-01, -4.46085479e-01, -3.38673952e-01,\n",
       "        -8.60605394e-02, -3.84194199e-01, -3.41558051e-01]])"
      ]
     },
     "execution_count": 18,
     "metadata": {},
     "output_type": "execute_result"
    }
   ],
   "source": [
    "scaler = StandardScaler()\n",
    "data_std = scaler.fit_transform(sample5)\n",
    "data_std"
   ]
  },
  {
   "cell_type": "markdown",
   "metadata": {
    "id": "HFFXplaKRMQq"
   },
   "source": [
    "4. fit_transform()を用いて、sample5を二次元のデータに圧縮せよ。"
   ]
  },
  {
   "cell_type": "code",
   "execution_count": 19,
   "metadata": {
    "id": "_JehNiJBfEz-"
   },
   "outputs": [],
   "source": [
    "embed2=PCA(n_components=2).fit_transform(data_std)"
   ]
  },
  {
   "cell_type": "code",
   "execution_count": 20,
   "metadata": {},
   "outputs": [],
   "source": [
    "#5.二次元に圧縮した分析結果を散布図で可視化せよ。"
   ]
  },
  {
   "cell_type": "code",
   "execution_count": 21,
   "metadata": {
    "id": "9BKv5Gi9fF_n"
   },
   "outputs": [
    {
     "data": {
      "text/plain": [
       "<matplotlib.collections.PathCollection at 0x129adc850>"
      ]
     },
     "execution_count": 21,
     "metadata": {},
     "output_type": "execute_result"
    },
    {
     "data": {
      "image/png": "[encoded data removed]",
      "text/plain": [
       "<Figure size 432x288 with 1 Axes>"
      ]
     },
     "metadata": {
      "needs_background": "light"
     },
     "output_type": "display_data"
    }
   ],
   "source": [
    "plt.scatter(embed2[:,0], embed2[:,1])"
   ]
  },
  {
   "cell_type": "code",
   "execution_count": null,
   "metadata": {},
   "outputs": [],
   "source": []
  },
  {
   "cell_type": "markdown",
   "metadata": {
    "id": "KeE7GQK3SePd"
   },
   "source": [
    "6. 分析結果の中で、極端な観測値(外れ値)となっている会社の会社名を変数outlierに代入し、それを表示させよ。"
   ]
  },
  {
   "cell_type": "code",
   "execution_count": 22,
   "metadata": {
    "id": "_7h51EnIfIrZ"
   },
   "outputs": [
    {
     "name": "stdout",
     "output_type": "stream",
     "text": [
      "        発行済み株式数     BPS    EPS           純利益    従業員数           売上高\n",
      "24  135339722.0  402.12 -60.61 -8.428000e+09  1140.0  3.576500e+10\n",
      "        発行済み株式数     BPS    EPS           純利益    従業員数           売上高\n",
      "24  135339722.0  402.12 -60.61 -8.428000e+09  1140.0  3.576500e+10\n"
     ]
    },
    {
     "data": {
      "text/html": [
       "<div>\n",
       "<style scoped>\n",
       "    .dataframe tbody tr th:only-of-type {\n",
       "        vertical-align: middle;\n",
       "    }\n",
       "\n",
       "    .dataframe tbody tr th {\n",
       "        vertical-align: top;\n",
       "    }\n",
       "\n",
       "    .dataframe thead th {\n",
       "        text-align: right;\n",
       "    }\n",
       "</style>\n",
       "<table border=\"1\" class=\"dataframe\">\n",
       "  <thead>\n",
       "    <tr style=\"text-align: right;\">\n",
       "      <th></th>\n",
       "      <th>Unnamed: 0</th>\n",
       "      <th>会社名</th>\n",
       "      <th>提出日</th>\n",
       "      <th>当年度開始日</th>\n",
       "      <th>発行済み株式数</th>\n",
       "      <th>BPS</th>\n",
       "      <th>EPS</th>\n",
       "      <th>純利益</th>\n",
       "      <th>従業員数</th>\n",
       "      <th>売上高</th>\n",
       "      <th>証券コード</th>\n",
       "      <th>業種</th>\n",
       "      <th>file_nm</th>\n",
       "    </tr>\n",
       "  </thead>\n",
       "  <tbody>\n",
       "    <tr>\n",
       "      <th>0</th>\n",
       "      <td>E33868</td>\n",
       "      <td>アジャイルメディア・ネットワーク株式会社</td>\n",
       "      <td>2018-03-30</td>\n",
       "      <td>2017-01-01</td>\n",
       "      <td>584000.0</td>\n",
       "      <td>593.71</td>\n",
       "      <td>234.64</td>\n",
       "      <td>6.379100e+07</td>\n",
       "      <td>48.0</td>\n",
       "      <td>7.345960e+08</td>\n",
       "      <td>6573</td>\n",
       "      <td>サービス業</td>\n",
       "      <td>jpcrp030000-asr-001_E33868-000_2017-12-31_01_2...</td>\n",
       "    </tr>\n",
       "    <tr>\n",
       "      <th>1</th>\n",
       "      <td>E33858</td>\n",
       "      <td>株式会社和心</td>\n",
       "      <td>2018-03-30</td>\n",
       "      <td>2017-01-01</td>\n",
       "      <td>2465700.0</td>\n",
       "      <td>239.15</td>\n",
       "      <td>63.07</td>\n",
       "      <td>1.508330e+08</td>\n",
       "      <td>100.0</td>\n",
       "      <td>2.488994e+09</td>\n",
       "      <td>9271</td>\n",
       "      <td>小売業</td>\n",
       "      <td>jpcrp030000-asr-001_E33858-000_2017-12-31_01_2...</td>\n",
       "    </tr>\n",
       "    <tr>\n",
       "      <th>2</th>\n",
       "      <td>E33626</td>\n",
       "      <td>株式会社すららネット</td>\n",
       "      <td>2018-03-28</td>\n",
       "      <td>2017-01-01</td>\n",
       "      <td>1236700.0</td>\n",
       "      <td>567.16</td>\n",
       "      <td>71.14</td>\n",
       "      <td>7.815600e+07</td>\n",
       "      <td>27.0</td>\n",
       "      <td>7.316630e+08</td>\n",
       "      <td>3998</td>\n",
       "      <td>情報・通信業</td>\n",
       "      <td>jpcrp030000-asr-001_E33626-000_2017-12-31_01_2...</td>\n",
       "    </tr>\n",
       "    <tr>\n",
       "      <th>3</th>\n",
       "      <td>E33863</td>\n",
       "      <td>株式会社アズ企画設計</td>\n",
       "      <td>2018-05-30</td>\n",
       "      <td>2017-03-01</td>\n",
       "      <td>800000.0</td>\n",
       "      <td>1150.47</td>\n",
       "      <td>391.48</td>\n",
       "      <td>2.740350e+08</td>\n",
       "      <td>40.0</td>\n",
       "      <td>6.376023e+09</td>\n",
       "      <td>3490</td>\n",
       "      <td>不動産業</td>\n",
       "      <td>jpcrp030000-asr-001_E33863-000_2018-02-28_01_2...</td>\n",
       "    </tr>\n",
       "    <tr>\n",
       "      <th>4</th>\n",
       "      <td>E33819</td>\n",
       "      <td>株式会社フェイスネットワーク</td>\n",
       "      <td>2018-06-26</td>\n",
       "      <td>2017-04-01</td>\n",
       "      <td>4980000.0</td>\n",
       "      <td>669.67</td>\n",
       "      <td>175.52</td>\n",
       "      <td>7.088960e+08</td>\n",
       "      <td>117.0</td>\n",
       "      <td>1.394581e+10</td>\n",
       "      <td>3489</td>\n",
       "      <td>不動産業</td>\n",
       "      <td>jpcrp030000-asr-001_E33819-000_2018-03-31_01_2...</td>\n",
       "    </tr>\n",
       "    <tr>\n",
       "      <th>5</th>\n",
       "      <td>E34082</td>\n",
       "      <td>ログリー株式会社</td>\n",
       "      <td>2018-06-29</td>\n",
       "      <td>2017-04-01</td>\n",
       "      <td>1539000.0</td>\n",
       "      <td>359.85</td>\n",
       "      <td>68.08</td>\n",
       "      <td>1.047720e+08</td>\n",
       "      <td>29.0</td>\n",
       "      <td>1.605367e+09</td>\n",
       "      <td>6579</td>\n",
       "      <td>サービス業</td>\n",
       "      <td>jpcrp030000-asr-001_E34082-000_2018-03-31_01_2...</td>\n",
       "    </tr>\n",
       "    <tr>\n",
       "      <th>6</th>\n",
       "      <td>E33638</td>\n",
       "      <td>ＡＢホテル株式会社</td>\n",
       "      <td>2018-06-27</td>\n",
       "      <td>2017-04-01</td>\n",
       "      <td>7088000.0</td>\n",
       "      <td>626.46</td>\n",
       "      <td>106.20</td>\n",
       "      <td>7.231170e+08</td>\n",
       "      <td>20.0</td>\n",
       "      <td>4.420450e+09</td>\n",
       "      <td>6565</td>\n",
       "      <td>サービス業</td>\n",
       "      <td>jpcrp030000-asr-001_E33638-000_2018-03-31_01_2...</td>\n",
       "    </tr>\n",
       "    <tr>\n",
       "      <th>7</th>\n",
       "      <td>E34031</td>\n",
       "      <td>株式会社ＳＩＧ</td>\n",
       "      <td>2018-06-29</td>\n",
       "      <td>2017-04-01</td>\n",
       "      <td>1644000.0</td>\n",
       "      <td>445.87</td>\n",
       "      <td>111.47</td>\n",
       "      <td>1.790450e+08</td>\n",
       "      <td>335.0</td>\n",
       "      <td>3.804145e+09</td>\n",
       "      <td>4386</td>\n",
       "      <td>情報・通信業</td>\n",
       "      <td>jpcrp030000-asr-001_E34031-000_2018-03-31_01_2...</td>\n",
       "    </tr>\n",
       "    <tr>\n",
       "      <th>8</th>\n",
       "      <td>E33882</td>\n",
       "      <td>ブティックス株式会社</td>\n",
       "      <td>2018-06-27</td>\n",
       "      <td>2017-04-01</td>\n",
       "      <td>2124000.0</td>\n",
       "      <td>121.56</td>\n",
       "      <td>34.62</td>\n",
       "      <td>7.354200e+07</td>\n",
       "      <td>39.0</td>\n",
       "      <td>1.333177e+09</td>\n",
       "      <td>9272</td>\n",
       "      <td>小売業</td>\n",
       "      <td>jpcrp030000-asr-001_E33882-000_2018-03-31_01_2...</td>\n",
       "    </tr>\n",
       "    <tr>\n",
       "      <th>9</th>\n",
       "      <td>E33903</td>\n",
       "      <td>ヒューマン・アソシエイツ・ホールディングス株式会社</td>\n",
       "      <td>2018-06-26</td>\n",
       "      <td>2017-04-01</td>\n",
       "      <td>2782000.0</td>\n",
       "      <td>247.25</td>\n",
       "      <td>64.32</td>\n",
       "      <td>1.115880e+08</td>\n",
       "      <td>100.0</td>\n",
       "      <td>1.948142e+09</td>\n",
       "      <td>6575</td>\n",
       "      <td>サービス業</td>\n",
       "      <td>jpcrp030000-asr-001_E33903-000_2018-03-31_01_2...</td>\n",
       "    </tr>\n",
       "    <tr>\n",
       "      <th>10</th>\n",
       "      <td>E33633</td>\n",
       "      <td>株式会社要興業</td>\n",
       "      <td>2018-06-26</td>\n",
       "      <td>2017-04-01</td>\n",
       "      <td>15871400.0</td>\n",
       "      <td>913.60</td>\n",
       "      <td>53.36</td>\n",
       "      <td>7.096470e+08</td>\n",
       "      <td>441.0</td>\n",
       "      <td>1.081104e+10</td>\n",
       "      <td>6566</td>\n",
       "      <td>サービス業</td>\n",
       "      <td>jpcrp030000-asr-001_E33633-000_2018-03-31_01_2...</td>\n",
       "    </tr>\n",
       "    <tr>\n",
       "      <th>11</th>\n",
       "      <td>E33825</td>\n",
       "      <td>ビープラッツ株式会社</td>\n",
       "      <td>2018-06-28</td>\n",
       "      <td>2017-04-01</td>\n",
       "      <td>1009480.0</td>\n",
       "      <td>235.59</td>\n",
       "      <td>41.35</td>\n",
       "      <td>4.046900e+07</td>\n",
       "      <td>41.0</td>\n",
       "      <td>5.611480e+08</td>\n",
       "      <td>4381</td>\n",
       "      <td>情報・通信業</td>\n",
       "      <td>jpcrp030000-asr-001_E33825-000_2018-03-31_01_2...</td>\n",
       "    </tr>\n",
       "    <tr>\n",
       "      <th>12</th>\n",
       "      <td>E33864</td>\n",
       "      <td>株式会社コンヴァノ</td>\n",
       "      <td>2018-06-29</td>\n",
       "      <td>2017-04-01</td>\n",
       "      <td>2136810.0</td>\n",
       "      <td>343.75</td>\n",
       "      <td>42.38</td>\n",
       "      <td>-3.940100e+07</td>\n",
       "      <td>265.0</td>\n",
       "      <td>2.011972e+09</td>\n",
       "      <td>6574</td>\n",
       "      <td>サービス業</td>\n",
       "      <td>jpcrp030000-asr-001_E33864-000_2018-03-31_01_2...</td>\n",
       "    </tr>\n",
       "    <tr>\n",
       "      <th>13</th>\n",
       "      <td>E34018</td>\n",
       "      <td>株式会社ライトアップ</td>\n",
       "      <td>2018-06-29</td>\n",
       "      <td>2017-04-01</td>\n",
       "      <td>2682000.0</td>\n",
       "      <td>368.71</td>\n",
       "      <td>109.20</td>\n",
       "      <td>2.928780e+08</td>\n",
       "      <td>75.0</td>\n",
       "      <td>1.606677e+09</td>\n",
       "      <td>6580</td>\n",
       "      <td>情報・通信業</td>\n",
       "      <td>jpcrp030000-asr-001_E34018-000_2018-03-31_01_2...</td>\n",
       "    </tr>\n",
       "    <tr>\n",
       "      <th>14</th>\n",
       "      <td>E33881</td>\n",
       "      <td>ＲＰＡホールディングス株式会社</td>\n",
       "      <td>2018-05-31</td>\n",
       "      <td>2017-03-01</td>\n",
       "      <td>5160000.0</td>\n",
       "      <td>330.31</td>\n",
       "      <td>60.72</td>\n",
       "      <td>5.560200e+07</td>\n",
       "      <td>76.0</td>\n",
       "      <td>4.188747e+09</td>\n",
       "      <td>6572</td>\n",
       "      <td>サービス業</td>\n",
       "      <td>jpcrp030000-asr-001_E33881-000_2018-02-28_01_2...</td>\n",
       "    </tr>\n",
       "    <tr>\n",
       "      <th>15</th>\n",
       "      <td>E33822</td>\n",
       "      <td>株式会社共和コーポレーション</td>\n",
       "      <td>2018-06-27</td>\n",
       "      <td>2017-04-01</td>\n",
       "      <td>3013500.0</td>\n",
       "      <td>1134.61</td>\n",
       "      <td>135.20</td>\n",
       "      <td>2.625230e+08</td>\n",
       "      <td>166.0</td>\n",
       "      <td>1.328509e+10</td>\n",
       "      <td>6570</td>\n",
       "      <td>サービス業</td>\n",
       "      <td>jpcrp030000-asr-001_E33822-000_2018-03-31_01_2...</td>\n",
       "    </tr>\n",
       "    <tr>\n",
       "      <th>16</th>\n",
       "      <td>E33928</td>\n",
       "      <td>株式会社エヌリンクス</td>\n",
       "      <td>2018-05-29</td>\n",
       "      <td>2017-03-01</td>\n",
       "      <td>1000000.0</td>\n",
       "      <td>296.00</td>\n",
       "      <td>101.34</td>\n",
       "      <td>2.026890e+08</td>\n",
       "      <td>551.0</td>\n",
       "      <td>3.958344e+09</td>\n",
       "      <td>6578</td>\n",
       "      <td>サービス業</td>\n",
       "      <td>jpcrp030000-asr-001_E33928-000_2018-02-28_01_2...</td>\n",
       "    </tr>\n",
       "    <tr>\n",
       "      <th>17</th>\n",
       "      <td>E33815</td>\n",
       "      <td>日総工産株式会社</td>\n",
       "      <td>2018-06-29</td>\n",
       "      <td>2017-04-01</td>\n",
       "      <td>8291200.0</td>\n",
       "      <td>1123.80</td>\n",
       "      <td>151.58</td>\n",
       "      <td>1.000538e+09</td>\n",
       "      <td>1574.0</td>\n",
       "      <td>5.920846e+10</td>\n",
       "      <td>6569</td>\n",
       "      <td>サービス業</td>\n",
       "      <td>jpcrp030000-asr-001_E33815-000_2018-03-31_01_2...</td>\n",
       "    </tr>\n",
       "    <tr>\n",
       "      <th>18</th>\n",
       "      <td>E34052</td>\n",
       "      <td>株式会社エーアイ</td>\n",
       "      <td>2018-06-29</td>\n",
       "      <td>2017-04-01</td>\n",
       "      <td>4721000.0</td>\n",
       "      <td>148.73</td>\n",
       "      <td>24.73</td>\n",
       "      <td>1.094150e+08</td>\n",
       "      <td>28.0</td>\n",
       "      <td>5.910520e+08</td>\n",
       "      <td>4388</td>\n",
       "      <td>情報・通信業</td>\n",
       "      <td>jpcrp030000-asr-001_E34052-000_2018-03-31_01_2...</td>\n",
       "    </tr>\n",
       "    <tr>\n",
       "      <th>19</th>\n",
       "      <td>E33794</td>\n",
       "      <td>神戸天然物化学株式会社</td>\n",
       "      <td>2018-06-28</td>\n",
       "      <td>2017-04-01</td>\n",
       "      <td>7720200.0</td>\n",
       "      <td>1131.65</td>\n",
       "      <td>148.35</td>\n",
       "      <td>9.009040e+08</td>\n",
       "      <td>245.0</td>\n",
       "      <td>6.312682e+09</td>\n",
       "      <td>6568</td>\n",
       "      <td>サービス業</td>\n",
       "      <td>jpcrp030000-asr-001_E33794-000_2018-03-31_01_2...</td>\n",
       "    </tr>\n",
       "    <tr>\n",
       "      <th>20</th>\n",
       "      <td>E34090</td>\n",
       "      <td>プロパティデータバンク株式会社</td>\n",
       "      <td>2018-06-29</td>\n",
       "      <td>2017-04-01</td>\n",
       "      <td>2140.0</td>\n",
       "      <td>725.38</td>\n",
       "      <td>97.37</td>\n",
       "      <td>1.458630e+08</td>\n",
       "      <td>52.0</td>\n",
       "      <td>1.239893e+09</td>\n",
       "      <td>4389</td>\n",
       "      <td>情報・通信業</td>\n",
       "      <td>jpcrp030000-asr-001_E34090-000_2018-03-31_01_2...</td>\n",
       "    </tr>\n",
       "    <tr>\n",
       "      <th>21</th>\n",
       "      <td>E34094</td>\n",
       "      <td>株式会社ＺＵＵ</td>\n",
       "      <td>2018-06-29</td>\n",
       "      <td>2017-04-01</td>\n",
       "      <td>188674.0</td>\n",
       "      <td>297.65</td>\n",
       "      <td>26.95</td>\n",
       "      <td>1.196500e+07</td>\n",
       "      <td>45.0</td>\n",
       "      <td>9.443890e+08</td>\n",
       "      <td>4387</td>\n",
       "      <td>サービス業</td>\n",
       "      <td>jpcrp030000-asr-001_E34094-000_2018-03-31_01_2...</td>\n",
       "    </tr>\n",
       "    <tr>\n",
       "      <th>22</th>\n",
       "      <td>E33834</td>\n",
       "      <td>信和株式会社</td>\n",
       "      <td>2018-06-27</td>\n",
       "      <td>2017-04-01</td>\n",
       "      <td>13788400.0</td>\n",
       "      <td>868.04</td>\n",
       "      <td>105.87</td>\n",
       "      <td>7.929770e+08</td>\n",
       "      <td>148.0</td>\n",
       "      <td>1.556606e+10</td>\n",
       "      <td>3447</td>\n",
       "      <td>金属製品</td>\n",
       "      <td>jpcrp030000-asr-001_E33834-000_2018-03-31_01_2...</td>\n",
       "    </tr>\n",
       "    <tr>\n",
       "      <th>23</th>\n",
       "      <td>E33777</td>\n",
       "      <td>株式会社ジェイテックコーポレーション</td>\n",
       "      <td>2018-09-28</td>\n",
       "      <td>2017-07-01</td>\n",
       "      <td>5775000.0</td>\n",
       "      <td>364.56</td>\n",
       "      <td>32.76</td>\n",
       "      <td>1.745150e+08</td>\n",
       "      <td>35.0</td>\n",
       "      <td>1.009889e+09</td>\n",
       "      <td>3446</td>\n",
       "      <td>金属製品</td>\n",
       "      <td>jpcrp030000-asr-001_E33777-000_2018-06-30_01_2...</td>\n",
       "    </tr>\n",
       "    <tr>\n",
       "      <th>24</th>\n",
       "      <td>E34064</td>\n",
       "      <td>株式会社メルカリ</td>\n",
       "      <td>2018-09-28</td>\n",
       "      <td>2017-07-01</td>\n",
       "      <td>135339722.0</td>\n",
       "      <td>402.12</td>\n",
       "      <td>-60.61</td>\n",
       "      <td>-8.428000e+09</td>\n",
       "      <td>1140.0</td>\n",
       "      <td>3.576500e+10</td>\n",
       "      <td>4385</td>\n",
       "      <td>情報・通信業</td>\n",
       "      <td>jpcrp030000-asr-001_E34064-000_2018-06-30_01_2...</td>\n",
       "    </tr>\n",
       "    <tr>\n",
       "      <th>25</th>\n",
       "      <td>E33854</td>\n",
       "      <td>日本リビング保証株式会社</td>\n",
       "      <td>2018-09-27</td>\n",
       "      <td>2017-07-01</td>\n",
       "      <td>1586500.0</td>\n",
       "      <td>203.02</td>\n",
       "      <td>71.19</td>\n",
       "      <td>8.530400e+07</td>\n",
       "      <td>58.0</td>\n",
       "      <td>1.287048e+09</td>\n",
       "      <td>7320</td>\n",
       "      <td>その他金融業</td>\n",
       "      <td>jpcrp030000-asr-001_E33854-000_2018-06-30_01_2...</td>\n",
       "    </tr>\n",
       "    <tr>\n",
       "      <th>26</th>\n",
       "      <td>E33776</td>\n",
       "      <td>株式会社ＳＥＲＩＯホールディングス</td>\n",
       "      <td>2018-08-28</td>\n",
       "      <td>2017-06-01</td>\n",
       "      <td>3157500.0</td>\n",
       "      <td>507.45</td>\n",
       "      <td>18.04</td>\n",
       "      <td>2.209100e+07</td>\n",
       "      <td>386.0</td>\n",
       "      <td>5.084081e+09</td>\n",
       "      <td>6567</td>\n",
       "      <td>サービス業</td>\n",
       "      <td>jpcrp030000-asr-001_E33776-000_2018-05-31_01_2...</td>\n",
       "    </tr>\n",
       "    <tr>\n",
       "      <th>27</th>\n",
       "      <td>E34071</td>\n",
       "      <td>コーア商事ホールディングス株式会社</td>\n",
       "      <td>2018-09-27</td>\n",
       "      <td>2017-07-01</td>\n",
       "      <td>3301665.0</td>\n",
       "      <td>3933.23</td>\n",
       "      <td>235.04</td>\n",
       "      <td>1.149470e+08</td>\n",
       "      <td>308.0</td>\n",
       "      <td>1.482508e+10</td>\n",
       "      <td>9273</td>\n",
       "      <td>医薬品</td>\n",
       "      <td>jpcrp030000-asr-001_E34071-000_2018-06-30_01_2...</td>\n",
       "    </tr>\n",
       "    <tr>\n",
       "      <th>28</th>\n",
       "      <td>E34288</td>\n",
       "      <td>株式会社ブロードバンドセキュリティ</td>\n",
       "      <td>2018-09-28</td>\n",
       "      <td>2017-07-01</td>\n",
       "      <td>3455730.0</td>\n",
       "      <td>113.92</td>\n",
       "      <td>49.89</td>\n",
       "      <td>1.723910e+08</td>\n",
       "      <td>181.0</td>\n",
       "      <td>3.346516e+09</td>\n",
       "      <td>4398</td>\n",
       "      <td>情報・通信業</td>\n",
       "      <td>jpcrp030000-asr-001_E34288-000_2018-06-30_01_2...</td>\n",
       "    </tr>\n",
       "    <tr>\n",
       "      <th>29</th>\n",
       "      <td>E33839</td>\n",
       "      <td>株式会社ファイバーゲート</td>\n",
       "      <td>2018-09-28</td>\n",
       "      <td>2017-07-01</td>\n",
       "      <td>4761900.0</td>\n",
       "      <td>144.92</td>\n",
       "      <td>40.81</td>\n",
       "      <td>2.169250e+08</td>\n",
       "      <td>141.0</td>\n",
       "      <td>3.977485e+09</td>\n",
       "      <td>9450</td>\n",
       "      <td>情報・通信業</td>\n",
       "      <td>jpcrp030000-asr-001_E33839-000_2018-06-30_01_2...</td>\n",
       "    </tr>\n",
       "    <tr>\n",
       "      <th>30</th>\n",
       "      <td>E34111</td>\n",
       "      <td>株式会社システムサポート</td>\n",
       "      <td>2018-09-27</td>\n",
       "      <td>2017-07-01</td>\n",
       "      <td>1880000.0</td>\n",
       "      <td>297.18</td>\n",
       "      <td>116.32</td>\n",
       "      <td>1.440630e+08</td>\n",
       "      <td>869.0</td>\n",
       "      <td>9.970304e+09</td>\n",
       "      <td>4396</td>\n",
       "      <td>情報・通信業</td>\n",
       "      <td>jpcrp030000-asr-001_E34111-000_2018-06-30_01_2...</td>\n",
       "    </tr>\n",
       "    <tr>\n",
       "      <th>31</th>\n",
       "      <td>E34281</td>\n",
       "      <td>株式会社アイリックコーポレーション</td>\n",
       "      <td>2018-09-28</td>\n",
       "      <td>2017-07-01</td>\n",
       "      <td>34460.0</td>\n",
       "      <td>507.43</td>\n",
       "      <td>58.81</td>\n",
       "      <td>1.574530e+08</td>\n",
       "      <td>245.0</td>\n",
       "      <td>3.093502e+09</td>\n",
       "      <td>7325</td>\n",
       "      <td>保険業</td>\n",
       "      <td>jpcrp030000-asr-001_E34281-000_2018-06-30_01_2...</td>\n",
       "    </tr>\n",
       "    <tr>\n",
       "      <th>32</th>\n",
       "      <td>E34045</td>\n",
       "      <td>ロジザード株式会社</td>\n",
       "      <td>2018-09-25</td>\n",
       "      <td>2017-07-01</td>\n",
       "      <td>2661500.0</td>\n",
       "      <td>169.19</td>\n",
       "      <td>37.01</td>\n",
       "      <td>1.034270e+08</td>\n",
       "      <td>71.0</td>\n",
       "      <td>1.347365e+09</td>\n",
       "      <td>4391</td>\n",
       "      <td>情報・通信業</td>\n",
       "      <td>jpcrp030000-asr-001_E34045-000_2018-06-30_01_2...</td>\n",
       "    </tr>\n",
       "    <tr>\n",
       "      <th>33</th>\n",
       "      <td>E33880</td>\n",
       "      <td>ＨＥＲＯＺ株式会社</td>\n",
       "      <td>2018-07-30</td>\n",
       "      <td>2017-05-01</td>\n",
       "      <td>3333839.0</td>\n",
       "      <td>451.38</td>\n",
       "      <td>82.08</td>\n",
       "      <td>2.470720e+08</td>\n",
       "      <td>39.0</td>\n",
       "      <td>1.155023e+09</td>\n",
       "      <td>4382</td>\n",
       "      <td>情報・通信業</td>\n",
       "      <td>jpcrp030000-asr-001_E33880-000_2018-04-30_01_2...</td>\n",
       "    </tr>\n",
       "    <tr>\n",
       "      <th>34</th>\n",
       "      <td>E34285</td>\n",
       "      <td>株式会社アズーム</td>\n",
       "      <td>2018-12-21</td>\n",
       "      <td>2017-10-01</td>\n",
       "      <td>1453000.0</td>\n",
       "      <td>574.14</td>\n",
       "      <td>90.76</td>\n",
       "      <td>1.099300e+08</td>\n",
       "      <td>75.0</td>\n",
       "      <td>1.845225e+09</td>\n",
       "      <td>3496</td>\n",
       "      <td>不動産業</td>\n",
       "      <td>jpcrp030000-asr-001_E34285-000_2018-09-30_01_2...</td>\n",
       "    </tr>\n",
       "    <tr>\n",
       "      <th>35</th>\n",
       "      <td>E34335</td>\n",
       "      <td>株式会社ディ・アイ・システム</td>\n",
       "      <td>2018-12-21</td>\n",
       "      <td>2017-10-01</td>\n",
       "      <td>1180000.0</td>\n",
       "      <td>303.96</td>\n",
       "      <td>117.96</td>\n",
       "      <td>1.258060e+08</td>\n",
       "      <td>408.0</td>\n",
       "      <td>3.355871e+09</td>\n",
       "      <td>4421</td>\n",
       "      <td>情報・通信業</td>\n",
       "      <td>jpcrp030000-asr-001_E34335-000_2018-09-30_01_2...</td>\n",
       "    </tr>\n",
       "    <tr>\n",
       "      <th>36</th>\n",
       "      <td>E34497</td>\n",
       "      <td>株式会社Amazia</td>\n",
       "      <td>2018-12-25</td>\n",
       "      <td>2017-10-01</td>\n",
       "      <td>3018000.0</td>\n",
       "      <td>102.10</td>\n",
       "      <td>31.81</td>\n",
       "      <td>9.495100e+07</td>\n",
       "      <td>12.0</td>\n",
       "      <td>1.375500e+09</td>\n",
       "      <td>4424</td>\n",
       "      <td>情報・通信業</td>\n",
       "      <td>jpcrp030000-asr-001_E34497-000_2018-09-30_01_2...</td>\n",
       "    </tr>\n",
       "    <tr>\n",
       "      <th>37</th>\n",
       "      <td>E34379</td>\n",
       "      <td>株式会社アクセスグループ・ホールディングス</td>\n",
       "      <td>2018-12-28</td>\n",
       "      <td>2017-10-01</td>\n",
       "      <td>919800.0</td>\n",
       "      <td>959.45</td>\n",
       "      <td>127.56</td>\n",
       "      <td>6.173400e+07</td>\n",
       "      <td>170.0</td>\n",
       "      <td>4.598604e+09</td>\n",
       "      <td>7042</td>\n",
       "      <td>サービス業</td>\n",
       "      <td>jpcrp030000-asr-001_E34379-000_2018-09-30_01_2...</td>\n",
       "    </tr>\n",
       "    <tr>\n",
       "      <th>38</th>\n",
       "      <td>E33807</td>\n",
       "      <td>株式会社ＳＯＵ</td>\n",
       "      <td>2018-11-22</td>\n",
       "      <td>2017-09-01</td>\n",
       "      <td>6070510.0</td>\n",
       "      <td>954.89</td>\n",
       "      <td>214.19</td>\n",
       "      <td>1.126108e+09</td>\n",
       "      <td>421.0</td>\n",
       "      <td>3.152927e+10</td>\n",
       "      <td>9270</td>\n",
       "      <td>卸売業</td>\n",
       "      <td>jpcrp030000-asr-001_E33807-000_2018-08-31_02_2...</td>\n",
       "    </tr>\n",
       "    <tr>\n",
       "      <th>39</th>\n",
       "      <td>E34271</td>\n",
       "      <td>株式会社マリオン</td>\n",
       "      <td>2018-12-21</td>\n",
       "      <td>2017-10-01</td>\n",
       "      <td>1602200.0</td>\n",
       "      <td>2197.98</td>\n",
       "      <td>202.75</td>\n",
       "      <td>2.515030e+08</td>\n",
       "      <td>19.0</td>\n",
       "      <td>2.736339e+09</td>\n",
       "      <td>3494</td>\n",
       "      <td>不動産業</td>\n",
       "      <td>jpcrp030000-asr-001_E34271-000_2018-09-30_02_2...</td>\n",
       "    </tr>\n",
       "    <tr>\n",
       "      <th>40</th>\n",
       "      <td>E34225</td>\n",
       "      <td>株式会社チームスピリット</td>\n",
       "      <td>2018-11-28</td>\n",
       "      <td>2017-09-01</td>\n",
       "      <td>7382000.0</td>\n",
       "      <td>113.24</td>\n",
       "      <td>13.10</td>\n",
       "      <td>9.146200e+07</td>\n",
       "      <td>64.0</td>\n",
       "      <td>1.232403e+09</td>\n",
       "      <td>4397</td>\n",
       "      <td>情報・通信業</td>\n",
       "      <td>jpcrp030000-asr-001_E34225-000_2018-08-31_01_2...</td>\n",
       "    </tr>\n",
       "    <tr>\n",
       "      <th>41</th>\n",
       "      <td>E34116</td>\n",
       "      <td>株式会社バンク・オブ・イノベーション</td>\n",
       "      <td>2018-12-26</td>\n",
       "      <td>2017-10-01</td>\n",
       "      <td>3896000.0</td>\n",
       "      <td>285.66</td>\n",
       "      <td>99.98</td>\n",
       "      <td>3.632420e+08</td>\n",
       "      <td>141.0</td>\n",
       "      <td>5.052275e+09</td>\n",
       "      <td>4393</td>\n",
       "      <td>情報・通信業</td>\n",
       "      <td>jpcrp030000-asr-001_E34116-000_2018-09-30_01_2...</td>\n",
       "    </tr>\n",
       "    <tr>\n",
       "      <th>42</th>\n",
       "      <td>E34273</td>\n",
       "      <td>極東産機株式会社</td>\n",
       "      <td>2018-12-26</td>\n",
       "      <td>2017-10-01</td>\n",
       "      <td>5235000.0</td>\n",
       "      <td>491.66</td>\n",
       "      <td>71.40</td>\n",
       "      <td>3.033420e+08</td>\n",
       "      <td>260.0</td>\n",
       "      <td>9.014643e+09</td>\n",
       "      <td>6233</td>\n",
       "      <td>機械</td>\n",
       "      <td>jpcrp030000-asr-001_E34273-000_2018-09-30_01_2...</td>\n",
       "    </tr>\n",
       "    <tr>\n",
       "      <th>43</th>\n",
       "      <td>E34053</td>\n",
       "      <td>株式会社スプリックス</td>\n",
       "      <td>2018-12-26</td>\n",
       "      <td>2017-10-01</td>\n",
       "      <td>17131050.0</td>\n",
       "      <td>377.63</td>\n",
       "      <td>97.06</td>\n",
       "      <td>1.566498e+09</td>\n",
       "      <td>387.0</td>\n",
       "      <td>1.045178e+10</td>\n",
       "      <td>7030</td>\n",
       "      <td>サービス業</td>\n",
       "      <td>jpcrp030000-asr-001_E34053-000_2018-09-30_01_2...</td>\n",
       "    </tr>\n",
       "    <tr>\n",
       "      <th>44</th>\n",
       "      <td>E34095</td>\n",
       "      <td>株式会社キャンディル</td>\n",
       "      <td>2018-12-21</td>\n",
       "      <td>2017-10-01</td>\n",
       "      <td>5028200.0</td>\n",
       "      <td>565.12</td>\n",
       "      <td>35.31</td>\n",
       "      <td>1.607340e+08</td>\n",
       "      <td>618.0</td>\n",
       "      <td>1.223958e+10</td>\n",
       "      <td>1446</td>\n",
       "      <td>建設業</td>\n",
       "      <td>jpcrp030000-asr-001_E34095-000_2018-09-30_01_2...</td>\n",
       "    </tr>\n",
       "    <tr>\n",
       "      <th>45</th>\n",
       "      <td>E33948</td>\n",
       "      <td>株式会社ベストワンドットコム</td>\n",
       "      <td>2018-10-26</td>\n",
       "      <td>2017-08-01</td>\n",
       "      <td>609000.0</td>\n",
       "      <td>1072.81</td>\n",
       "      <td>138.30</td>\n",
       "      <td>7.818200e+07</td>\n",
       "      <td>22.0</td>\n",
       "      <td>1.587520e+09</td>\n",
       "      <td>6577</td>\n",
       "      <td>サービス業</td>\n",
       "      <td>jpcrp030000-asr-001_E33948-000_2018-07-31_01_2...</td>\n",
       "    </tr>\n",
       "    <tr>\n",
       "      <th>46</th>\n",
       "      <td>E34352</td>\n",
       "      <td>ＣＲＧホールディングス株式会社</td>\n",
       "      <td>2018-12-26</td>\n",
       "      <td>2017-10-01</td>\n",
       "      <td>4700000.0</td>\n",
       "      <td>257.54</td>\n",
       "      <td>71.52</td>\n",
       "      <td>7.207400e+07</td>\n",
       "      <td>418.0</td>\n",
       "      <td>2.062877e+10</td>\n",
       "      <td>7041</td>\n",
       "      <td>サービス業</td>\n",
       "      <td>jpcrp030000-asr-001_E34352-000_2018-09-30_01_2...</td>\n",
       "    </tr>\n",
       "    <tr>\n",
       "      <th>47</th>\n",
       "      <td>E34114</td>\n",
       "      <td>ＶＡＬＵＥＮＥＸ株式会社</td>\n",
       "      <td>2018-10-31</td>\n",
       "      <td>2017-08-01</td>\n",
       "      <td>2326200.0</td>\n",
       "      <td>89.46</td>\n",
       "      <td>36.92</td>\n",
       "      <td>6.316500e+07</td>\n",
       "      <td>17.0</td>\n",
       "      <td>5.077440e+08</td>\n",
       "      <td>4422</td>\n",
       "      <td>情報・通信業</td>\n",
       "      <td>jpcrp030000-asr-001_E34114-000_2018-07-31_01_2...</td>\n",
       "    </tr>\n",
       "    <tr>\n",
       "      <th>48</th>\n",
       "      <td>E34256</td>\n",
       "      <td>香陵住販株式会社</td>\n",
       "      <td>2018-12-27</td>\n",
       "      <td>2017-10-01</td>\n",
       "      <td>1303300.0</td>\n",
       "      <td>2032.50</td>\n",
       "      <td>326.42</td>\n",
       "      <td>3.081770e+08</td>\n",
       "      <td>172.0</td>\n",
       "      <td>5.328500e+09</td>\n",
       "      <td>3495</td>\n",
       "      <td>不動産業</td>\n",
       "      <td>jpcrp030000-asr-001_E34256-000_2018-09-30_01_2...</td>\n",
       "    </tr>\n",
       "    <tr>\n",
       "      <th>49</th>\n",
       "      <td>E34054</td>\n",
       "      <td>株式会社ＭＴＧ</td>\n",
       "      <td>2018-12-25</td>\n",
       "      <td>2017-10-01</td>\n",
       "      <td>39680000.0</td>\n",
       "      <td>1500.67</td>\n",
       "      <td>161.03</td>\n",
       "      <td>5.663000e+09</td>\n",
       "      <td>1205.0</td>\n",
       "      <td>6.046500e+10</td>\n",
       "      <td>7806</td>\n",
       "      <td>その他製品</td>\n",
       "      <td>jpcrp030000-asr-001_E34054-000_2018-09-30_01_2...</td>\n",
       "    </tr>\n",
       "    <tr>\n",
       "      <th>50</th>\n",
       "      <td>E34322</td>\n",
       "      <td>株式会社リーガル不動産</td>\n",
       "      <td>2018-10-31</td>\n",
       "      <td>2017-08-01</td>\n",
       "      <td>2000000.0</td>\n",
       "      <td>908.86</td>\n",
       "      <td>292.03</td>\n",
       "      <td>5.840640e+08</td>\n",
       "      <td>132.0</td>\n",
       "      <td>1.926347e+10</td>\n",
       "      <td>3497</td>\n",
       "      <td>不動産業</td>\n",
       "      <td>jpcrp030000-asr-001_E34322-000_2018-07-31_02_2...</td>\n",
       "    </tr>\n",
       "    <tr>\n",
       "      <th>51</th>\n",
       "      <td>E34289</td>\n",
       "      <td>霞ヶ関キャピタル株式会社</td>\n",
       "      <td>2018-11-30</td>\n",
       "      <td>2017-09-01</td>\n",
       "      <td>1210600.0</td>\n",
       "      <td>532.17</td>\n",
       "      <td>188.30</td>\n",
       "      <td>2.279600e+08</td>\n",
       "      <td>24.0</td>\n",
       "      <td>4.041067e+09</td>\n",
       "      <td>3498</td>\n",
       "      <td>不動産業</td>\n",
       "      <td>jpcrp030000-asr-001_E34289-000_2018-08-31_02_2...</td>\n",
       "    </tr>\n",
       "    <tr>\n",
       "      <th>52</th>\n",
       "      <td>E34238</td>\n",
       "      <td>ａｎｄ ｆａｃｔｏｒｙ株式会社</td>\n",
       "      <td>2018-11-29</td>\n",
       "      <td>2017-09-01</td>\n",
       "      <td>4210520.0</td>\n",
       "      <td>107.60</td>\n",
       "      <td>61.88</td>\n",
       "      <td>2.605630e+08</td>\n",
       "      <td>65.0</td>\n",
       "      <td>1.916130e+09</td>\n",
       "      <td>7035</td>\n",
       "      <td>サービス業</td>\n",
       "      <td>jpcrp030000-asr-001_E34238-000_2018-08-31_01_2...</td>\n",
       "    </tr>\n",
       "    <tr>\n",
       "      <th>53</th>\n",
       "      <td>E33966</td>\n",
       "      <td>ラクスル株式会社</td>\n",
       "      <td>2018-10-23</td>\n",
       "      <td>2017-08-01</td>\n",
       "      <td>27548600.0</td>\n",
       "      <td>242.29</td>\n",
       "      <td>0.72</td>\n",
       "      <td>1.545900e+07</td>\n",
       "      <td>180.0</td>\n",
       "      <td>1.117425e+10</td>\n",
       "      <td>4384</td>\n",
       "      <td>情報・通信業</td>\n",
       "      <td>jpcrp030000-asr-001_E33966-000_2018-07-31_01_2...</td>\n",
       "    </tr>\n",
       "    <tr>\n",
       "      <th>54</th>\n",
       "      <td>E34544</td>\n",
       "      <td>株式会社EduLab</td>\n",
       "      <td>2018-12-28</td>\n",
       "      <td>2017-10-01</td>\n",
       "      <td>3771300.0</td>\n",
       "      <td>335.04</td>\n",
       "      <td>73.03</td>\n",
       "      <td>8.888300e+07</td>\n",
       "      <td>115.0</td>\n",
       "      <td>3.968467e+09</td>\n",
       "      <td>4427</td>\n",
       "      <td>情報・通信業</td>\n",
       "      <td>jpcrp030000-asr-001_E34544-000_2018-09-30_01_2...</td>\n",
       "    </tr>\n",
       "  </tbody>\n",
       "</table>\n",
       "</div>"
      ],
      "text/plain": [
       "   Unnamed: 0                        会社名         提出日      当年度開始日      発行済み株式数  \\\n",
       "0      E33868       アジャイルメディア・ネットワーク株式会社  2018-03-30  2017-01-01     584000.0   \n",
       "1      E33858                     株式会社和心  2018-03-30  2017-01-01    2465700.0   \n",
       "2      E33626                 株式会社すららネット  2018-03-28  2017-01-01    1236700.0   \n",
       "3      E33863                 株式会社アズ企画設計  2018-05-30  2017-03-01     800000.0   \n",
       "4      E33819             株式会社フェイスネットワーク  2018-06-26  2017-04-01    4980000.0   \n",
       "5      E34082                   ログリー株式会社  2018-06-29  2017-04-01    1539000.0   \n",
       "6      E33638                  ＡＢホテル株式会社  2018-06-27  2017-04-01    7088000.0   \n",
       "7      E34031                    株式会社ＳＩＧ  2018-06-29  2017-04-01    1644000.0   \n",
       "8      E33882                 ブティックス株式会社  2018-06-27  2017-04-01    2124000.0   \n",
       "9      E33903  ヒューマン・アソシエイツ・ホールディングス株式会社  2018-06-26  2017-04-01    2782000.0   \n",
       "10     E33633                    株式会社要興業  2018-06-26  2017-04-01   15871400.0   \n",
       "11     E33825                 ビープラッツ株式会社  2018-06-28  2017-04-01    1009480.0   \n",
       "12     E33864                  株式会社コンヴァノ  2018-06-29  2017-04-01    2136810.0   \n",
       "13     E34018                 株式会社ライトアップ  2018-06-29  2017-04-01    2682000.0   \n",
       "14     E33881            ＲＰＡホールディングス株式会社  2018-05-31  2017-03-01    5160000.0   \n",
       "15     E33822             株式会社共和コーポレーション  2018-06-27  2017-04-01    3013500.0   \n",
       "16     E33928                 株式会社エヌリンクス  2018-05-29  2017-03-01    1000000.0   \n",
       "17     E33815                   日総工産株式会社  2018-06-29  2017-04-01    8291200.0   \n",
       "18     E34052                   株式会社エーアイ  2018-06-29  2017-04-01    4721000.0   \n",
       "19     E33794                神戸天然物化学株式会社  2018-06-28  2017-04-01    7720200.0   \n",
       "20     E34090            プロパティデータバンク株式会社  2018-06-29  2017-04-01       2140.0   \n",
       "21     E34094                    株式会社ＺＵＵ  2018-06-29  2017-04-01     188674.0   \n",
       "22     E33834                     信和株式会社  2018-06-27  2017-04-01   13788400.0   \n",
       "23     E33777         株式会社ジェイテックコーポレーション  2018-09-28  2017-07-01    5775000.0   \n",
       "24     E34064                   株式会社メルカリ  2018-09-28  2017-07-01  135339722.0   \n",
       "25     E33854               日本リビング保証株式会社  2018-09-27  2017-07-01    1586500.0   \n",
       "26     E33776          株式会社ＳＥＲＩＯホールディングス  2018-08-28  2017-06-01    3157500.0   \n",
       "27     E34071          コーア商事ホールディングス株式会社  2018-09-27  2017-07-01    3301665.0   \n",
       "28     E34288          株式会社ブロードバンドセキュリティ  2018-09-28  2017-07-01    3455730.0   \n",
       "29     E33839               株式会社ファイバーゲート  2018-09-28  2017-07-01    4761900.0   \n",
       "30     E34111               株式会社システムサポート  2018-09-27  2017-07-01    1880000.0   \n",
       "31     E34281          株式会社アイリックコーポレーション  2018-09-28  2017-07-01      34460.0   \n",
       "32     E34045                  ロジザード株式会社  2018-09-25  2017-07-01    2661500.0   \n",
       "33     E33880                  ＨＥＲＯＺ株式会社  2018-07-30  2017-05-01    3333839.0   \n",
       "34     E34285                   株式会社アズーム  2018-12-21  2017-10-01    1453000.0   \n",
       "35     E34335             株式会社ディ・アイ・システム  2018-12-21  2017-10-01    1180000.0   \n",
       "36     E34497                 株式会社Amazia  2018-12-25  2017-10-01    3018000.0   \n",
       "37     E34379      株式会社アクセスグループ・ホールディングス  2018-12-28  2017-10-01     919800.0   \n",
       "38     E33807                    株式会社ＳＯＵ  2018-11-22  2017-09-01    6070510.0   \n",
       "39     E34271                   株式会社マリオン  2018-12-21  2017-10-01    1602200.0   \n",
       "40     E34225               株式会社チームスピリット  2018-11-28  2017-09-01    7382000.0   \n",
       "41     E34116         株式会社バンク・オブ・イノベーション  2018-12-26  2017-10-01    3896000.0   \n",
       "42     E34273                   極東産機株式会社  2018-12-26  2017-10-01    5235000.0   \n",
       "43     E34053                 株式会社スプリックス  2018-12-26  2017-10-01   17131050.0   \n",
       "44     E34095                 株式会社キャンディル  2018-12-21  2017-10-01    5028200.0   \n",
       "45     E33948             株式会社ベストワンドットコム  2018-10-26  2017-08-01     609000.0   \n",
       "46     E34352            ＣＲＧホールディングス株式会社  2018-12-26  2017-10-01    4700000.0   \n",
       "47     E34114               ＶＡＬＵＥＮＥＸ株式会社  2018-10-31  2017-08-01    2326200.0   \n",
       "48     E34256                   香陵住販株式会社  2018-12-27  2017-10-01    1303300.0   \n",
       "49     E34054                    株式会社ＭＴＧ  2018-12-25  2017-10-01   39680000.0   \n",
       "50     E34322                株式会社リーガル不動産  2018-10-31  2017-08-01    2000000.0   \n",
       "51     E34289               霞ヶ関キャピタル株式会社  2018-11-30  2017-09-01    1210600.0   \n",
       "52     E34238            ａｎｄ ｆａｃｔｏｒｙ株式会社  2018-11-29  2017-09-01    4210520.0   \n",
       "53     E33966                   ラクスル株式会社  2018-10-23  2017-08-01   27548600.0   \n",
       "54     E34544                 株式会社EduLab  2018-12-28  2017-10-01    3771300.0   \n",
       "\n",
       "        BPS     EPS           純利益    従業員数           売上高  証券コード      業種  \\\n",
       "0    593.71  234.64  6.379100e+07    48.0  7.345960e+08   6573   サービス業   \n",
       "1    239.15   63.07  1.508330e+08   100.0  2.488994e+09   9271     小売業   \n",
       "2    567.16   71.14  7.815600e+07    27.0  7.316630e+08   3998  情報・通信業   \n",
       "3   1150.47  391.48  2.740350e+08    40.0  6.376023e+09   3490    不動産業   \n",
       "4    669.67  175.52  7.088960e+08   117.0  1.394581e+10   3489    不動産業   \n",
       "5    359.85   68.08  1.047720e+08    29.0  1.605367e+09   6579   サービス業   \n",
       "6    626.46  106.20  7.231170e+08    20.0  4.420450e+09   6565   サービス業   \n",
       "7    445.87  111.47  1.790450e+08   335.0  3.804145e+09   4386  情報・通信業   \n",
       "8    121.56   34.62  7.354200e+07    39.0  1.333177e+09   9272     小売業   \n",
       "9    247.25   64.32  1.115880e+08   100.0  1.948142e+09   6575   サービス業   \n",
       "10   913.60   53.36  7.096470e+08   441.0  1.081104e+10   6566   サービス業   \n",
       "11   235.59   41.35  4.046900e+07    41.0  5.611480e+08   4381  情報・通信業   \n",
       "12   343.75   42.38 -3.940100e+07   265.0  2.011972e+09   6574   サービス業   \n",
       "13   368.71  109.20  2.928780e+08    75.0  1.606677e+09   6580  情報・通信業   \n",
       "14   330.31   60.72  5.560200e+07    76.0  4.188747e+09   6572   サービス業   \n",
       "15  1134.61  135.20  2.625230e+08   166.0  1.328509e+10   6570   サービス業   \n",
       "16   296.00  101.34  2.026890e+08   551.0  3.958344e+09   6578   サービス業   \n",
       "17  1123.80  151.58  1.000538e+09  1574.0  5.920846e+10   6569   サービス業   \n",
       "18   148.73   24.73  1.094150e+08    28.0  5.910520e+08   4388  情報・通信業   \n",
       "19  1131.65  148.35  9.009040e+08   245.0  6.312682e+09   6568   サービス業   \n",
       "20   725.38   97.37  1.458630e+08    52.0  1.239893e+09   4389  情報・通信業   \n",
       "21   297.65   26.95  1.196500e+07    45.0  9.443890e+08   4387   サービス業   \n",
       "22   868.04  105.87  7.929770e+08   148.0  1.556606e+10   3447    金属製品   \n",
       "23   364.56   32.76  1.745150e+08    35.0  1.009889e+09   3446    金属製品   \n",
       "24   402.12  -60.61 -8.428000e+09  1140.0  3.576500e+10   4385  情報・通信業   \n",
       "25   203.02   71.19  8.530400e+07    58.0  1.287048e+09   7320  その他金融業   \n",
       "26   507.45   18.04  2.209100e+07   386.0  5.084081e+09   6567   サービス業   \n",
       "27  3933.23  235.04  1.149470e+08   308.0  1.482508e+10   9273     医薬品   \n",
       "28   113.92   49.89  1.723910e+08   181.0  3.346516e+09   4398  情報・通信業   \n",
       "29   144.92   40.81  2.169250e+08   141.0  3.977485e+09   9450  情報・通信業   \n",
       "30   297.18  116.32  1.440630e+08   869.0  9.970304e+09   4396  情報・通信業   \n",
       "31   507.43   58.81  1.574530e+08   245.0  3.093502e+09   7325     保険業   \n",
       "32   169.19   37.01  1.034270e+08    71.0  1.347365e+09   4391  情報・通信業   \n",
       "33   451.38   82.08  2.470720e+08    39.0  1.155023e+09   4382  情報・通信業   \n",
       "34   574.14   90.76  1.099300e+08    75.0  1.845225e+09   3496    不動産業   \n",
       "35   303.96  117.96  1.258060e+08   408.0  3.355871e+09   4421  情報・通信業   \n",
       "36   102.10   31.81  9.495100e+07    12.0  1.375500e+09   4424  情報・通信業   \n",
       "37   959.45  127.56  6.173400e+07   170.0  4.598604e+09   7042   サービス業   \n",
       "38   954.89  214.19  1.126108e+09   421.0  3.152927e+10   9270     卸売業   \n",
       "39  2197.98  202.75  2.515030e+08    19.0  2.736339e+09   3494    不動産業   \n",
       "40   113.24   13.10  9.146200e+07    64.0  1.232403e+09   4397  情報・通信業   \n",
       "41   285.66   99.98  3.632420e+08   141.0  5.052275e+09   4393  情報・通信業   \n",
       "42   491.66   71.40  3.033420e+08   260.0  9.014643e+09   6233      機械   \n",
       "43   377.63   97.06  1.566498e+09   387.0  1.045178e+10   7030   サービス業   \n",
       "44   565.12   35.31  1.607340e+08   618.0  1.223958e+10   1446     建設業   \n",
       "45  1072.81  138.30  7.818200e+07    22.0  1.587520e+09   6577   サービス業   \n",
       "46   257.54   71.52  7.207400e+07   418.0  2.062877e+10   7041   サービス業   \n",
       "47    89.46   36.92  6.316500e+07    17.0  5.077440e+08   4422  情報・通信業   \n",
       "48  2032.50  326.42  3.081770e+08   172.0  5.328500e+09   3495    不動産業   \n",
       "49  1500.67  161.03  5.663000e+09  1205.0  6.046500e+10   7806   その他製品   \n",
       "50   908.86  292.03  5.840640e+08   132.0  1.926347e+10   3497    不動産業   \n",
       "51   532.17  188.30  2.279600e+08    24.0  4.041067e+09   3498    不動産業   \n",
       "52   107.60   61.88  2.605630e+08    65.0  1.916130e+09   7035   サービス業   \n",
       "53   242.29    0.72  1.545900e+07   180.0  1.117425e+10   4384  情報・通信業   \n",
       "54   335.04   73.03  8.888300e+07   115.0  3.968467e+09   4427  情報・通信業   \n",
       "\n",
       "                                              file_nm  \n",
       "0   jpcrp030000-asr-001_E33868-000_2017-12-31_01_2...  \n",
       "1   jpcrp030000-asr-001_E33858-000_2017-12-31_01_2...  \n",
       "2   jpcrp030000-asr-001_E33626-000_2017-12-31_01_2...  \n",
       "3   jpcrp030000-asr-001_E33863-000_2018-02-28_01_2...  \n",
       "4   jpcrp030000-asr-001_E33819-000_2018-03-31_01_2...  \n",
       "5   jpcrp030000-asr-001_E34082-000_2018-03-31_01_2...  \n",
       "6   jpcrp030000-asr-001_E33638-000_2018-03-31_01_2...  \n",
       "7   jpcrp030000-asr-001_E34031-000_2018-03-31_01_2...  \n",
       "8   jpcrp030000-asr-001_E33882-000_2018-03-31_01_2...  \n",
       "9   jpcrp030000-asr-001_E33903-000_2018-03-31_01_2...  \n",
       "10  jpcrp030000-asr-001_E33633-000_2018-03-31_01_2...  \n",
       "11  jpcrp030000-asr-001_E33825-000_2018-03-31_01_2...  \n",
       "12  jpcrp030000-asr-001_E33864-000_2018-03-31_01_2...  \n",
       "13  jpcrp030000-asr-001_E34018-000_2018-03-31_01_2...  \n",
       "14  jpcrp030000-asr-001_E33881-000_2018-02-28_01_2...  \n",
       "15  jpcrp030000-asr-001_E33822-000_2018-03-31_01_2...  \n",
       "16  jpcrp030000-asr-001_E33928-000_2018-02-28_01_2...  \n",
       "17  jpcrp030000-asr-001_E33815-000_2018-03-31_01_2...  \n",
       "18  jpcrp030000-asr-001_E34052-000_2018-03-31_01_2...  \n",
       "19  jpcrp030000-asr-001_E33794-000_2018-03-31_01_2...  \n",
       "20  jpcrp030000-asr-001_E34090-000_2018-03-31_01_2...  \n",
       "21  jpcrp030000-asr-001_E34094-000_2018-03-31_01_2...  \n",
       "22  jpcrp030000-asr-001_E33834-000_2018-03-31_01_2...  \n",
       "23  jpcrp030000-asr-001_E33777-000_2018-06-30_01_2...  \n",
       "24  jpcrp030000-asr-001_E34064-000_2018-06-30_01_2...  \n",
       "25  jpcrp030000-asr-001_E33854-000_2018-06-30_01_2...  \n",
       "26  jpcrp030000-asr-001_E33776-000_2018-05-31_01_2...  \n",
       "27  jpcrp030000-asr-001_E34071-000_2018-06-30_01_2...  \n",
       "28  jpcrp030000-asr-001_E34288-000_2018-06-30_01_2...  \n",
       "29  jpcrp030000-asr-001_E33839-000_2018-06-30_01_2...  \n",
       "30  jpcrp030000-asr-001_E34111-000_2018-06-30_01_2...  \n",
       "31  jpcrp030000-asr-001_E34281-000_2018-06-30_01_2...  \n",
       "32  jpcrp030000-asr-001_E34045-000_2018-06-30_01_2...  \n",
       "33  jpcrp030000-asr-001_E33880-000_2018-04-30_01_2...  \n",
       "34  jpcrp030000-asr-001_E34285-000_2018-09-30_01_2...  \n",
       "35  jpcrp030000-asr-001_E34335-000_2018-09-30_01_2...  \n",
       "36  jpcrp030000-asr-001_E34497-000_2018-09-30_01_2...  \n",
       "37  jpcrp030000-asr-001_E34379-000_2018-09-30_01_2...  \n",
       "38  jpcrp030000-asr-001_E33807-000_2018-08-31_02_2...  \n",
       "39  jpcrp030000-asr-001_E34271-000_2018-09-30_02_2...  \n",
       "40  jpcrp030000-asr-001_E34225-000_2018-08-31_01_2...  \n",
       "41  jpcrp030000-asr-001_E34116-000_2018-09-30_01_2...  \n",
       "42  jpcrp030000-asr-001_E34273-000_2018-09-30_01_2...  \n",
       "43  jpcrp030000-asr-001_E34053-000_2018-09-30_01_2...  \n",
       "44  jpcrp030000-asr-001_E34095-000_2018-09-30_01_2...  \n",
       "45  jpcrp030000-asr-001_E33948-000_2018-07-31_01_2...  \n",
       "46  jpcrp030000-asr-001_E34352-000_2018-09-30_01_2...  \n",
       "47  jpcrp030000-asr-001_E34114-000_2018-07-31_01_2...  \n",
       "48  jpcrp030000-asr-001_E34256-000_2018-09-30_01_2...  \n",
       "49  jpcrp030000-asr-001_E34054-000_2018-09-30_01_2...  \n",
       "50  jpcrp030000-asr-001_E34322-000_2018-07-31_02_2...  \n",
       "51  jpcrp030000-asr-001_E34289-000_2018-08-31_02_2...  \n",
       "52  jpcrp030000-asr-001_E34238-000_2018-08-31_01_2...  \n",
       "53  jpcrp030000-asr-001_E33966-000_2018-07-31_01_2...  \n",
       "54  jpcrp030000-asr-001_E34544-000_2018-09-30_01_2...  "
      ]
     },
     "execution_count": 22,
     "metadata": {},
     "output_type": "execute_result"
    }
   ],
   "source": [
    "hazu1=sample5[embed2[:,0]>6]\n",
    "hazu2=sample5[embed2[:,1]>6]\n",
    "print(hazu1)\n",
    "print(hazu2)\n",
    "pd.read_csv(\"data_sample5.csv\")\n"
   ]
  },
  {
   "cell_type": "code",
   "execution_count": 23,
   "metadata": {},
   "outputs": [
    {
     "data": {
      "text/plain": [
       "'株式会社メルカリ'"
      ]
     },
     "execution_count": 23,
     "metadata": {},
     "output_type": "execute_result"
    }
   ],
   "source": [
    "outlier=\"株式会社メルカリ\"\n",
    "outlier"
   ]
  },
  {
   "cell_type": "markdown",
   "metadata": {
    "id": "3uFUhZHGevpO"
   },
   "source": [
    "# **Quest 6: K平均法の実践**"
   ]
  },
  {
   "cell_type": "markdown",
   "metadata": {
    "id": "gfN1aVcJfGcb"
   },
   "source": [
    "K平均法は、データを適当なクラスタに分け、そのクラスタの平均を用いてデータがわかれるように調整させていく分析法。例として以下のような場合が挙げられます。\n",
    "\n",
    "\n",
    "\n",
    "*   ECサイトの購買データから、ユーザーをいくつかのグループに分類する\n",
    "*   文章の特徴から、さまざまな文章データをいくつかのグループに分類する\n",
    "\n",
    "---"
   ]
  },
  {
   "cell_type": "markdown",
   "metadata": {
    "id": "iaUVAtjsGun2"
   },
   "source": [
    "1. K平均法のライブラリであるKMeansと、標準化を行うライブラリであるStandardScalerをインポートし、データセットdata_sample5.csvを変数ksample5として再度読み込め。"
   ]
  },
  {
   "cell_type": "code",
   "execution_count": 24,
   "metadata": {
    "id": "CSa0lBYHfKfY"
   },
   "outputs": [],
   "source": [
    "from sklearn.cluster import KMeans\n",
    "from sklearn.preprocessing import StandardScaler\n",
    "ksample5=pd.read_csv(\"data_sample5.csv\")"
   ]
  },
  {
   "cell_type": "markdown",
   "metadata": {},
   "source": []
  },
  {
   "cell_type": "markdown",
   "metadata": {
    "id": "tFQ6E1w5HGMW"
   },
   "source": [
    "2. ksample5を以下のカラムだけに絞った変数ksample5_targetに代入したせよ。\n",
    "その後、専用のインスタンスを作り、fit_transform()関数でksample5_targetを標準化せし、変数data_stdに代入せよ。\n",
    "\n",
    "\n",
    "\n",
    "```\n",
    "\"発行済み株式数\", \"BPS\", \"EPS\", \"純利益\", \"従業員数\", \"売上高\"\n",
    "```\n",
    "\n"
   ]
  },
  {
   "cell_type": "code",
   "execution_count": 25,
   "metadata": {
    "id": "GY0IKBBCfM2e"
   },
   "outputs": [],
   "source": [
    "ksample5_target=pd.read_csv(\"data_sample5.csv\",usecols=[\"発行済み株式数\", \"BPS\", \"EPS\", \"純利益\", \"従業員数\", \"売上高\"])\n",
    "ksc=StandardScaler()\n",
    "data_std=ksc.fit_transform(ksample5_target)"
   ]
  },
  {
   "cell_type": "markdown",
   "metadata": {
    "id": "-oWTl04hSIq9"
   },
   "source": [
    "3. KMeansを用いてデータを3つのクラスタに分類したインスタンスを作成し、fit()関数にデータを渡しクラスタリングせよ。"
   ]
  },
  {
   "cell_type": "code",
   "execution_count": 26,
   "metadata": {
    "id": "-atmi-HHfOQn"
   },
   "outputs": [],
   "source": [
    "pred=KMeans(n_clusters=3).fit(data_std)"
   ]
  },
  {
   "cell_type": "markdown",
   "metadata": {
    "id": "aF_FzQ1tUUqS"
   },
   "source": [
    "4. 全てのデータのクラスター番号を表示して確認せよ。"
   ]
  },
  {
   "cell_type": "code",
   "execution_count": 27,
   "metadata": {
    "id": "RpU9_TGefPXt"
   },
   "outputs": [
    {
     "data": {
      "text/plain": [
       "array([0, 0, 0, 0, 0, 0, 0, 0, 0, 0, 0, 0, 0, 0, 0, 0, 0, 2, 0, 0, 0, 0,\n",
       "       0, 0, 1, 0, 0, 0, 0, 0, 0, 0, 0, 0, 0, 0, 0, 0, 0, 0, 0, 0, 0, 0,\n",
       "       0, 0, 0, 0, 0, 2, 0, 0, 0, 0, 0], dtype=int32)"
      ]
     },
     "execution_count": 27,
     "metadata": {},
     "output_type": "execute_result"
    }
   ],
   "source": [
    "ai=pred.labels_\n",
    "ai"
   ]
  },
  {
   "cell_type": "markdown",
   "metadata": {
    "id": "imMJHioHVAQu"
   },
   "source": [
    "5. 先ほど作ったksample5に、クラスター番号情報を追加せよ。"
   ]
  },
  {
   "cell_type": "code",
   "execution_count": 28,
   "metadata": {
    "id": "TbIWtS5afQzf"
   },
   "outputs": [],
   "source": [
    "ksample5[\"label\"]=ai"
   ]
  },
  {
   "cell_type": "markdown",
   "metadata": {
    "id": "wqwBqAoLVfJM"
   },
   "source": [
    "6. ksample5の先頭５行を表示させ、カラムにlabelが追加されたことを確認せよ。"
   ]
  },
  {
   "cell_type": "code",
   "execution_count": 29,
   "metadata": {
    "id": "Wx5W4oPrfa6x"
   },
   "outputs": [
    {
     "data": {
      "text/html": [
       "<div>\n",
       "<style scoped>\n",
       "    .dataframe tbody tr th:only-of-type {\n",
       "        vertical-align: middle;\n",
       "    }\n",
       "\n",
       "    .dataframe tbody tr th {\n",
       "        vertical-align: top;\n",
       "    }\n",
       "\n",
       "    .dataframe thead th {\n",
       "        text-align: right;\n",
       "    }\n",
       "</style>\n",
       "<table border=\"1\" class=\"dataframe\">\n",
       "  <thead>\n",
       "    <tr style=\"text-align: right;\">\n",
       "      <th></th>\n",
       "      <th>Unnamed: 0</th>\n",
       "      <th>会社名</th>\n",
       "      <th>提出日</th>\n",
       "      <th>当年度開始日</th>\n",
       "      <th>発行済み株式数</th>\n",
       "      <th>BPS</th>\n",
       "      <th>EPS</th>\n",
       "      <th>純利益</th>\n",
       "      <th>従業員数</th>\n",
       "      <th>売上高</th>\n",
       "      <th>証券コード</th>\n",
       "      <th>業種</th>\n",
       "      <th>file_nm</th>\n",
       "      <th>label</th>\n",
       "    </tr>\n",
       "  </thead>\n",
       "  <tbody>\n",
       "    <tr>\n",
       "      <th>0</th>\n",
       "      <td>E33868</td>\n",
       "      <td>アジャイルメディア・ネットワーク株式会社</td>\n",
       "      <td>2018-03-30</td>\n",
       "      <td>2017-01-01</td>\n",
       "      <td>584000.0</td>\n",
       "      <td>593.71</td>\n",
       "      <td>234.64</td>\n",
       "      <td>63791000.0</td>\n",
       "      <td>48.0</td>\n",
       "      <td>7.345960e+08</td>\n",
       "      <td>6573</td>\n",
       "      <td>サービス業</td>\n",
       "      <td>jpcrp030000-asr-001_E33868-000_2017-12-31_01_2...</td>\n",
       "      <td>0</td>\n",
       "    </tr>\n",
       "    <tr>\n",
       "      <th>1</th>\n",
       "      <td>E33858</td>\n",
       "      <td>株式会社和心</td>\n",
       "      <td>2018-03-30</td>\n",
       "      <td>2017-01-01</td>\n",
       "      <td>2465700.0</td>\n",
       "      <td>239.15</td>\n",
       "      <td>63.07</td>\n",
       "      <td>150833000.0</td>\n",
       "      <td>100.0</td>\n",
       "      <td>2.488994e+09</td>\n",
       "      <td>9271</td>\n",
       "      <td>小売業</td>\n",
       "      <td>jpcrp030000-asr-001_E33858-000_2017-12-31_01_2...</td>\n",
       "      <td>0</td>\n",
       "    </tr>\n",
       "    <tr>\n",
       "      <th>2</th>\n",
       "      <td>E33626</td>\n",
       "      <td>株式会社すららネット</td>\n",
       "      <td>2018-03-28</td>\n",
       "      <td>2017-01-01</td>\n",
       "      <td>1236700.0</td>\n",
       "      <td>567.16</td>\n",
       "      <td>71.14</td>\n",
       "      <td>78156000.0</td>\n",
       "      <td>27.0</td>\n",
       "      <td>7.316630e+08</td>\n",
       "      <td>3998</td>\n",
       "      <td>情報・通信業</td>\n",
       "      <td>jpcrp030000-asr-001_E33626-000_2017-12-31_01_2...</td>\n",
       "      <td>0</td>\n",
       "    </tr>\n",
       "    <tr>\n",
       "      <th>3</th>\n",
       "      <td>E33863</td>\n",
       "      <td>株式会社アズ企画設計</td>\n",
       "      <td>2018-05-30</td>\n",
       "      <td>2017-03-01</td>\n",
       "      <td>800000.0</td>\n",
       "      <td>1150.47</td>\n",
       "      <td>391.48</td>\n",
       "      <td>274035000.0</td>\n",
       "      <td>40.0</td>\n",
       "      <td>6.376023e+09</td>\n",
       "      <td>3490</td>\n",
       "      <td>不動産業</td>\n",
       "      <td>jpcrp030000-asr-001_E33863-000_2018-02-28_01_2...</td>\n",
       "      <td>0</td>\n",
       "    </tr>\n",
       "    <tr>\n",
       "      <th>4</th>\n",
       "      <td>E33819</td>\n",
       "      <td>株式会社フェイスネットワーク</td>\n",
       "      <td>2018-06-26</td>\n",
       "      <td>2017-04-01</td>\n",
       "      <td>4980000.0</td>\n",
       "      <td>669.67</td>\n",
       "      <td>175.52</td>\n",
       "      <td>708896000.0</td>\n",
       "      <td>117.0</td>\n",
       "      <td>1.394581e+10</td>\n",
       "      <td>3489</td>\n",
       "      <td>不動産業</td>\n",
       "      <td>jpcrp030000-asr-001_E33819-000_2018-03-31_01_2...</td>\n",
       "      <td>0</td>\n",
       "    </tr>\n",
       "  </tbody>\n",
       "</table>\n",
       "</div>"
      ],
      "text/plain": [
       "  Unnamed: 0                   会社名         提出日      当年度開始日    発行済み株式数  \\\n",
       "0     E33868  アジャイルメディア・ネットワーク株式会社  2018-03-30  2017-01-01   584000.0   \n",
       "1     E33858                株式会社和心  2018-03-30  2017-01-01  2465700.0   \n",
       "2     E33626            株式会社すららネット  2018-03-28  2017-01-01  1236700.0   \n",
       "3     E33863            株式会社アズ企画設計  2018-05-30  2017-03-01   800000.0   \n",
       "4     E33819        株式会社フェイスネットワーク  2018-06-26  2017-04-01  4980000.0   \n",
       "\n",
       "       BPS     EPS          純利益   従業員数           売上高  証券コード      業種  \\\n",
       "0   593.71  234.64   63791000.0   48.0  7.345960e+08   6573   サービス業   \n",
       "1   239.15   63.07  150833000.0  100.0  2.488994e+09   9271     小売業   \n",
       "2   567.16   71.14   78156000.0   27.0  7.316630e+08   3998  情報・通信業   \n",
       "3  1150.47  391.48  274035000.0   40.0  6.376023e+09   3490    不動産業   \n",
       "4   669.67  175.52  708896000.0  117.0  1.394581e+10   3489    不動産業   \n",
       "\n",
       "                                             file_nm  label  \n",
       "0  jpcrp030000-asr-001_E33868-000_2017-12-31_01_2...      0  \n",
       "1  jpcrp030000-asr-001_E33858-000_2017-12-31_01_2...      0  \n",
       "2  jpcrp030000-asr-001_E33626-000_2017-12-31_01_2...      0  \n",
       "3  jpcrp030000-asr-001_E33863-000_2018-02-28_01_2...      0  \n",
       "4  jpcrp030000-asr-001_E33819-000_2018-03-31_01_2...      0  "
      ]
     },
     "execution_count": 29,
     "metadata": {},
     "output_type": "execute_result"
    }
   ],
   "source": [
    "ksample5.head()"
   ]
  },
  {
   "cell_type": "markdown",
   "metadata": {
    "id": "qQqNDU7BVvKP"
   },
   "source": [
    "7. plt.scatter()を用いてクラスター番号によって色分けされた散布図を描け。"
   ]
  },
  {
   "cell_type": "code",
   "execution_count": 34,
   "metadata": {
    "id": "3Cmqa44xfc93"
   },
   "outputs": [
    {
     "ename": "TypeError",
     "evalue": "fit_transform() missing 1 required positional argument: 'X'",
     "output_type": "error",
     "traceback": [
      "\u001b[0;31m---------------------------------------------------------------------------\u001b[0m",
      "\u001b[0;31mTypeError\u001b[0m                                 Traceback (most recent call last)",
      "\u001b[0;32m<ipython-input-34-bbf5be9fdaa3>\u001b[0m in \u001b[0;36m<module>\u001b[0;34m\u001b[0m\n\u001b[0;32m----> 1\u001b[0;31m \u001b[0mpca_transformed\u001b[0m \u001b[0;34m=\u001b[0m \u001b[0mPCA\u001b[0m\u001b[0;34m.\u001b[0m\u001b[0mfit_transform\u001b[0m\u001b[0;34m(\u001b[0m\u001b[0mdata_std\u001b[0m\u001b[0;34m)\u001b[0m\u001b[0;34m\u001b[0m\u001b[0;34m\u001b[0m\u001b[0m\n\u001b[0m\u001b[1;32m      2\u001b[0m \u001b[0mplt\u001b[0m\u001b[0;34m.\u001b[0m\u001b[0mscatter\u001b[0m\u001b[0;34m(\u001b[0m\u001b[0mpca_transformed\u001b[0m\u001b[0;34m[\u001b[0m\u001b[0;34m:\u001b[0m\u001b[0;34m,\u001b[0m \u001b[0;36m0\u001b[0m\u001b[0;34m]\u001b[0m\u001b[0;34m,\u001b[0m \u001b[0mpca_transformed\u001b[0m\u001b[0;34m[\u001b[0m\u001b[0;34m:\u001b[0m\u001b[0;34m,\u001b[0m \u001b[0;36m1\u001b[0m\u001b[0;34m]\u001b[0m\u001b[0;34m,\u001b[0m \u001b[0mc\u001b[0m \u001b[0;34m=\u001b[0m \u001b[0mk_means\u001b[0m\u001b[0;34m.\u001b[0m\u001b[0mlabels_\u001b[0m\u001b[0;34m)\u001b[0m\u001b[0;34m\u001b[0m\u001b[0;34m\u001b[0m\u001b[0m\n",
      "\u001b[0;31mTypeError\u001b[0m: fit_transform() missing 1 required positional argument: 'X'"
     ]
    }
   ],
   "source": [
    "#省略"
   ]
  },
  {
   "cell_type": "markdown",
   "metadata": {
    "id": "7a6mwQXzWb_i"
   },
   "source": [
    "8. クラスター１の全ての会社名を表示させよ。"
   ]
  },
  {
   "cell_type": "code",
   "execution_count": 31,
   "metadata": {
    "id": "4bemLv6mfhk0"
   },
   "outputs": [
    {
     "name": "stdout",
     "output_type": "stream",
     "text": [
      "株式会社メルカリ\n"
     ]
    }
   ],
   "source": [
    "s=ksample5[\"label\"]\n",
    "t=ksample5[\"会社名\"]\n",
    "i=0\n",
    "\n",
    "n=len(s)\n",
    "for i in range(n):\n",
    "    if s[i]==1:\n",
    "        print(t[i])\n",
    "    i=+1"
   ]
  },
  {
   "cell_type": "markdown",
   "metadata": {
    "id": "YNlmm2fiWvVG"
   },
   "source": [
    "9. クラスターごとの平均値を計算して、一つのDataFrameに格納し、表示させよ。\n",
    "表示させたデータの中から、売上高が最も高いクラスター番号を出力せよ。"
   ]
  },
  {
   "cell_type": "code",
   "execution_count": 32,
   "metadata": {
    "id": "KO-LbXBTfixF"
   },
   "outputs": [
    {
     "name": "stdout",
     "output_type": "stream",
     "text": [
      "                    0             1             2\n",
      "発行済み株式数  4.097700e+06  1.353397e+08  2.398560e+07\n",
      "BPS      5.963760e+02  4.021200e+02  1.312235e+03\n",
      "EPS      1.019290e+02 -6.061000e+01  1.563050e+02\n",
      "純利益      2.566410e+08 -8.428000e+09  3.331769e+09\n",
      "従業員数     1.738654e+02  1.140000e+03  1.389500e+03\n",
      "売上高      5.680945e+09  3.576500e+10  5.983673e+10\n",
      "証券コード    5.541692e+03  4.385000e+03  7.187500e+03\n",
      "label    0.000000e+00  1.000000e+00  2.000000e+00\n",
      "1\n"
     ]
    }
   ],
   "source": [
    "a=pd.DataFrame(ksample5[ksample5[\"label\"]==0].mean())\n",
    "b=pd.DataFrame(ksample5[ksample5[\"label\"]==1].mean())\n",
    "c=pd.DataFrame(ksample5[ksample5[\"label\"]==2].mean())\n",
    "df=pd.concat([a,b,c],axis=1)\n",
    "print(df.set_axis([\"0\",\"1\",\"2\"],axis=1))\n",
    "print(\"1\")"
   ]
  },
  {
   "cell_type": "code",
   "execution_count": null,
   "metadata": {},
   "outputs": [],
   "source": []
  }
 ],
 "metadata": {
  "colab": {
   "name": "Stage3_解答用紙.ipynb",
   "provenance": []
  },
  "kernelspec": {
   "display_name": "Python 3",
   "language": "python",
   "name": "python3"
  },
  "language_info": {
   "codemirror_mode": {
    "name": "ipython",
    "version": 3
   },
   "file_extension": ".py",
   "mimetype": "text/x-python",
   "name": "python",
   "nbconvert_exporter": "python",
   "pygments_lexer": "ipython3",
   "version": "3.8.3"
  }
 },
 "nbformat": 4,
 "nbformat_minor": 1
}

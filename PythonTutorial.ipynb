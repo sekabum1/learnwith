{
 "cells": [
  {
   "cell_type": "markdown",
   "metadata": {
    "id": "FmVKUWLBfIAd"
   },
   "source": [
    "# **Pythonチュートリアル**"
   ]
  },
  {
   "cell_type": "markdown",
   "metadata": {
    "id": "1onk-yx2NImG"
   },
   "source": [
    "---\n",
    "\n",
    "\n"
   ]
  },
  {
   "cell_type": "markdown",
   "metadata": {
    "id": "D76KJeBVJO2S"
   },
   "source": [
    "## **インストラクション**\n"
   ]
  },
  {
   "cell_type": "markdown",
   "metadata": {
    "id": "WbxFud1FJcO2"
   },
   "source": [
    "*   解答用紙をダウンロードし、決められた提出方法で提出して下さい。\n",
    "*   全ての演習は、難易度の高い順に、最も簡単なものから最も難しいものへと慎重に配置\n",
    "されています。\n",
    "*   解答は不完全な形でも、何度でも提出可能です。\n",
    "*   運営はQuestに関する一切の質問にお答えできません。質問があれば、Discord内で他の学習者に尋ねて下さい。\n",
    "* DiscordでのコミュニケーションでQuestの解決が困難な場合は、ピアレビューをご活用ください。"
   ]
  },
  {
   "cell_type": "markdown",
   "metadata": {
    "id": "JwwqVLzSLiBt"
   },
   "source": [
    "---"
   ]
  },
  {
   "cell_type": "markdown",
   "metadata": {
    "id": "B2IYzTiYfKsz"
   },
   "source": [
    "## **Exercise 01: 文字列を出力せよ** "
   ]
  },
  {
   "cell_type": "markdown",
   "metadata": {
    "id": "EolKSsONfY-1"
   },
   "source": [
    "1. 「Hello World!」という文字列を出力せよ。"
   ]
  },
  {
   "cell_type": "code",
   "execution_count": 3,
   "metadata": {
    "id": "lnz1dRwEfRW5"
   },
   "outputs": [
    {
     "name": "stdout",
     "output_type": "stream",
     "text": [
      "Hello World!\n"
     ]
    }
   ],
   "source": [
    "print(\"Hello World!\")"
   ]
  },
  {
   "cell_type": "markdown",
   "metadata": {
    "id": "pGUaSsg0fUnB"
   },
   "source": [
    "## **Exercise 02: 数値を出力せよ** "
   ]
  },
  {
   "cell_type": "markdown",
   "metadata": {
    "id": "_FjAlE_Fff7X"
   },
   "source": [
    "1. 数値の9を出力せよ。"
   ]
  },
  {
   "cell_type": "code",
   "execution_count": 8,
   "metadata": {
    "id": "EyYsLnmAfdOV"
   },
   "outputs": [
    {
     "data": {
      "text/plain": [
       "9"
      ]
     },
     "execution_count": 8,
     "metadata": {},
     "output_type": "execute_result"
    }
   ],
   "source": [
    "9"
   ]
  },
  {
   "cell_type": "markdown",
   "metadata": {
    "id": "wjRWEax6fgpU"
   },
   "source": [
    "2. 7に4足した値を出力せよ。"
   ]
  },
  {
   "cell_type": "code",
   "execution_count": 7,
   "metadata": {
    "id": "rgvm3Da4fR6I"
   },
   "outputs": [
    {
     "data": {
      "text/plain": [
       "11"
      ]
     },
     "execution_count": 7,
     "metadata": {},
     "output_type": "execute_result"
    }
   ],
   "source": [
    "7+4"
   ]
  },
  {
   "cell_type": "markdown",
   "metadata": {
    "id": "HDH44q6GfhiX"
   },
   "source": [
    "3. 「7+ 4」を文字列として出力せよ。\n"
   ]
  },
  {
   "cell_type": "code",
   "execution_count": 5,
   "metadata": {
    "id": "LyAIiANRfVS_"
   },
   "outputs": [
    {
     "name": "stdout",
     "output_type": "stream",
     "text": [
      "7+4\n"
     ]
    }
   ],
   "source": [
    "print(\"7+4\")"
   ]
  },
  {
   "cell_type": "markdown",
   "metadata": {
    "id": "FmGEPZWYfmUS"
   },
   "source": [
    "## **Exercise 03: 計算結果を出力せよ**"
   ]
  },
  {
   "cell_type": "markdown",
   "metadata": {
    "id": "vxyTdwJkfxIl"
   },
   "source": [
    "1. 9を2で割った値を出力せよ。"
   ]
  },
  {
   "cell_type": "code",
   "execution_count": 6,
   "metadata": {
    "id": "gO3LTWjCf04x"
   },
   "outputs": [
    {
     "data": {
      "text/plain": [
       "4.5"
      ]
     },
     "execution_count": 6,
     "metadata": {},
     "output_type": "execute_result"
    }
   ],
   "source": [
    "9/2"
   ]
  },
  {
   "cell_type": "markdown",
   "metadata": {
    "id": "Hc272iFufxLO"
   },
   "source": [
    "2. 7に5を掛けた値を出力せよ。"
   ]
  },
  {
   "cell_type": "code",
   "execution_count": 1,
   "metadata": {},
   "outputs": [
    {
     "data": {
      "text/plain": [
       "35"
      ]
     },
     "execution_count": 1,
     "metadata": {},
     "output_type": "execute_result"
    }
   ],
   "source": [
    "7*5"
   ]
  },
  {
   "cell_type": "markdown",
   "metadata": {
    "id": "UWeOyq59fxOq"
   },
   "source": [
    "3.  5を2で割った時の余りを出力せよ。"
   ]
  },
  {
   "cell_type": "code",
   "execution_count": 2,
   "metadata": {
    "id": "fgxsUN_zfn0t"
   },
   "outputs": [
    {
     "data": {
      "text/plain": [
       "1"
      ]
     },
     "execution_count": 2,
     "metadata": {},
     "output_type": "execute_result"
    }
   ],
   "source": [
    "5%2"
   ]
  },
  {
   "cell_type": "markdown",
   "metadata": {
    "id": "6ccXtL8Zf6J3"
   },
   "source": [
    "## **Exercise 04: 変数を用いて出力せよ**"
   ]
  },
  {
   "cell_type": "markdown",
   "metadata": {
    "id": "jO0k1c1Sf7h-"
   },
   "source": [
    "1. 変数nameに文字列「くまちゃん」を代入して、変数nameの値を出力せ\n",
    "よ。\n"
   ]
  },
  {
   "cell_type": "code",
   "execution_count": 13,
   "metadata": {
    "id": "X3dRzO0jf9wA"
   },
   "outputs": [
    {
     "name": "stdout",
     "output_type": "stream",
     "text": [
      "くまちゃん\n"
     ]
    }
   ],
   "source": [
    "name=\"くまちゃん\"\n",
    "print(name)\n"
   ]
  },
  {
   "cell_type": "markdown",
   "metadata": {
    "id": "5OPTMMUxf7Xw"
   },
   "source": [
    "2.  ageを用いて「明日が26歳の誕生日です」と出力せよ。\n",
    "\n",
    "\n",
    "\n",
    "```\n",
    "age = 26\n",
    "```\n",
    "\n",
    "\n",
    "\n"
   ]
  },
  {
   "cell_type": "code",
   "execution_count": 17,
   "metadata": {
    "id": "othdgzDtHp38"
   },
   "outputs": [
    {
     "name": "stdout",
     "output_type": "stream",
     "text": [
      "明日が26歳の誕生日です\n"
     ]
    }
   ],
   "source": [
    "age=26\n",
    "print(\"明日が\"+str(age)+\"歳の誕生日です\")"
   ]
  },
  {
   "cell_type": "markdown",
   "metadata": {
    "id": "SzQ-RhKKf_7l"
   },
   "source": [
    "## **Exercise 05: if文をマスターせよ**"
   ]
  },
  {
   "cell_type": "markdown",
   "metadata": {
    "id": "ZS1MZiVxgEkS"
   },
   "source": [
    "1. xが100でない場合に「xは100ではありません」と出力せよ。\n",
    "\n",
    "\n",
    "```\n",
    "x = 5 * 6\n",
    "```\n",
    "\n"
   ]
  },
  {
   "cell_type": "code",
   "execution_count": 19,
   "metadata": {
    "id": "KZTi_fK5gCXq"
   },
   "outputs": [
    {
     "name": "stdout",
     "output_type": "stream",
     "text": [
      "xは100ではありません\n"
     ]
    }
   ],
   "source": [
    "x=5*6\n",
    "if x!=100:\n",
    "    print(\"xは100ではありません\")"
   ]
  },
  {
   "cell_type": "markdown",
   "metadata": {
    "id": "2f_71aa5gGtt"
   },
   "source": [
    "2. expenseの値がgoogle_priceの値以上の時、「グーグルを買うことが\n",
    "できます」と出力せよ。\n",
    "\n",
    "\n",
    "```\n",
    "expense = 500\n",
    "google_price = 200\n",
    "```\n",
    "\n",
    "\n"
   ]
  },
  {
   "cell_type": "code",
   "execution_count": 20,
   "metadata": {
    "id": "CcpiENEHJAHe"
   },
   "outputs": [
    {
     "name": "stdout",
     "output_type": "stream",
     "text": [
      "グーグルを買うことができます\n"
     ]
    }
   ],
   "source": [
    "expense=500\n",
    "google_price=200\n",
    "if expense>=google_price:\n",
    "    print(\"グーグルを買うことができます\")"
   ]
  },
  {
   "cell_type": "markdown",
   "metadata": {
    "id": "C2ZSCXTpgIs9"
   },
   "source": [
    "3. if文の条件に当てはまらない場合に「お金が足りません」と出力せよ。"
   ]
  },
  {
   "cell_type": "code",
   "execution_count": 23,
   "metadata": {
    "id": "tvhJVTFegKkI"
   },
   "outputs": [
    {
     "name": "stdout",
     "output_type": "stream",
     "text": [
      "お金が足りません\n"
     ]
    }
   ],
   "source": [
    "expense=500\n",
    "google_price=1000\n",
    "if expense>=google_price:\n",
    "    print(\"グーグルを買うことができます\")\n",
    "else:\n",
    "    print(\"お金が足りません\")"
   ]
  },
  {
   "cell_type": "markdown",
   "metadata": {
    "id": "HS3M7741gLZI"
   },
   "source": [
    "## **Exercise 06: inputを使いこなせ**"
   ]
  },
  {
   "cell_type": "markdown",
   "metadata": {
    "id": "XShbWYUfgPME"
   },
   "source": [
    "1.  inputを用いて入力を受け取り、変数input_countに代入せよ。\n"
   ]
  },
  {
   "cell_type": "code",
   "execution_count": 41,
   "metadata": {
    "id": "UalJ_g2SgM1Q"
   },
   "outputs": [
    {
     "name": "stdout",
     "output_type": "stream",
     "text": [
      "10\n"
     ]
    }
   ],
   "source": [
    "input_count=input()"
   ]
  },
  {
   "cell_type": "markdown",
   "metadata": {
    "id": "iZLTDMbAgSVt"
   },
   "source": [
    "2.  input_countを数値として下記に代入し出力せよ。\n",
    "\n",
    "\n",
    "```\n",
    "cup_price = 500\n",
    "count =\n",
    "total_price = cup_price * count\n",
    "print('購入するカップの個数は' + str(count) + '個です')\n",
    "print('支払い金額は' + str(total_price) + '円です')\n",
    "```\n",
    "\n"
   ]
  },
  {
   "cell_type": "code",
   "execution_count": 42,
   "metadata": {
    "id": "3lgrrW5YIuIX"
   },
   "outputs": [
    {
     "name": "stdout",
     "output_type": "stream",
     "text": [
      "購入するカップの個数は10個です\n",
      "支払い金額は5000円です\n"
     ]
    }
   ],
   "source": [
    "cup_price = 500\n",
    "count = int(input_count)\n",
    "total_price = cup_price*count\n",
    "print('購入するカップの個数は' + str(count) + '個です')\n",
    "print('支払い金額は' + str(total_price) + '円です')"
   ]
  },
  {
   "cell_type": "markdown",
   "metadata": {
    "id": "DxzC_skKgU1L"
   },
   "source": [
    "## **Exercise 07: for文で出力せよ**"
   ]
  },
  {
   "cell_type": "markdown",
   "metadata": {
    "id": "JHD9l5aFgWzF"
   },
   "source": [
    "1. for文を用いてリストの要素を1つずつ取り出し、「得意なスポーツは\n",
    "◯◯です」と出力せよ。\n",
    "\n",
    "\n",
    "```\n",
    "sports = ['サッカー', 'バスケ', 'テニス']\n",
    "```\n",
    "\n",
    "\n"
   ]
  },
  {
   "cell_type": "code",
   "execution_count": 48,
   "metadata": {
    "id": "NyevDSeaIiq0"
   },
   "outputs": [
    {
     "name": "stdout",
     "output_type": "stream",
     "text": [
      "好きなスポーツはサッカーです\n",
      "好きなスポーツはバスケです\n",
      "好きなスポーツはテニスです\n"
     ]
    }
   ],
   "source": [
    "sports = ['サッカー', 'バスケ', 'テニス']\n",
    "i=0\n",
    "for i in range(0,3):\n",
    "    print(\"好きなスポーツは\"+sports[i]+\"です\")\n",
    "    i=+1"
   ]
  },
  {
   "cell_type": "markdown",
   "metadata": {
    "id": "mXI8CT7GgXXs"
   },
   "source": [
    "2. for文を用いて、辞書のキーを1つずつ取り出し、繰り返しの中で「◯◯\n",
    "は△△という意味です」と出力せよ。\n",
    "\n",
    "\n",
    "```\n",
    "fruits = {'apple': 'りんご', 'banana': 'バナナ', 'grape': 'ぶどう'}\n",
    "```\n",
    "\n"
   ]
  },
  {
   "cell_type": "code",
   "execution_count": 79,
   "metadata": {
    "id": "NWwD9E5WgahZ"
   },
   "outputs": [
    {
     "name": "stdout",
     "output_type": "stream",
     "text": [
      "appleはりんごという意味です\n",
      "bananaはバナナという意味です\n",
      "grapeはぶどうという意味です\n"
     ]
    }
   ],
   "source": [
    "fruits = {'apple': 'りんご', 'banana': 'バナナ', 'grape': 'ぶどう'}\n",
    "i=0\n",
    "a=list(fruits.keys())\n",
    "for i in range(0,3):\n",
    "    print(str(a[i])+\"は\"+fruits[a[i]]+\"という意味です\")\n",
    "    i=+1"
   ]
  },
  {
   "cell_type": "code",
   "execution_count": null,
   "metadata": {},
   "outputs": [],
   "source": []
  }
 ],
 "metadata": {
  "colab": {
   "collapsed_sections": [],
   "name": "PythonTutorial.ipynb",
   "provenance": [],
   "toc_visible": true
  },
  "kernelspec": {
   "display_name": "Python 3",
   "language": "python",
   "name": "python3"
  },
  "language_info": {
   "codemirror_mode": {
    "name": "ipython",
    "version": 3
   },
   "file_extension": ".py",
   "mimetype": "text/x-python",
   "name": "python",
   "nbconvert_exporter": "python",
   "pygments_lexer": "ipython3",
   "version": "3.8.3"
  }
 },
 "nbformat": 4,
 "nbformat_minor": 1
}

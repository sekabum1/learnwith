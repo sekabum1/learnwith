{
 "cells": [
  {
   "cell_type": "markdown",
   "metadata": {
    "id": "FmVKUWLBfIAd"
   },
   "source": [
    "# **ステージ1**\n",
    "### ***データセットの読み込みと分析のための処理***"
   ]
  },
  {
   "cell_type": "markdown",
   "metadata": {
    "id": "1onk-yx2NImG"
   },
   "source": [
    "---"
   ]
  },
  {
   "cell_type": "markdown",
   "metadata": {
    "id": "D76KJeBVJO2S"
   },
   "source": [
    "## **インストラクション**\n"
   ]
  },
  {
   "cell_type": "markdown",
   "metadata": {
    "id": "WbxFud1FJcO2"
   },
   "source": [
    "*   解答用紙をダウンロードし、決められた提出方法で提出して下さい。\n",
    "*   全ての演習は、難易度の高い順に、最も簡単なものから最も難しいものへと慎重に配置\n",
    "されています。\n",
    "*   解答は不完全な形でも、何度でも提出可能なのです。\n",
    "*   運営はQuestに関する一切の質問にお答えできません。質問があれば、Discord内で他の学習者に尋ねて下さい。\n",
    "* DiscordでのコミュニケーションでQuestの解決が困難な場合は、ピアレビューを活用し\n",
    "てください。\n",
    "\n"
   ]
  },
  {
   "cell_type": "markdown",
   "metadata": {
    "id": "JwwqVLzSLiBt"
   },
   "source": [
    "---\n"
   ]
  },
  {
   "cell_type": "markdown",
   "metadata": {
    "id": "B2IYzTiYfKsz"
   },
   "source": [
    "# **Quest 01: ライブラリをインポートせよ**"
   ]
  },
  {
   "cell_type": "markdown",
   "metadata": {
    "id": "EolKSsONfY-1"
   },
   "source": [
    "1. pandasをpdと省略してインポートせよ。\n"
   ]
  },
  {
   "cell_type": "code",
   "execution_count": 32,
   "metadata": {
    "id": "yi_AgZdUdx_0"
   },
   "outputs": [],
   "source": [
    "import pandas as pd"
   ]
  },
  {
   "cell_type": "markdown",
   "metadata": {
    "id": "HWF-qMshS_i6"
   },
   "source": [
    "2. numpyをnpとしてインポートせよ。"
   ]
  },
  {
   "cell_type": "code",
   "execution_count": 33,
   "metadata": {},
   "outputs": [],
   "source": [
    "import numpy as np"
   ]
  },
  {
   "cell_type": "markdown",
   "metadata": {
    "id": "_xnz8y-BTEyv"
   },
   "source": [
    "3. matplotlibからpyplotをpltとしてインポートせよ。\n"
   ]
  },
  {
   "cell_type": "code",
   "execution_count": 34,
   "metadata": {},
   "outputs": [],
   "source": [
    "from matplotlib import pyplot as plt"
   ]
  },
  {
   "cell_type": "code",
   "execution_count": null,
   "metadata": {
    "id": "m1Aj2EDgTIjN"
   },
   "outputs": [],
   "source": []
  },
  {
   "cell_type": "markdown",
   "metadata": {
    "id": "pGUaSsg0fUnB"
   },
   "source": [
    "# **Quest 02: データを読み込め**\n"
   ]
  },
  {
   "cell_type": "markdown",
   "metadata": {
    "id": "Z2AJO-1N7E0x"
   },
   "source": [
    "データセット：　https://drive.google.com/drive/folders/1KvIIoBZCyMaT9kXXIjGgSNSnpqk7hT6T?usp=sharing"
   ]
  },
  {
   "cell_type": "markdown",
   "metadata": {
    "id": "_FjAlE_Fff7X"
   },
   "source": [
    "1. pandasを用いてファイル名がdata_sample1.csvであるデータを読み\n",
    "込み、変数sample1に代入せよ。"
   ]
  },
  {
   "cell_type": "code",
   "execution_count": 35,
   "metadata": {
    "id": "EyYsLnmAfdOV"
   },
   "outputs": [],
   "source": [
    "sample1=pd.read_csv(\"../Downloads/data_sample1.csv\")"
   ]
  },
  {
   "cell_type": "markdown",
   "metadata": {
    "id": "wjRWEax6fgpU"
   },
   "source": [
    "2. 変数sample1を呼び出し、中身を表示せよ。"
   ]
  },
  {
   "cell_type": "code",
   "execution_count": 36,
   "metadata": {
    "id": "KDgcKuPiOY2e"
   },
   "outputs": [
    {
     "data": {
      "text/html": [
       "<div>\n",
       "<style scoped>\n",
       "    .dataframe tbody tr th:only-of-type {\n",
       "        vertical-align: middle;\n",
       "    }\n",
       "\n",
       "    .dataframe tbody tr th {\n",
       "        vertical-align: top;\n",
       "    }\n",
       "\n",
       "    .dataframe thead th {\n",
       "        text-align: right;\n",
       "    }\n",
       "</style>\n",
       "<table border=\"1\" class=\"dataframe\">\n",
       "  <thead>\n",
       "    <tr style=\"text-align: right;\">\n",
       "      <th></th>\n",
       "      <th>id</th>\n",
       "      <th>名前</th>\n",
       "      <th>年齢</th>\n",
       "    </tr>\n",
       "  </thead>\n",
       "  <tbody>\n",
       "    <tr>\n",
       "      <th>0</th>\n",
       "      <td>0</td>\n",
       "      <td>Yamada</td>\n",
       "      <td>40</td>\n",
       "    </tr>\n",
       "    <tr>\n",
       "      <th>1</th>\n",
       "      <td>1</td>\n",
       "      <td>sato</td>\n",
       "      <td>35</td>\n",
       "    </tr>\n",
       "    <tr>\n",
       "      <th>2</th>\n",
       "      <td>2</td>\n",
       "      <td>tanaka</td>\n",
       "      <td>21</td>\n",
       "    </tr>\n",
       "  </tbody>\n",
       "</table>\n",
       "</div>"
      ],
      "text/plain": [
       "   id      名前  年齢\n",
       "0   0  Yamada  40\n",
       "1   1    sato  35\n",
       "2   2  tanaka  21"
      ]
     },
     "execution_count": 36,
     "metadata": {},
     "output_type": "execute_result"
    }
   ],
   "source": [
    "sample1"
   ]
  },
  {
   "cell_type": "markdown",
   "metadata": {
    "id": "HDH44q6GfhiX"
   },
   "source": [
    "3. 表示したデータを読み取り、yamadaさんの正しい年齢を変数ageに代\n",
    "入せよ。\n",
    "\n"
   ]
  },
  {
   "cell_type": "code",
   "execution_count": 37,
   "metadata": {
    "id": "DgJ8mEU9OaDW"
   },
   "outputs": [
    {
     "data": {
      "text/plain": [
       "40"
      ]
     },
     "execution_count": 37,
     "metadata": {},
     "output_type": "execute_result"
    }
   ],
   "source": [
    "data1=np.array(sample1[\"年齢\"])\n",
    "age=data1[0]\n",
    "age"
   ]
  },
  {
   "cell_type": "markdown",
   "metadata": {
    "id": "FmGEPZWYfmUS"
   },
   "source": [
    "# **Quest 03: データを読み込め2**"
   ]
  },
  {
   "cell_type": "markdown",
   "metadata": {
    "id": "vxyTdwJkfxIl"
   },
   "source": [
    "1. ファイル名がdata_sample2.csvであるデータを読み込み、文字コード\n",
    "としてcp932を使用し、変数sample2に代入せよ。"
   ]
  },
  {
   "cell_type": "code",
   "execution_count": 38,
   "metadata": {
    "id": "Ml_w9_EKOcLE"
   },
   "outputs": [
    {
     "data": {
      "text/html": [
       "<div>\n",
       "<style scoped>\n",
       "    .dataframe tbody tr th:only-of-type {\n",
       "        vertical-align: middle;\n",
       "    }\n",
       "\n",
       "    .dataframe tbody tr th {\n",
       "        vertical-align: top;\n",
       "    }\n",
       "\n",
       "    .dataframe thead th {\n",
       "        text-align: right;\n",
       "    }\n",
       "</style>\n",
       "<table border=\"1\" class=\"dataframe\">\n",
       "  <thead>\n",
       "    <tr style=\"text-align: right;\">\n",
       "      <th></th>\n",
       "      <th>No</th>\n",
       "      <th>種類</th>\n",
       "      <th>地域</th>\n",
       "      <th>市区町村コード</th>\n",
       "      <th>都道府県名</th>\n",
       "      <th>市区町村名</th>\n",
       "      <th>地区名</th>\n",
       "      <th>最寄駅：名称</th>\n",
       "      <th>最寄駅：距離（分）</th>\n",
       "      <th>取引価格（総額）</th>\n",
       "      <th>...</th>\n",
       "      <th>今後の利用目的</th>\n",
       "      <th>前面道路：方位</th>\n",
       "      <th>前面道路：種類</th>\n",
       "      <th>前面道路：幅員（ｍ）</th>\n",
       "      <th>都市計画</th>\n",
       "      <th>建ぺい率（％）</th>\n",
       "      <th>容積率（％）</th>\n",
       "      <th>取引時点</th>\n",
       "      <th>改装</th>\n",
       "      <th>取引の事情等</th>\n",
       "    </tr>\n",
       "  </thead>\n",
       "  <tbody>\n",
       "    <tr>\n",
       "      <th>0</th>\n",
       "      <td>1</td>\n",
       "      <td>中古マンション等</td>\n",
       "      <td>NaN</td>\n",
       "      <td>13101</td>\n",
       "      <td>東京都</td>\n",
       "      <td>千代田区</td>\n",
       "      <td>飯田橋</td>\n",
       "      <td>飯田橋</td>\n",
       "      <td>4</td>\n",
       "      <td>13000000</td>\n",
       "      <td>...</td>\n",
       "      <td>住宅</td>\n",
       "      <td>NaN</td>\n",
       "      <td>NaN</td>\n",
       "      <td>NaN</td>\n",
       "      <td>商業地域</td>\n",
       "      <td>80.0</td>\n",
       "      <td>700.0</td>\n",
       "      <td>2018年第３四半期</td>\n",
       "      <td>未改装</td>\n",
       "      <td>NaN</td>\n",
       "    </tr>\n",
       "    <tr>\n",
       "      <th>1</th>\n",
       "      <td>2</td>\n",
       "      <td>宅地(土地と建物)</td>\n",
       "      <td>商業地</td>\n",
       "      <td>13101</td>\n",
       "      <td>東京都</td>\n",
       "      <td>千代田区</td>\n",
       "      <td>飯田橋</td>\n",
       "      <td>飯田橋</td>\n",
       "      <td>3</td>\n",
       "      <td>250000000</td>\n",
       "      <td>...</td>\n",
       "      <td>事務所</td>\n",
       "      <td>南西</td>\n",
       "      <td>区道</td>\n",
       "      <td>8.0</td>\n",
       "      <td>商業地域</td>\n",
       "      <td>80.0</td>\n",
       "      <td>500.0</td>\n",
       "      <td>2018年第２四半期</td>\n",
       "      <td>NaN</td>\n",
       "      <td>NaN</td>\n",
       "    </tr>\n",
       "    <tr>\n",
       "      <th>2</th>\n",
       "      <td>3</td>\n",
       "      <td>中古マンション等</td>\n",
       "      <td>NaN</td>\n",
       "      <td>13101</td>\n",
       "      <td>東京都</td>\n",
       "      <td>千代田区</td>\n",
       "      <td>飯田橋</td>\n",
       "      <td>飯田橋</td>\n",
       "      <td>3</td>\n",
       "      <td>22000000</td>\n",
       "      <td>...</td>\n",
       "      <td>住宅</td>\n",
       "      <td>NaN</td>\n",
       "      <td>NaN</td>\n",
       "      <td>NaN</td>\n",
       "      <td>商業地域</td>\n",
       "      <td>80.0</td>\n",
       "      <td>700.0</td>\n",
       "      <td>2018年第２四半期</td>\n",
       "      <td>未改装</td>\n",
       "      <td>NaN</td>\n",
       "    </tr>\n",
       "    <tr>\n",
       "      <th>3</th>\n",
       "      <td>4</td>\n",
       "      <td>中古マンション等</td>\n",
       "      <td>NaN</td>\n",
       "      <td>13101</td>\n",
       "      <td>東京都</td>\n",
       "      <td>千代田区</td>\n",
       "      <td>飯田橋</td>\n",
       "      <td>飯田橋</td>\n",
       "      <td>1</td>\n",
       "      <td>69000000</td>\n",
       "      <td>...</td>\n",
       "      <td>住宅</td>\n",
       "      <td>NaN</td>\n",
       "      <td>NaN</td>\n",
       "      <td>NaN</td>\n",
       "      <td>商業地域</td>\n",
       "      <td>80.0</td>\n",
       "      <td>600.0</td>\n",
       "      <td>2018年第２四半期</td>\n",
       "      <td>未改装</td>\n",
       "      <td>NaN</td>\n",
       "    </tr>\n",
       "    <tr>\n",
       "      <th>4</th>\n",
       "      <td>5</td>\n",
       "      <td>中古マンション等</td>\n",
       "      <td>NaN</td>\n",
       "      <td>13101</td>\n",
       "      <td>東京都</td>\n",
       "      <td>千代田区</td>\n",
       "      <td>飯田橋</td>\n",
       "      <td>飯田橋</td>\n",
       "      <td>3</td>\n",
       "      <td>21000000</td>\n",
       "      <td>...</td>\n",
       "      <td>事務所</td>\n",
       "      <td>NaN</td>\n",
       "      <td>NaN</td>\n",
       "      <td>NaN</td>\n",
       "      <td>商業地域</td>\n",
       "      <td>80.0</td>\n",
       "      <td>700.0</td>\n",
       "      <td>2018年第２四半期</td>\n",
       "      <td>未改装</td>\n",
       "      <td>NaN</td>\n",
       "    </tr>\n",
       "    <tr>\n",
       "      <th>...</th>\n",
       "      <td>...</td>\n",
       "      <td>...</td>\n",
       "      <td>...</td>\n",
       "      <td>...</td>\n",
       "      <td>...</td>\n",
       "      <td>...</td>\n",
       "      <td>...</td>\n",
       "      <td>...</td>\n",
       "      <td>...</td>\n",
       "      <td>...</td>\n",
       "      <td>...</td>\n",
       "      <td>...</td>\n",
       "      <td>...</td>\n",
       "      <td>...</td>\n",
       "      <td>...</td>\n",
       "      <td>...</td>\n",
       "      <td>...</td>\n",
       "      <td>...</td>\n",
       "      <td>...</td>\n",
       "      <td>...</td>\n",
       "      <td>...</td>\n",
       "    </tr>\n",
       "    <tr>\n",
       "      <th>58527</th>\n",
       "      <td>58528</td>\n",
       "      <td>宅地(土地)</td>\n",
       "      <td>住宅地</td>\n",
       "      <td>13421</td>\n",
       "      <td>東京都</td>\n",
       "      <td>小笠原村</td>\n",
       "      <td>父島</td>\n",
       "      <td>NaN</td>\n",
       "      <td>NaN</td>\n",
       "      <td>10000000</td>\n",
       "      <td>...</td>\n",
       "      <td>その他</td>\n",
       "      <td>西</td>\n",
       "      <td>村道</td>\n",
       "      <td>5.0</td>\n",
       "      <td>市街化区域及び市街化調整区域外の都市計画区域</td>\n",
       "      <td>70.0</td>\n",
       "      <td>200.0</td>\n",
       "      <td>2017年第２四半期</td>\n",
       "      <td>NaN</td>\n",
       "      <td>NaN</td>\n",
       "    </tr>\n",
       "    <tr>\n",
       "      <th>58528</th>\n",
       "      <td>58529</td>\n",
       "      <td>宅地(土地)</td>\n",
       "      <td>住宅地</td>\n",
       "      <td>13421</td>\n",
       "      <td>東京都</td>\n",
       "      <td>小笠原村</td>\n",
       "      <td>父島</td>\n",
       "      <td>NaN</td>\n",
       "      <td>NaN</td>\n",
       "      <td>1700000</td>\n",
       "      <td>...</td>\n",
       "      <td>その他</td>\n",
       "      <td>西</td>\n",
       "      <td>道路</td>\n",
       "      <td>3.0</td>\n",
       "      <td>市街化区域及び市街化調整区域外の都市計画区域</td>\n",
       "      <td>70.0</td>\n",
       "      <td>200.0</td>\n",
       "      <td>2017年第１四半期</td>\n",
       "      <td>NaN</td>\n",
       "      <td>その他事情有り</td>\n",
       "    </tr>\n",
       "    <tr>\n",
       "      <th>58529</th>\n",
       "      <td>58530</td>\n",
       "      <td>宅地(土地)</td>\n",
       "      <td>住宅地</td>\n",
       "      <td>13421</td>\n",
       "      <td>東京都</td>\n",
       "      <td>小笠原村</td>\n",
       "      <td>母島</td>\n",
       "      <td>NaN</td>\n",
       "      <td>NaN</td>\n",
       "      <td>11000000</td>\n",
       "      <td>...</td>\n",
       "      <td>その他</td>\n",
       "      <td>北東</td>\n",
       "      <td>村道</td>\n",
       "      <td>5.0</td>\n",
       "      <td>市街化区域及び市街化調整区域外の都市計画区域</td>\n",
       "      <td>70.0</td>\n",
       "      <td>200.0</td>\n",
       "      <td>2018年第１四半期</td>\n",
       "      <td>NaN</td>\n",
       "      <td>NaN</td>\n",
       "    </tr>\n",
       "    <tr>\n",
       "      <th>58530</th>\n",
       "      <td>58531</td>\n",
       "      <td>宅地(土地)</td>\n",
       "      <td>住宅地</td>\n",
       "      <td>13421</td>\n",
       "      <td>東京都</td>\n",
       "      <td>小笠原村</td>\n",
       "      <td>母島</td>\n",
       "      <td>NaN</td>\n",
       "      <td>NaN</td>\n",
       "      <td>3500000</td>\n",
       "      <td>...</td>\n",
       "      <td>NaN</td>\n",
       "      <td>北東</td>\n",
       "      <td>村道</td>\n",
       "      <td>5.0</td>\n",
       "      <td>市街化区域及び市街化調整区域外の都市計画区域</td>\n",
       "      <td>70.0</td>\n",
       "      <td>200.0</td>\n",
       "      <td>2017年第３四半期</td>\n",
       "      <td>NaN</td>\n",
       "      <td>NaN</td>\n",
       "    </tr>\n",
       "    <tr>\n",
       "      <th>58531</th>\n",
       "      <td>58532</td>\n",
       "      <td>宅地(土地)</td>\n",
       "      <td>宅地見込地</td>\n",
       "      <td>13421</td>\n",
       "      <td>東京都</td>\n",
       "      <td>小笠原村</td>\n",
       "      <td>母島</td>\n",
       "      <td>NaN</td>\n",
       "      <td>NaN</td>\n",
       "      <td>10000000</td>\n",
       "      <td>...</td>\n",
       "      <td>その他</td>\n",
       "      <td>接面道路無</td>\n",
       "      <td>NaN</td>\n",
       "      <td>NaN</td>\n",
       "      <td>市街化区域及び市街化調整区域外の都市計画区域</td>\n",
       "      <td>70.0</td>\n",
       "      <td>200.0</td>\n",
       "      <td>2017年第１四半期</td>\n",
       "      <td>NaN</td>\n",
       "      <td>NaN</td>\n",
       "    </tr>\n",
       "  </tbody>\n",
       "</table>\n",
       "<p>58532 rows × 30 columns</p>\n",
       "</div>"
      ],
      "text/plain": [
       "          No         種類     地域  市区町村コード 都道府県名 市区町村名  地区名 最寄駅：名称 最寄駅：距離（分）  \\\n",
       "0          1   中古マンション等    NaN    13101   東京都  千代田区  飯田橋    飯田橋         4   \n",
       "1          2  宅地(土地と建物)    商業地    13101   東京都  千代田区  飯田橋    飯田橋         3   \n",
       "2          3   中古マンション等    NaN    13101   東京都  千代田区  飯田橋    飯田橋         3   \n",
       "3          4   中古マンション等    NaN    13101   東京都  千代田区  飯田橋    飯田橋         1   \n",
       "4          5   中古マンション等    NaN    13101   東京都  千代田区  飯田橋    飯田橋         3   \n",
       "...      ...        ...    ...      ...   ...   ...  ...    ...       ...   \n",
       "58527  58528     宅地(土地)    住宅地    13421   東京都  小笠原村   父島    NaN       NaN   \n",
       "58528  58529     宅地(土地)    住宅地    13421   東京都  小笠原村   父島    NaN       NaN   \n",
       "58529  58530     宅地(土地)    住宅地    13421   東京都  小笠原村   母島    NaN       NaN   \n",
       "58530  58531     宅地(土地)    住宅地    13421   東京都  小笠原村   母島    NaN       NaN   \n",
       "58531  58532     宅地(土地)  宅地見込地    13421   東京都  小笠原村   母島    NaN       NaN   \n",
       "\n",
       "        取引価格（総額）  ...  今後の利用目的 前面道路：方位 前面道路：種類  前面道路：幅員（ｍ）  \\\n",
       "0       13000000  ...       住宅     NaN     NaN         NaN   \n",
       "1      250000000  ...      事務所      南西      区道         8.0   \n",
       "2       22000000  ...       住宅     NaN     NaN         NaN   \n",
       "3       69000000  ...       住宅     NaN     NaN         NaN   \n",
       "4       21000000  ...      事務所     NaN     NaN         NaN   \n",
       "...          ...  ...      ...     ...     ...         ...   \n",
       "58527   10000000  ...      その他       西      村道         5.0   \n",
       "58528    1700000  ...      その他       西      道路         3.0   \n",
       "58529   11000000  ...      その他      北東      村道         5.0   \n",
       "58530    3500000  ...      NaN      北東      村道         5.0   \n",
       "58531   10000000  ...      その他   接面道路無     NaN         NaN   \n",
       "\n",
       "                         都市計画 建ぺい率（％） 容積率（％）        取引時点   改装   取引の事情等  \n",
       "0                        商業地域    80.0  700.0  2018年第３四半期  未改装      NaN  \n",
       "1                        商業地域    80.0  500.0  2018年第２四半期  NaN      NaN  \n",
       "2                        商業地域    80.0  700.0  2018年第２四半期  未改装      NaN  \n",
       "3                        商業地域    80.0  600.0  2018年第２四半期  未改装      NaN  \n",
       "4                        商業地域    80.0  700.0  2018年第２四半期  未改装      NaN  \n",
       "...                       ...     ...    ...         ...  ...      ...  \n",
       "58527  市街化区域及び市街化調整区域外の都市計画区域    70.0  200.0  2017年第２四半期  NaN      NaN  \n",
       "58528  市街化区域及び市街化調整区域外の都市計画区域    70.0  200.0  2017年第１四半期  NaN  その他事情有り  \n",
       "58529  市街化区域及び市街化調整区域外の都市計画区域    70.0  200.0  2018年第１四半期  NaN      NaN  \n",
       "58530  市街化区域及び市街化調整区域外の都市計画区域    70.0  200.0  2017年第３四半期  NaN      NaN  \n",
       "58531  市街化区域及び市街化調整区域外の都市計画区域    70.0  200.0  2017年第１四半期  NaN      NaN  \n",
       "\n",
       "[58532 rows x 30 columns]"
      ]
     },
     "execution_count": 38,
     "metadata": {},
     "output_type": "execute_result"
    }
   ],
   "source": [
    "sample2=pd.read_csv(\"../Downloads/data_sample2.csv\",encoding=\"cp932\")\n",
    "sample2"
   ]
  },
  {
   "cell_type": "markdown",
   "metadata": {
    "id": "Hc272iFufxLO"
   },
   "source": [
    "2. sample2の配列の形状(行列と列数)を確認せよ。"
   ]
  },
  {
   "cell_type": "code",
   "execution_count": 39,
   "metadata": {
    "id": "54zmvFNuOdfA"
   },
   "outputs": [
    {
     "name": "stdout",
     "output_type": "stream",
     "text": [
      "58532\n",
      "30\n"
     ]
    }
   ],
   "source": [
    "print(len(sample2))\n",
    "print(len(sample2.columns))"
   ]
  },
  {
   "cell_type": "markdown",
   "metadata": {
    "id": "UWeOyq59fxOq"
   },
   "source": [
    "3. sample2の先頭５行を表示せよ。"
   ]
  },
  {
   "cell_type": "code",
   "execution_count": 40,
   "metadata": {
    "id": "T1X8McMeOevY",
    "scrolled": true
   },
   "outputs": [
    {
     "data": {
      "text/html": [
       "<div>\n",
       "<style scoped>\n",
       "    .dataframe tbody tr th:only-of-type {\n",
       "        vertical-align: middle;\n",
       "    }\n",
       "\n",
       "    .dataframe tbody tr th {\n",
       "        vertical-align: top;\n",
       "    }\n",
       "\n",
       "    .dataframe thead th {\n",
       "        text-align: right;\n",
       "    }\n",
       "</style>\n",
       "<table border=\"1\" class=\"dataframe\">\n",
       "  <thead>\n",
       "    <tr style=\"text-align: right;\">\n",
       "      <th></th>\n",
       "      <th>No</th>\n",
       "      <th>種類</th>\n",
       "      <th>地域</th>\n",
       "      <th>市区町村コード</th>\n",
       "      <th>都道府県名</th>\n",
       "      <th>市区町村名</th>\n",
       "      <th>地区名</th>\n",
       "      <th>最寄駅：名称</th>\n",
       "      <th>最寄駅：距離（分）</th>\n",
       "      <th>取引価格（総額）</th>\n",
       "      <th>...</th>\n",
       "      <th>今後の利用目的</th>\n",
       "      <th>前面道路：方位</th>\n",
       "      <th>前面道路：種類</th>\n",
       "      <th>前面道路：幅員（ｍ）</th>\n",
       "      <th>都市計画</th>\n",
       "      <th>建ぺい率（％）</th>\n",
       "      <th>容積率（％）</th>\n",
       "      <th>取引時点</th>\n",
       "      <th>改装</th>\n",
       "      <th>取引の事情等</th>\n",
       "    </tr>\n",
       "  </thead>\n",
       "  <tbody>\n",
       "    <tr>\n",
       "      <th>0</th>\n",
       "      <td>1</td>\n",
       "      <td>中古マンション等</td>\n",
       "      <td>NaN</td>\n",
       "      <td>13101</td>\n",
       "      <td>東京都</td>\n",
       "      <td>千代田区</td>\n",
       "      <td>飯田橋</td>\n",
       "      <td>飯田橋</td>\n",
       "      <td>4</td>\n",
       "      <td>13000000</td>\n",
       "      <td>...</td>\n",
       "      <td>住宅</td>\n",
       "      <td>NaN</td>\n",
       "      <td>NaN</td>\n",
       "      <td>NaN</td>\n",
       "      <td>商業地域</td>\n",
       "      <td>80.0</td>\n",
       "      <td>700.0</td>\n",
       "      <td>2018年第３四半期</td>\n",
       "      <td>未改装</td>\n",
       "      <td>NaN</td>\n",
       "    </tr>\n",
       "    <tr>\n",
       "      <th>1</th>\n",
       "      <td>2</td>\n",
       "      <td>宅地(土地と建物)</td>\n",
       "      <td>商業地</td>\n",
       "      <td>13101</td>\n",
       "      <td>東京都</td>\n",
       "      <td>千代田区</td>\n",
       "      <td>飯田橋</td>\n",
       "      <td>飯田橋</td>\n",
       "      <td>3</td>\n",
       "      <td>250000000</td>\n",
       "      <td>...</td>\n",
       "      <td>事務所</td>\n",
       "      <td>南西</td>\n",
       "      <td>区道</td>\n",
       "      <td>8.0</td>\n",
       "      <td>商業地域</td>\n",
       "      <td>80.0</td>\n",
       "      <td>500.0</td>\n",
       "      <td>2018年第２四半期</td>\n",
       "      <td>NaN</td>\n",
       "      <td>NaN</td>\n",
       "    </tr>\n",
       "    <tr>\n",
       "      <th>2</th>\n",
       "      <td>3</td>\n",
       "      <td>中古マンション等</td>\n",
       "      <td>NaN</td>\n",
       "      <td>13101</td>\n",
       "      <td>東京都</td>\n",
       "      <td>千代田区</td>\n",
       "      <td>飯田橋</td>\n",
       "      <td>飯田橋</td>\n",
       "      <td>3</td>\n",
       "      <td>22000000</td>\n",
       "      <td>...</td>\n",
       "      <td>住宅</td>\n",
       "      <td>NaN</td>\n",
       "      <td>NaN</td>\n",
       "      <td>NaN</td>\n",
       "      <td>商業地域</td>\n",
       "      <td>80.0</td>\n",
       "      <td>700.0</td>\n",
       "      <td>2018年第２四半期</td>\n",
       "      <td>未改装</td>\n",
       "      <td>NaN</td>\n",
       "    </tr>\n",
       "    <tr>\n",
       "      <th>3</th>\n",
       "      <td>4</td>\n",
       "      <td>中古マンション等</td>\n",
       "      <td>NaN</td>\n",
       "      <td>13101</td>\n",
       "      <td>東京都</td>\n",
       "      <td>千代田区</td>\n",
       "      <td>飯田橋</td>\n",
       "      <td>飯田橋</td>\n",
       "      <td>1</td>\n",
       "      <td>69000000</td>\n",
       "      <td>...</td>\n",
       "      <td>住宅</td>\n",
       "      <td>NaN</td>\n",
       "      <td>NaN</td>\n",
       "      <td>NaN</td>\n",
       "      <td>商業地域</td>\n",
       "      <td>80.0</td>\n",
       "      <td>600.0</td>\n",
       "      <td>2018年第２四半期</td>\n",
       "      <td>未改装</td>\n",
       "      <td>NaN</td>\n",
       "    </tr>\n",
       "    <tr>\n",
       "      <th>4</th>\n",
       "      <td>5</td>\n",
       "      <td>中古マンション等</td>\n",
       "      <td>NaN</td>\n",
       "      <td>13101</td>\n",
       "      <td>東京都</td>\n",
       "      <td>千代田区</td>\n",
       "      <td>飯田橋</td>\n",
       "      <td>飯田橋</td>\n",
       "      <td>3</td>\n",
       "      <td>21000000</td>\n",
       "      <td>...</td>\n",
       "      <td>事務所</td>\n",
       "      <td>NaN</td>\n",
       "      <td>NaN</td>\n",
       "      <td>NaN</td>\n",
       "      <td>商業地域</td>\n",
       "      <td>80.0</td>\n",
       "      <td>700.0</td>\n",
       "      <td>2018年第２四半期</td>\n",
       "      <td>未改装</td>\n",
       "      <td>NaN</td>\n",
       "    </tr>\n",
       "  </tbody>\n",
       "</table>\n",
       "<p>5 rows × 30 columns</p>\n",
       "</div>"
      ],
      "text/plain": [
       "   No         種類   地域  市区町村コード 都道府県名 市区町村名  地区名 最寄駅：名称 最寄駅：距離（分）   取引価格（総額）  \\\n",
       "0   1   中古マンション等  NaN    13101   東京都  千代田区  飯田橋    飯田橋         4   13000000   \n",
       "1   2  宅地(土地と建物)  商業地    13101   東京都  千代田区  飯田橋    飯田橋         3  250000000   \n",
       "2   3   中古マンション等  NaN    13101   東京都  千代田区  飯田橋    飯田橋         3   22000000   \n",
       "3   4   中古マンション等  NaN    13101   東京都  千代田区  飯田橋    飯田橋         1   69000000   \n",
       "4   5   中古マンション等  NaN    13101   東京都  千代田区  飯田橋    飯田橋         3   21000000   \n",
       "\n",
       "   ...  今後の利用目的 前面道路：方位 前面道路：種類  前面道路：幅員（ｍ）  都市計画 建ぺい率（％） 容積率（％）        取引時点  \\\n",
       "0  ...       住宅     NaN     NaN         NaN  商業地域    80.0  700.0  2018年第３四半期   \n",
       "1  ...      事務所      南西      区道         8.0  商業地域    80.0  500.0  2018年第２四半期   \n",
       "2  ...       住宅     NaN     NaN         NaN  商業地域    80.0  700.0  2018年第２四半期   \n",
       "3  ...       住宅     NaN     NaN         NaN  商業地域    80.0  600.0  2018年第２四半期   \n",
       "4  ...      事務所     NaN     NaN         NaN  商業地域    80.0  700.0  2018年第２四半期   \n",
       "\n",
       "    改装 取引の事情等  \n",
       "0  未改装    NaN  \n",
       "1  NaN    NaN  \n",
       "2  未改装    NaN  \n",
       "3  未改装    NaN  \n",
       "4  未改装    NaN  \n",
       "\n",
       "[5 rows x 30 columns]"
      ]
     },
     "execution_count": 40,
     "metadata": {},
     "output_type": "execute_result"
    }
   ],
   "source": [
    "sample2.head()"
   ]
  },
  {
   "cell_type": "markdown",
   "metadata": {
    "id": "OYKKo2qTT_3X"
   },
   "source": [
    "4. 5行目の市区町村コードを変数area_codeに代入せよ。\n"
   ]
  },
  {
   "cell_type": "code",
   "execution_count": 41,
   "metadata": {
    "id": "Y638Nc2qOfB_"
   },
   "outputs": [
    {
     "data": {
      "text/plain": [
       "13101"
      ]
     },
     "execution_count": 41,
     "metadata": {},
     "output_type": "execute_result"
    }
   ],
   "source": [
    "data2=np.array(sample2[\"市区町村コード\"])\n",
    "area_code=data2[4]\n",
    "area_code"
   ]
  },
  {
   "cell_type": "markdown",
   "metadata": {
    "id": "6ccXtL8Zf6J3"
   },
   "source": [
    "# **Quest 04: データを読み込め3**"
   ]
  },
  {
   "cell_type": "markdown",
   "metadata": {
    "id": "jO0k1c1Sf7h-"
   },
   "source": [
    "1. sample2の列数のみを変数lengthに代入し、表示させよ。\n",
    "\n"
   ]
  },
  {
   "cell_type": "code",
   "execution_count": 42,
   "metadata": {
    "id": "S7SPB-FdOhGf"
   },
   "outputs": [
    {
     "data": {
      "text/plain": [
       "30"
      ]
     },
     "execution_count": 42,
     "metadata": {},
     "output_type": "execute_result"
    }
   ],
   "source": [
    "length=len(sample2.columns)\n",
    "length"
   ]
  },
  {
   "cell_type": "markdown",
   "metadata": {
    "id": "5OPTMMUxf7Xw"
   },
   "source": [
    "2. sample2の１行目のデータのみを変数firstに代入し、表示させよ。\n",
    "\n",
    "\n",
    "\n",
    "\n"
   ]
  },
  {
   "cell_type": "code",
   "execution_count": 43,
   "metadata": {
    "id": "gMf-qgXTOiZp",
    "scrolled": true
   },
   "outputs": [
    {
     "data": {
      "text/plain": [
       "array([[1, '中古マンション等', nan, 13101, '東京都', '千代田区', '飯田橋', '飯田橋', '4',\n",
       "        13000000, nan, '１Ｋ', '20', nan, nan, nan, nan, '昭和57年', 'ＳＲＣ',\n",
       "        nan, '住宅', nan, nan, nan, '商業地域', 80.0, 700.0, '2018年第３四半期',\n",
       "        '未改装', nan]], dtype=object)"
      ]
     },
     "execution_count": 43,
     "metadata": {},
     "output_type": "execute_result"
    }
   ],
   "source": [
    "first=np.array(sample2[:1])\n",
    "first"
   ]
  },
  {
   "cell_type": "markdown",
   "metadata": {
    "id": "19Mulon0UZkS"
   },
   "source": [
    "3. 各カラムのデータ型を表示せよ。"
   ]
  },
  {
   "cell_type": "code",
   "execution_count": 44,
   "metadata": {
    "id": "HmAiPr8sOjfr"
   },
   "outputs": [
    {
     "name": "stdout",
     "output_type": "stream",
     "text": [
      "<class 'pandas.core.frame.DataFrame'>\n",
      "RangeIndex: 58532 entries, 0 to 58531\n",
      "Data columns (total 30 columns):\n",
      " #   Column      Non-Null Count  Dtype  \n",
      "---  ------      --------------  -----  \n",
      " 0   No          58532 non-null  int64  \n",
      " 1   種類          58532 non-null  object \n",
      " 2   地域          29334 non-null  object \n",
      " 3   市区町村コード     58532 non-null  int64  \n",
      " 4   都道府県名       58532 non-null  object \n",
      " 5   市区町村名       58532 non-null  object \n",
      " 6   地区名         58532 non-null  object \n",
      " 7   最寄駅：名称      58317 non-null  object \n",
      " 8   最寄駅：距離（分）   58245 non-null  object \n",
      " 9   取引価格（総額）    58532 non-null  int64  \n",
      " 10  坪単価         9424 non-null   float64\n",
      " 11  間取り         27945 non-null  object \n",
      " 12  面積（㎡）       58532 non-null  object \n",
      " 13  取引価格（㎡単価）   9424 non-null   float64\n",
      " 14  土地の形状       29319 non-null  object \n",
      " 15  間口          26780 non-null  object \n",
      " 16  延床面積（㎡）     19175 non-null  object \n",
      " 17  建築年         47193 non-null  object \n",
      " 18  建物の構造       47464 non-null  object \n",
      " 19  用途          40324 non-null  object \n",
      " 20  今後の利用目的     53657 non-null  object \n",
      " 21  前面道路：方位     29334 non-null  object \n",
      " 22  前面道路：種類     28995 non-null  object \n",
      " 23  前面道路：幅員（ｍ）  28820 non-null  float64\n",
      " 24  都市計画        58136 non-null  object \n",
      " 25  建ぺい率（％）     57961 non-null  float64\n",
      " 26  容積率（％）      57961 non-null  float64\n",
      " 27  取引時点        58532 non-null  object \n",
      " 28  改装          25666 non-null  object \n",
      " 29  取引の事情等      4015 non-null   object \n",
      "dtypes: float64(5), int64(3), object(22)\n",
      "memory usage: 13.4+ MB\n"
     ]
    }
   ],
   "source": [
    "sample2.info()"
   ]
  },
  {
   "cell_type": "markdown",
   "metadata": {
    "id": "k1voYjGCUbhT"
   },
   "source": [
    "4. 変数sample2からカラム’地域’を削除し、再び変数sasmple2に代入\n",
    "し、それを確認するための先頭5行を表示させよ。"
   ]
  },
  {
   "cell_type": "code",
   "execution_count": 45,
   "metadata": {
    "id": "e2LUwZmxOk7C"
   },
   "outputs": [
    {
     "data": {
      "text/html": [
       "<div>\n",
       "<style scoped>\n",
       "    .dataframe tbody tr th:only-of-type {\n",
       "        vertical-align: middle;\n",
       "    }\n",
       "\n",
       "    .dataframe tbody tr th {\n",
       "        vertical-align: top;\n",
       "    }\n",
       "\n",
       "    .dataframe thead th {\n",
       "        text-align: right;\n",
       "    }\n",
       "</style>\n",
       "<table border=\"1\" class=\"dataframe\">\n",
       "  <thead>\n",
       "    <tr style=\"text-align: right;\">\n",
       "      <th></th>\n",
       "      <th>No</th>\n",
       "      <th>種類</th>\n",
       "      <th>市区町村コード</th>\n",
       "      <th>都道府県名</th>\n",
       "      <th>市区町村名</th>\n",
       "      <th>地区名</th>\n",
       "      <th>最寄駅：名称</th>\n",
       "      <th>最寄駅：距離（分）</th>\n",
       "      <th>取引価格（総額）</th>\n",
       "      <th>坪単価</th>\n",
       "      <th>...</th>\n",
       "      <th>今後の利用目的</th>\n",
       "      <th>前面道路：方位</th>\n",
       "      <th>前面道路：種類</th>\n",
       "      <th>前面道路：幅員（ｍ）</th>\n",
       "      <th>都市計画</th>\n",
       "      <th>建ぺい率（％）</th>\n",
       "      <th>容積率（％）</th>\n",
       "      <th>取引時点</th>\n",
       "      <th>改装</th>\n",
       "      <th>取引の事情等</th>\n",
       "    </tr>\n",
       "  </thead>\n",
       "  <tbody>\n",
       "    <tr>\n",
       "      <th>0</th>\n",
       "      <td>1</td>\n",
       "      <td>中古マンション等</td>\n",
       "      <td>13101</td>\n",
       "      <td>東京都</td>\n",
       "      <td>千代田区</td>\n",
       "      <td>飯田橋</td>\n",
       "      <td>飯田橋</td>\n",
       "      <td>4</td>\n",
       "      <td>13000000</td>\n",
       "      <td>NaN</td>\n",
       "      <td>...</td>\n",
       "      <td>住宅</td>\n",
       "      <td>NaN</td>\n",
       "      <td>NaN</td>\n",
       "      <td>NaN</td>\n",
       "      <td>商業地域</td>\n",
       "      <td>80.0</td>\n",
       "      <td>700.0</td>\n",
       "      <td>2018年第３四半期</td>\n",
       "      <td>未改装</td>\n",
       "      <td>NaN</td>\n",
       "    </tr>\n",
       "    <tr>\n",
       "      <th>1</th>\n",
       "      <td>2</td>\n",
       "      <td>宅地(土地と建物)</td>\n",
       "      <td>13101</td>\n",
       "      <td>東京都</td>\n",
       "      <td>千代田区</td>\n",
       "      <td>飯田橋</td>\n",
       "      <td>飯田橋</td>\n",
       "      <td>3</td>\n",
       "      <td>250000000</td>\n",
       "      <td>NaN</td>\n",
       "      <td>...</td>\n",
       "      <td>事務所</td>\n",
       "      <td>南西</td>\n",
       "      <td>区道</td>\n",
       "      <td>8.0</td>\n",
       "      <td>商業地域</td>\n",
       "      <td>80.0</td>\n",
       "      <td>500.0</td>\n",
       "      <td>2018年第２四半期</td>\n",
       "      <td>NaN</td>\n",
       "      <td>NaN</td>\n",
       "    </tr>\n",
       "    <tr>\n",
       "      <th>2</th>\n",
       "      <td>3</td>\n",
       "      <td>中古マンション等</td>\n",
       "      <td>13101</td>\n",
       "      <td>東京都</td>\n",
       "      <td>千代田区</td>\n",
       "      <td>飯田橋</td>\n",
       "      <td>飯田橋</td>\n",
       "      <td>3</td>\n",
       "      <td>22000000</td>\n",
       "      <td>NaN</td>\n",
       "      <td>...</td>\n",
       "      <td>住宅</td>\n",
       "      <td>NaN</td>\n",
       "      <td>NaN</td>\n",
       "      <td>NaN</td>\n",
       "      <td>商業地域</td>\n",
       "      <td>80.0</td>\n",
       "      <td>700.0</td>\n",
       "      <td>2018年第２四半期</td>\n",
       "      <td>未改装</td>\n",
       "      <td>NaN</td>\n",
       "    </tr>\n",
       "    <tr>\n",
       "      <th>3</th>\n",
       "      <td>4</td>\n",
       "      <td>中古マンション等</td>\n",
       "      <td>13101</td>\n",
       "      <td>東京都</td>\n",
       "      <td>千代田区</td>\n",
       "      <td>飯田橋</td>\n",
       "      <td>飯田橋</td>\n",
       "      <td>1</td>\n",
       "      <td>69000000</td>\n",
       "      <td>NaN</td>\n",
       "      <td>...</td>\n",
       "      <td>住宅</td>\n",
       "      <td>NaN</td>\n",
       "      <td>NaN</td>\n",
       "      <td>NaN</td>\n",
       "      <td>商業地域</td>\n",
       "      <td>80.0</td>\n",
       "      <td>600.0</td>\n",
       "      <td>2018年第２四半期</td>\n",
       "      <td>未改装</td>\n",
       "      <td>NaN</td>\n",
       "    </tr>\n",
       "    <tr>\n",
       "      <th>4</th>\n",
       "      <td>5</td>\n",
       "      <td>中古マンション等</td>\n",
       "      <td>13101</td>\n",
       "      <td>東京都</td>\n",
       "      <td>千代田区</td>\n",
       "      <td>飯田橋</td>\n",
       "      <td>飯田橋</td>\n",
       "      <td>3</td>\n",
       "      <td>21000000</td>\n",
       "      <td>NaN</td>\n",
       "      <td>...</td>\n",
       "      <td>事務所</td>\n",
       "      <td>NaN</td>\n",
       "      <td>NaN</td>\n",
       "      <td>NaN</td>\n",
       "      <td>商業地域</td>\n",
       "      <td>80.0</td>\n",
       "      <td>700.0</td>\n",
       "      <td>2018年第２四半期</td>\n",
       "      <td>未改装</td>\n",
       "      <td>NaN</td>\n",
       "    </tr>\n",
       "  </tbody>\n",
       "</table>\n",
       "<p>5 rows × 29 columns</p>\n",
       "</div>"
      ],
      "text/plain": [
       "   No         種類  市区町村コード 都道府県名 市区町村名  地区名 最寄駅：名称 最寄駅：距離（分）   取引価格（総額）  坪単価  \\\n",
       "0   1   中古マンション等    13101   東京都  千代田区  飯田橋    飯田橋         4   13000000  NaN   \n",
       "1   2  宅地(土地と建物)    13101   東京都  千代田区  飯田橋    飯田橋         3  250000000  NaN   \n",
       "2   3   中古マンション等    13101   東京都  千代田区  飯田橋    飯田橋         3   22000000  NaN   \n",
       "3   4   中古マンション等    13101   東京都  千代田区  飯田橋    飯田橋         1   69000000  NaN   \n",
       "4   5   中古マンション等    13101   東京都  千代田区  飯田橋    飯田橋         3   21000000  NaN   \n",
       "\n",
       "   ... 今後の利用目的 前面道路：方位  前面道路：種類 前面道路：幅員（ｍ）  都市計画 建ぺい率（％） 容積率（％）        取引時点  \\\n",
       "0  ...      住宅     NaN      NaN        NaN  商業地域    80.0  700.0  2018年第３四半期   \n",
       "1  ...     事務所      南西       区道        8.0  商業地域    80.0  500.0  2018年第２四半期   \n",
       "2  ...      住宅     NaN      NaN        NaN  商業地域    80.0  700.0  2018年第２四半期   \n",
       "3  ...      住宅     NaN      NaN        NaN  商業地域    80.0  600.0  2018年第２四半期   \n",
       "4  ...     事務所     NaN      NaN        NaN  商業地域    80.0  700.0  2018年第２四半期   \n",
       "\n",
       "    改装 取引の事情等  \n",
       "0  未改装    NaN  \n",
       "1  NaN    NaN  \n",
       "2  未改装    NaN  \n",
       "3  未改装    NaN  \n",
       "4  未改装    NaN  \n",
       "\n",
       "[5 rows x 29 columns]"
      ]
     },
     "execution_count": 45,
     "metadata": {},
     "output_type": "execute_result"
    }
   ],
   "source": [
    "sample2=sample2.drop(columns=\"地域\")\n",
    "sample2.head()"
   ]
  },
  {
   "cell_type": "markdown",
   "metadata": {
    "id": "SzQ-RhKKf_7l"
   },
   "source": [
    "# **Quest 05: 欠損値に対処せよ**"
   ]
  },
  {
   "cell_type": "markdown",
   "metadata": {
    "id": "ZS1MZiVxgEkS"
   },
   "source": [
    "1. 変数sample2から先頭５行をhead関数を使って取り出し、変数tmpに\n",
    "代入せよ。\n"
   ]
  },
  {
   "cell_type": "code",
   "execution_count": 46,
   "metadata": {
    "id": "0fVv8tg5OmzZ"
   },
   "outputs": [],
   "source": [
    "tmp=sample2.head()"
   ]
  },
  {
   "cell_type": "markdown",
   "metadata": {
    "id": "2f_71aa5gGtt"
   },
   "source": [
    "2. head関数の結果から変数tmpに欠損があるかどうかを確認し、表示\n",
    "せよ。\n"
   ]
  },
  {
   "cell_type": "code",
   "execution_count": 47,
   "metadata": {
    "id": "dLojpZObOoO6"
   },
   "outputs": [
    {
     "data": {
      "text/plain": [
       "No            False\n",
       "種類            False\n",
       "市区町村コード       False\n",
       "都道府県名         False\n",
       "市区町村名         False\n",
       "地区名           False\n",
       "最寄駅：名称        False\n",
       "最寄駅：距離（分）     False\n",
       "取引価格（総額）      False\n",
       "坪単価            True\n",
       "間取り            True\n",
       "面積（㎡）         False\n",
       "取引価格（㎡単価）      True\n",
       "土地の形状          True\n",
       "間口             True\n",
       "延床面積（㎡）        True\n",
       "建築年           False\n",
       "建物の構造         False\n",
       "用途             True\n",
       "今後の利用目的       False\n",
       "前面道路：方位        True\n",
       "前面道路：種類        True\n",
       "前面道路：幅員（ｍ）     True\n",
       "都市計画          False\n",
       "建ぺい率（％）       False\n",
       "容積率（％）        False\n",
       "取引時点          False\n",
       "改装             True\n",
       "取引の事情等         True\n",
       "dtype: bool"
      ]
     },
     "execution_count": 47,
     "metadata": {},
     "output_type": "execute_result"
    }
   ],
   "source": [
    "tmp.isnull().any(axis=0)"
   ]
  },
  {
   "cell_type": "markdown",
   "metadata": {
    "id": "C2ZSCXTpgIs9"
   },
   "source": [
    "3. 1つでも欠損があればTrue、なければFalseを変数judgeに代入せよ。\n"
   ]
  },
  {
   "cell_type": "code",
   "execution_count": 48,
   "metadata": {
    "id": "krb4bpTHOpNI"
   },
   "outputs": [],
   "source": [
    "judge=True"
   ]
  },
  {
   "cell_type": "markdown",
   "metadata": {
    "id": "HS3M7741gLZI"
   },
   "source": [
    "# **Quest 06: 分析のための下処理１**\n"
   ]
  },
  {
   "cell_type": "markdown",
   "metadata": {
    "id": "XShbWYUfgPME"
   },
   "source": [
    "1. カラム\"No\"を消去して、sample2に再度代入せよ。\n"
   ]
  },
  {
   "cell_type": "code",
   "execution_count": 49,
   "metadata": {
    "id": "nlPLAl_ROqYT"
   },
   "outputs": [],
   "source": [
    "sample2=sample2.drop(columns=\"No\")\n"
   ]
  },
  {
   "cell_type": "markdown",
   "metadata": {
    "id": "iZLTDMbAgSVt"
   },
   "source": [
    "2. 各カラムにある欠損値の数を求めよ。\n"
   ]
  },
  {
   "cell_type": "code",
   "execution_count": 50,
   "metadata": {
    "id": "aU7y94SbOrSf"
   },
   "outputs": [
    {
     "name": "stdout",
     "output_type": "stream",
     "text": [
      "種類                0\n",
      "市区町村コード           0\n",
      "都道府県名             0\n",
      "市区町村名             0\n",
      "地区名               0\n",
      "最寄駅：名称          215\n",
      "最寄駅：距離（分）       287\n",
      "取引価格（総額）          0\n",
      "坪単価           49108\n",
      "間取り           30587\n",
      "面積（㎡）             0\n",
      "取引価格（㎡単価）     49108\n",
      "土地の形状         29213\n",
      "間口            31752\n",
      "延床面積（㎡）       39357\n",
      "建築年           11339\n",
      "建物の構造         11068\n",
      "用途            18208\n",
      "今後の利用目的        4875\n",
      "前面道路：方位       29198\n",
      "前面道路：種類       29537\n",
      "前面道路：幅員（ｍ）    29712\n",
      "都市計画            396\n",
      "建ぺい率（％）         571\n",
      "容積率（％）          571\n",
      "取引時点              0\n",
      "改装            32866\n",
      "取引の事情等        54517\n",
      "dtype: int64\n"
     ]
    }
   ],
   "source": [
    "print(sample2.isnull().sum())"
   ]
  },
  {
   "cell_type": "markdown",
   "metadata": {
    "id": "buK-9UM5VDQb"
   },
   "source": [
    "3. 用いる説明変数を以下のように指定し、変数data_selectedに代入せよ。また、その配列の形状を表示して確認せよ。\n",
    "\n",
    "\n",
    "```\n",
    "columns_name_list = [\"最寄駅：距離（分）\", \"間取り\", \"面積（㎡）\",\"建築年\", \"建物の構造\", \"建ぺい率（％）\", \"容積率（％）\", \"市区町村名\", \"取引価格（総額）\"]\n",
    "```\n",
    "\n",
    "\n"
   ]
  },
  {
   "cell_type": "code",
   "execution_count": 51,
   "metadata": {
    "id": "lCtLpaCoOuLG"
   },
   "outputs": [
    {
     "data": {
      "text/html": [
       "<div>\n",
       "<style scoped>\n",
       "    .dataframe tbody tr th:only-of-type {\n",
       "        vertical-align: middle;\n",
       "    }\n",
       "\n",
       "    .dataframe tbody tr th {\n",
       "        vertical-align: top;\n",
       "    }\n",
       "\n",
       "    .dataframe thead th {\n",
       "        text-align: right;\n",
       "    }\n",
       "</style>\n",
       "<table border=\"1\" class=\"dataframe\">\n",
       "  <thead>\n",
       "    <tr style=\"text-align: right;\">\n",
       "      <th></th>\n",
       "      <th>最寄駅：距離（分）</th>\n",
       "      <th>間取り</th>\n",
       "      <th>面積（㎡）</th>\n",
       "      <th>建築年</th>\n",
       "      <th>建物の構造</th>\n",
       "      <th>建ぺい率（％）</th>\n",
       "      <th>容積率（％）</th>\n",
       "      <th>市区町村名</th>\n",
       "      <th>取引価格（総額）</th>\n",
       "    </tr>\n",
       "  </thead>\n",
       "  <tbody>\n",
       "    <tr>\n",
       "      <th>0</th>\n",
       "      <td>4</td>\n",
       "      <td>１Ｋ</td>\n",
       "      <td>20</td>\n",
       "      <td>昭和57年</td>\n",
       "      <td>ＳＲＣ</td>\n",
       "      <td>80.0</td>\n",
       "      <td>700.0</td>\n",
       "      <td>千代田区</td>\n",
       "      <td>13000000</td>\n",
       "    </tr>\n",
       "    <tr>\n",
       "      <th>1</th>\n",
       "      <td>3</td>\n",
       "      <td>NaN</td>\n",
       "      <td>80</td>\n",
       "      <td>昭和61年</td>\n",
       "      <td>ＲＣ</td>\n",
       "      <td>80.0</td>\n",
       "      <td>500.0</td>\n",
       "      <td>千代田区</td>\n",
       "      <td>250000000</td>\n",
       "    </tr>\n",
       "    <tr>\n",
       "      <th>2</th>\n",
       "      <td>3</td>\n",
       "      <td>１Ｋ</td>\n",
       "      <td>30</td>\n",
       "      <td>昭和60年</td>\n",
       "      <td>ＳＲＣ</td>\n",
       "      <td>80.0</td>\n",
       "      <td>700.0</td>\n",
       "      <td>千代田区</td>\n",
       "      <td>22000000</td>\n",
       "    </tr>\n",
       "    <tr>\n",
       "      <th>3</th>\n",
       "      <td>1</td>\n",
       "      <td>２ＬＤＫ</td>\n",
       "      <td>70</td>\n",
       "      <td>昭和59年</td>\n",
       "      <td>ＳＲＣ</td>\n",
       "      <td>80.0</td>\n",
       "      <td>600.0</td>\n",
       "      <td>千代田区</td>\n",
       "      <td>69000000</td>\n",
       "    </tr>\n",
       "    <tr>\n",
       "      <th>4</th>\n",
       "      <td>3</td>\n",
       "      <td>１Ｋ</td>\n",
       "      <td>25</td>\n",
       "      <td>昭和60年</td>\n",
       "      <td>ＳＲＣ</td>\n",
       "      <td>80.0</td>\n",
       "      <td>700.0</td>\n",
       "      <td>千代田区</td>\n",
       "      <td>21000000</td>\n",
       "    </tr>\n",
       "    <tr>\n",
       "      <th>...</th>\n",
       "      <td>...</td>\n",
       "      <td>...</td>\n",
       "      <td>...</td>\n",
       "      <td>...</td>\n",
       "      <td>...</td>\n",
       "      <td>...</td>\n",
       "      <td>...</td>\n",
       "      <td>...</td>\n",
       "      <td>...</td>\n",
       "    </tr>\n",
       "    <tr>\n",
       "      <th>58527</th>\n",
       "      <td>NaN</td>\n",
       "      <td>NaN</td>\n",
       "      <td>330</td>\n",
       "      <td>NaN</td>\n",
       "      <td>NaN</td>\n",
       "      <td>70.0</td>\n",
       "      <td>200.0</td>\n",
       "      <td>小笠原村</td>\n",
       "      <td>10000000</td>\n",
       "    </tr>\n",
       "    <tr>\n",
       "      <th>58528</th>\n",
       "      <td>NaN</td>\n",
       "      <td>NaN</td>\n",
       "      <td>1200</td>\n",
       "      <td>NaN</td>\n",
       "      <td>NaN</td>\n",
       "      <td>70.0</td>\n",
       "      <td>200.0</td>\n",
       "      <td>小笠原村</td>\n",
       "      <td>1700000</td>\n",
       "    </tr>\n",
       "    <tr>\n",
       "      <th>58529</th>\n",
       "      <td>NaN</td>\n",
       "      <td>NaN</td>\n",
       "      <td>350</td>\n",
       "      <td>NaN</td>\n",
       "      <td>NaN</td>\n",
       "      <td>70.0</td>\n",
       "      <td>200.0</td>\n",
       "      <td>小笠原村</td>\n",
       "      <td>11000000</td>\n",
       "    </tr>\n",
       "    <tr>\n",
       "      <th>58530</th>\n",
       "      <td>NaN</td>\n",
       "      <td>NaN</td>\n",
       "      <td>110</td>\n",
       "      <td>NaN</td>\n",
       "      <td>NaN</td>\n",
       "      <td>70.0</td>\n",
       "      <td>200.0</td>\n",
       "      <td>小笠原村</td>\n",
       "      <td>3500000</td>\n",
       "    </tr>\n",
       "    <tr>\n",
       "      <th>58531</th>\n",
       "      <td>NaN</td>\n",
       "      <td>NaN</td>\n",
       "      <td>2000㎡以上</td>\n",
       "      <td>NaN</td>\n",
       "      <td>NaN</td>\n",
       "      <td>70.0</td>\n",
       "      <td>200.0</td>\n",
       "      <td>小笠原村</td>\n",
       "      <td>10000000</td>\n",
       "    </tr>\n",
       "  </tbody>\n",
       "</table>\n",
       "<p>58532 rows × 9 columns</p>\n",
       "</div>"
      ],
      "text/plain": [
       "      最寄駅：距離（分）   間取り    面積（㎡）    建築年 建物の構造  建ぺい率（％）  容積率（％） 市区町村名   取引価格（総額）\n",
       "0             4    １Ｋ       20  昭和57年   ＳＲＣ     80.0   700.0  千代田区   13000000\n",
       "1             3   NaN       80  昭和61年    ＲＣ     80.0   500.0  千代田区  250000000\n",
       "2             3    １Ｋ       30  昭和60年   ＳＲＣ     80.0   700.0  千代田区   22000000\n",
       "3             1  ２ＬＤＫ       70  昭和59年   ＳＲＣ     80.0   600.0  千代田区   69000000\n",
       "4             3    １Ｋ       25  昭和60年   ＳＲＣ     80.0   700.0  千代田区   21000000\n",
       "...         ...   ...      ...    ...   ...      ...     ...   ...        ...\n",
       "58527       NaN   NaN      330    NaN   NaN     70.0   200.0  小笠原村   10000000\n",
       "58528       NaN   NaN     1200    NaN   NaN     70.0   200.0  小笠原村    1700000\n",
       "58529       NaN   NaN      350    NaN   NaN     70.0   200.0  小笠原村   11000000\n",
       "58530       NaN   NaN      110    NaN   NaN     70.0   200.0  小笠原村    3500000\n",
       "58531       NaN   NaN  2000㎡以上    NaN   NaN     70.0   200.0  小笠原村   10000000\n",
       "\n",
       "[58532 rows x 9 columns]"
      ]
     },
     "execution_count": 51,
     "metadata": {},
     "output_type": "execute_result"
    }
   ],
   "source": [
    "data_selected=sample2[[\"最寄駅：距離（分）\", \"間取り\", \"面積（㎡）\",\"建築年\", \"建物の構造\", \"建ぺい率（％）\", \"容積率（％）\", \"市区町村名\", \"取引価格（総額）\"]]\n",
    "data_selected"
   ]
  },
  {
   "cell_type": "markdown",
   "metadata": {
    "id": "XEWDMQN0f4zM"
   },
   "source": [
    "4. data_selectedのカラム\"建ぺい率（％）\"の欠損値をそのカラムの平均値で埋め、\"建ぺい率（％）\"のカラムに欠損値がないことを表示させ確認せよ。"
   ]
  },
  {
   "cell_type": "code",
   "execution_count": 52,
   "metadata": {
    "id": "UdM5dvc6OvXG"
   },
   "outputs": [
    {
     "data": {
      "text/plain": [
       "0        80.0\n",
       "1        80.0\n",
       "2        80.0\n",
       "3        80.0\n",
       "4        80.0\n",
       "         ... \n",
       "58527    70.0\n",
       "58528    70.0\n",
       "58529    70.0\n",
       "58530    70.0\n",
       "58531    70.0\n",
       "Name: 建ぺい率（％）, Length: 58532, dtype: float64"
      ]
     },
     "execution_count": 52,
     "metadata": {},
     "output_type": "execute_result"
    }
   ],
   "source": [
    "kenpei_mean=data_selected[\"建ぺい率（％）\"].mean()\n",
    "data_selected[\"建ぺい率（％）\"].fillna(kenpei_mean)"
   ]
  },
  {
   "cell_type": "markdown",
   "metadata": {
    "id": "lu30qnrtVRu7"
   },
   "source": [
    "5. data_selectedについて、一つでもNANデータを含む行を削除し、変数data_selected_dropnaに代入し、\n",
    "１行目のデータを表示させよ。"
   ]
  },
  {
   "cell_type": "code",
   "execution_count": 53,
   "metadata": {
    "id": "YAmupM5uOwR9"
   },
   "outputs": [
    {
     "data": {
      "text/html": [
       "<div>\n",
       "<style scoped>\n",
       "    .dataframe tbody tr th:only-of-type {\n",
       "        vertical-align: middle;\n",
       "    }\n",
       "\n",
       "    .dataframe tbody tr th {\n",
       "        vertical-align: top;\n",
       "    }\n",
       "\n",
       "    .dataframe thead th {\n",
       "        text-align: right;\n",
       "    }\n",
       "</style>\n",
       "<table border=\"1\" class=\"dataframe\">\n",
       "  <thead>\n",
       "    <tr style=\"text-align: right;\">\n",
       "      <th></th>\n",
       "      <th>最寄駅：距離（分）</th>\n",
       "      <th>間取り</th>\n",
       "      <th>面積（㎡）</th>\n",
       "      <th>建築年</th>\n",
       "      <th>建物の構造</th>\n",
       "      <th>建ぺい率（％）</th>\n",
       "      <th>容積率（％）</th>\n",
       "      <th>市区町村名</th>\n",
       "      <th>取引価格（総額）</th>\n",
       "    </tr>\n",
       "  </thead>\n",
       "  <tbody>\n",
       "    <tr>\n",
       "      <th>0</th>\n",
       "      <td>4</td>\n",
       "      <td>１Ｋ</td>\n",
       "      <td>20</td>\n",
       "      <td>昭和57年</td>\n",
       "      <td>ＳＲＣ</td>\n",
       "      <td>80.0</td>\n",
       "      <td>700.0</td>\n",
       "      <td>千代田区</td>\n",
       "      <td>13000000</td>\n",
       "    </tr>\n",
       "  </tbody>\n",
       "</table>\n",
       "</div>"
      ],
      "text/plain": [
       "  最寄駅：距離（分） 間取り 面積（㎡）    建築年 建物の構造  建ぺい率（％）  容積率（％） 市区町村名  取引価格（総額）\n",
       "0         4  １Ｋ    20  昭和57年   ＳＲＣ     80.0   700.0  千代田区  13000000"
      ]
     },
     "execution_count": 53,
     "metadata": {},
     "output_type": "execute_result"
    }
   ],
   "source": [
    "data_selected_dropna=data_selected.dropna()\n",
    "data_selected_dropna.head(1)"
   ]
  },
  {
   "cell_type": "markdown",
   "metadata": {
    "id": "DxzC_skKgU1L"
   },
   "source": [
    "# **Quest 07: 分析のための下処理２（ダミー変数）**\n",
    "\n"
   ]
  },
  {
   "cell_type": "markdown",
   "metadata": {
    "id": "JHD9l5aFgWzF"
   },
   "source": [
    "1. 変数columns_name_listの中から、ダミー変数化するものを全て選\n",
    "び、変数dummy_listに代入せよ。\n"
   ]
  },
  {
   "cell_type": "code",
   "execution_count": 72,
   "metadata": {
    "id": "3bGV9cyOOxtU"
   },
   "outputs": [],
   "source": [
    "dummy_list=[\"建物の構造\",\"市区町村名\",\"間取り\"]"
   ]
  },
  {
   "cell_type": "markdown",
   "metadata": {
    "id": "mXI8CT7GgXXs"
   },
   "source": [
    "2. ダミー変数化しないもののを全て、変数columns_name_listに再び代入し、data_selected_dropnaにダミー変数を追加せよ。ダミー変数を追加した後、１行目を表示させて追加されたことを確認せよ。\n"
   ]
  },
  {
   "cell_type": "code",
   "execution_count": 77,
   "metadata": {
    "id": "hxpgP8gvOyi9"
   },
   "outputs": [
    {
     "data": {
      "text/html": [
       "<div>\n",
       "<style scoped>\n",
       "    .dataframe tbody tr th:only-of-type {\n",
       "        vertical-align: middle;\n",
       "    }\n",
       "\n",
       "    .dataframe tbody tr th {\n",
       "        vertical-align: top;\n",
       "    }\n",
       "\n",
       "    .dataframe thead th {\n",
       "        text-align: right;\n",
       "    }\n",
       "</style>\n",
       "<table border=\"1\" class=\"dataframe\">\n",
       "  <thead>\n",
       "    <tr style=\"text-align: right;\">\n",
       "      <th></th>\n",
       "      <th>最寄駅：距離（分）</th>\n",
       "      <th>面積（㎡）</th>\n",
       "      <th>建築年</th>\n",
       "      <th>建ぺい率（％）</th>\n",
       "      <th>容積率（％）</th>\n",
       "      <th>取引価格（総額）</th>\n",
       "      <th>建物の構造_軽量鉄骨造</th>\n",
       "      <th>建物の構造_鉄骨造</th>\n",
       "      <th>建物の構造_ＲＣ</th>\n",
       "      <th>建物の構造_ＲＣ、鉄骨造</th>\n",
       "      <th>...</th>\n",
       "      <th>間取り_３Ｋ</th>\n",
       "      <th>間取り_３ＬＤＫ</th>\n",
       "      <th>間取り_３ＬＤＫ＋Ｋ</th>\n",
       "      <th>間取り_３ＬＤＫ＋Ｓ</th>\n",
       "      <th>間取り_３ＬＫ</th>\n",
       "      <th>間取り_４ＤＫ</th>\n",
       "      <th>間取り_４Ｋ</th>\n",
       "      <th>間取り_４ＬＤＫ</th>\n",
       "      <th>間取り_４ＬＤＫ＋Ｓ</th>\n",
       "      <th>間取り_５ＬＤＫ</th>\n",
       "    </tr>\n",
       "  </thead>\n",
       "  <tbody>\n",
       "    <tr>\n",
       "      <th>0</th>\n",
       "      <td>4</td>\n",
       "      <td>20</td>\n",
       "      <td>昭和57年</td>\n",
       "      <td>80.0</td>\n",
       "      <td>700.0</td>\n",
       "      <td>13000000</td>\n",
       "      <td>0</td>\n",
       "      <td>0</td>\n",
       "      <td>0</td>\n",
       "      <td>0</td>\n",
       "      <td>...</td>\n",
       "      <td>0</td>\n",
       "      <td>0</td>\n",
       "      <td>0</td>\n",
       "      <td>0</td>\n",
       "      <td>0</td>\n",
       "      <td>0</td>\n",
       "      <td>0</td>\n",
       "      <td>0</td>\n",
       "      <td>0</td>\n",
       "      <td>0</td>\n",
       "    </tr>\n",
       "  </tbody>\n",
       "</table>\n",
       "<p>1 rows × 90 columns</p>\n",
       "</div>"
      ],
      "text/plain": [
       "  最寄駅：距離（分） 面積（㎡）    建築年  建ぺい率（％）  容積率（％）  取引価格（総額）  建物の構造_軽量鉄骨造  建物の構造_鉄骨造  \\\n",
       "0         4    20  昭和57年     80.0   700.0  13000000            0          0   \n",
       "\n",
       "   建物の構造_ＲＣ  建物の構造_ＲＣ、鉄骨造  ...  間取り_３Ｋ  間取り_３ＬＤＫ  間取り_３ＬＤＫ＋Ｋ  間取り_３ＬＤＫ＋Ｓ  \\\n",
       "0         0             0  ...       0         0           0           0   \n",
       "\n",
       "   間取り_３ＬＫ  間取り_４ＤＫ  間取り_４Ｋ  間取り_４ＬＤＫ  間取り_４ＬＤＫ＋Ｓ  間取り_５ＬＤＫ  \n",
       "0        0        0       0         0           0         0  \n",
       "\n",
       "[1 rows x 90 columns]"
      ]
     },
     "execution_count": 77,
     "metadata": {},
     "output_type": "execute_result"
    }
   ],
   "source": [
    "column_name_list=[\"最寄駅：距離（分）\", \"面積（㎡）\",\"建築年\",  \"建ぺい率（％）\", \"容積率（％）\",  \"取引価格（総額）\"]\n",
    "dummys=pd.get_dummies(data_selected_dropna[dummy_list])\n",
    "pd.concat([data_selected_dropna[column_name_list],dummys],1,\"inner\").head(1)\n",
    "\n"
   ]
  },
  {
   "cell_type": "markdown",
   "metadata": {
    "id": "meg8_Jwpc8ui"
   },
   "source": [
    "3.\"面積（㎡）\"のデータを数値データに変換し、それを表示させ確認せよ。\n"
   ]
  },
  {
   "cell_type": "code",
   "execution_count": 56,
   "metadata": {
    "id": "8ODjM6TDOzjX"
   },
   "outputs": [
    {
     "data": {
      "text/plain": [
       "0        20\n",
       "2        30\n",
       "3        70\n",
       "4        25\n",
       "5        70\n",
       "         ..\n",
       "58187    80\n",
       "58188    75\n",
       "58189    65\n",
       "58266    40\n",
       "58289    40\n",
       "Name: 面積（㎡）, Length: 26775, dtype: int64"
      ]
     },
     "execution_count": 56,
     "metadata": {},
     "output_type": "execute_result"
    }
   ],
   "source": [
    "data_selected_dropna[\"面積（㎡）\"].astype(int)"
   ]
  },
  {
   "cell_type": "code",
   "execution_count": null,
   "metadata": {},
   "outputs": [],
   "source": []
  },
  {
   "cell_type": "code",
   "execution_count": null,
   "metadata": {},
   "outputs": [],
   "source": []
  },
  {
   "cell_type": "code",
   "execution_count": null,
   "metadata": {},
   "outputs": [],
   "source": []
  },
  {
   "cell_type": "code",
   "execution_count": null,
   "metadata": {},
   "outputs": [],
   "source": []
  }
 ],
 "metadata": {
  "colab": {
   "collapsed_sections": [],
   "name": "Stage1解答用紙.ipynb",
   "provenance": [],
   "toc_visible": true
  },
  "kernelspec": {
   "display_name": "Python 3",
   "language": "python",
   "name": "python3"
  },
  "language_info": {
   "codemirror_mode": {
    "name": "ipython",
    "version": 3
   },
   "file_extension": ".py",
   "mimetype": "text/x-python",
   "name": "python",
   "nbconvert_exporter": "python",
   "pygments_lexer": "ipython3",
   "version": "3.8.3"
  }
 },
 "nbformat": 4,
 "nbformat_minor": 1
}
